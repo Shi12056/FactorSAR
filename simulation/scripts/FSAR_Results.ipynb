{
 "cells": [
  {
   "cell_type": "markdown",
   "id": "5a5f6cfd-823c-4859-81f5-f38bd3707ab1",
   "metadata": {
    "tags": []
   },
   "source": [
    "### This notebook is used to visualize results. This leads to Figure 1, Figure 2 and Table 1."
   ]
  },
  {
   "cell_type": "code",
   "execution_count": 1,
   "id": "509b64b4-4b97-40a1-a328-6071e7735b54",
   "metadata": {},
   "outputs": [],
   "source": [
    "# Importing necessary packages\n",
    "import pandas as pd\n",
    "import sys,codecs\n",
    "import numpy as np\n",
    "import re\n",
    "import os\n",
    "import matplotlib.pyplot as plt\n",
    "import seaborn as sns \n",
    "import scipy.stats as st\n",
    "import collections\n",
    "import random\n",
    "import warnings\n",
    "warnings.filterwarnings(\"ignore\")"
   ]
  },
  {
   "cell_type": "code",
   "execution_count": 2,
   "id": "f72d76f3-67d9-4221-a9bb-185998e21c93",
   "metadata": {
    "tags": []
   },
   "outputs": [],
   "source": [
    "n = [500,1000,1500]\n",
    "p = [50,100,200]"
   ]
  },
  {
   "cell_type": "markdown",
   "id": "c46c2bbf-8cae-4a84-997b-e44fca83640f",
   "metadata": {},
   "source": [
    "************ Results ************"
   ]
  },
  {
   "cell_type": "markdown",
   "id": "c1fb5269-0d6a-4194-a96a-57d37a804260",
   "metadata": {},
   "source": [
    "### Loading the results obtained from simulation experiments -- Different networks and settings"
   ]
  },
  {
   "cell_type": "code",
   "execution_count": 3,
   "id": "2ca4c2d7-bf19-483b-ad78-446d4d8dd503",
   "metadata": {
    "tags": []
   },
   "outputs": [],
   "source": [
    "##### Network1 LSM \n",
    "rho_lsm_n500_p50 = np.array(pd.read_csv(f\"../results/Results_LSM_02/n{n[0]}_p{p[0]}_B500/rho_true_n{n[0]}_p{p[0]}.csv\"))\n",
    "rho_lsm_n500_p100 = np.array(pd.read_csv(f\"../results/Results_LSM_02/n{n[0]}_p{p[1]}_B500/rho_true_n{n[0]}_p{p[1]}.csv\"))\n",
    "rho_lsm_n500_p200 = np.array(pd.read_csv(f\"../results/Results_LSM_02/n{n[0]}_p{p[2]}_B500/rho_true_n{n[0]}_p{p[2]}.csv\"))\n",
    "rho_lsm_n1000_p50 = np.array(pd.read_csv(f\"../results/Results_LSM_02/n{n[1]}_p{p[0]}_B500/rho_true_n{n[1]}_p{p[0]}.csv\"))\n",
    "rho_lsm_n1000_p100 = np.array(pd.read_csv(f\"../results/Results_LSM_02/n{n[1]}_p{p[1]}_B500/rho_true_n{n[1]}_p{p[1]}.csv\"))\n",
    "rho_lsm_n1000_p200 = np.array(pd.read_csv(f\"../results/Results_LSM_02/n{n[1]}_p{p[2]}_B500/rho_true_n{n[1]}_p{p[2]}.csv\"))\n",
    "rho_lsm_n1500_p50 = np.array(pd.read_csv(f\"../results/Results_LSM_02/n{n[2]}_p{p[0]}_B500/rho_true_n{n[2]}_p{p[0]}.csv\"))\n",
    "rho_lsm_n1500_p100 = np.array(pd.read_csv(f\"../results/Results_LSM_02/n{n[2]}_p{p[1]}_B500/rho_true_n{n[2]}_p{p[1]}.csv\"))\n",
    "rho_lsm_n1500_p200 = np.array(pd.read_csv(f\"../results/Results_LSM_02/n{n[2]}_p{p[2]}_B500/rho_true_n{n[2]}_p{p[2]}.csv\"))\n",
    "\n",
    "BB = 500\n",
    "theta_hat_lsm_n500_p50 = np.zeros((BB,3,50))\n",
    "theta_hat_lsm_n500_p100 = np.zeros((BB,3,100))\n",
    "theta_hat_lsm_n500_p200 = np.zeros((BB,3,200))\n",
    "theta_hat_lsm_n1000_p50 = np.zeros((BB,3,50))\n",
    "theta_hat_lsm_n1000_p100 = np.zeros((BB,3,100))\n",
    "theta_hat_lsm_n1000_p200 = np.zeros((BB,3,200))\n",
    "theta_hat_lsm_n1500_p50 = np.zeros((BB,3,50))\n",
    "theta_hat_lsm_n1500_p100 = np.zeros((BB,3,100))\n",
    "theta_hat_lsm_n1500_p200 = np.zeros((BB,3,200))\n",
    "\n",
    "for b in range(BB):\n",
    "    theta_hat_lsm_n500_p50[b,:,:] = (np.array(pd.read_csv(f\"../results/Results_LSM_02/n{n[0]}_p{p[0]}_B500/theta_hat_LSM_n{n[0]}_p{p[0]}_\"+str(b)+'_.csv')))[:3,:]\n",
    "    theta_hat_lsm_n500_p100[b,:,:] = (np.array(pd.read_csv(f\"../results/Results_LSM_02/n{n[0]}_p{p[1]}_B500/theta_hat_LSM_n{n[0]}_p{p[1]}_\"+str(b)+'_.csv')))[:3,:]\n",
    "    theta_hat_lsm_n500_p200[b,:,:] = (np.array(pd.read_csv(f\"../results/Results_LSM_02/n{n[0]}_p{p[2]}_B500/theta_hat_LSM_n{n[0]}_p{p[2]}_\"+str(b)+'_.csv')))[:3,:]\n",
    "    theta_hat_lsm_n1000_p50[b,:,:] = (np.array(pd.read_csv(f\"../results/Results_LSM_02/n{n[1]}_p{p[0]}_B500/theta_hat_LSM_n{n[1]}_p{p[0]}_\"+str(b)+'_.csv')))[:3,:]\n",
    "    theta_hat_lsm_n1000_p100[b,:,:] = (np.array(pd.read_csv(f\"../results/Results_LSM_02/n{n[1]}_p{p[1]}_B500/theta_hat_LSM_n{n[1]}_p{p[1]}_\"+str(b)+'_.csv')))[:3,:]\n",
    "    theta_hat_lsm_n1000_p200[b,:,:] = (np.array(pd.read_csv(f\"../results/Results_LSM_02/n{n[1]}_p{p[2]}_B500/theta_hat_LSM_n{n[1]}_p{p[2]}_\"+str(b)+'_.csv')))[:3,:]\n",
    "    theta_hat_lsm_n1500_p50[b,:,:] = (np.array(pd.read_csv(f\"../results/Results_LSM_02/n{n[2]}_p{p[0]}_B500/theta_hat_LSM_n{n[2]}_p{p[0]}_\"+str(b)+'_.csv')))[:3,:]\n",
    "    theta_hat_lsm_n1500_p100[b,:,:] = (np.array(pd.read_csv(f\"../results/Results_LSM_02/n{n[2]}_p{p[1]}_B500/theta_hat_LSM_n{n[2]}_p{p[1]}_\"+str(b)+'_.csv')))[:3,:]\n",
    "    theta_hat_lsm_n1500_p200[b,:,:] = (np.array(pd.read_csv(f\"../results/Results_LSM_02/n{n[2]}_p{p[2]}_B500/theta_hat_LSM_n{n[2]}_p{p[2]}_\"+str(b)+'_.csv')))[:3,:]"
   ]
  },
  {
   "cell_type": "code",
   "execution_count": 4,
   "id": "295b8f72-7b07-49bf-b426-d529667c4333",
   "metadata": {
    "tags": []
   },
   "outputs": [],
   "source": [
    "indd = np.where(theta_hat_lsm_n500_p50==0)\n",
    "theta_hat_lsm_n500_p50[indd[0],indd[1],indd[2]] = np.nan\n",
    "indd = np.where(theta_hat_lsm_n500_p100==0)\n",
    "theta_hat_lsm_n500_p100[indd[0],indd[1],indd[2]] = np.nan\n",
    "indd = np.where(theta_hat_lsm_n500_p200==0)\n",
    "theta_hat_lsm_n500_p200[indd[0],indd[1],indd[2]] = np.nan\n",
    "indd = np.where(theta_hat_lsm_n1000_p50==0)\n",
    "theta_hat_lsm_n1000_p50[indd[0],indd[1],indd[2]] = np.nan\n",
    "indd = np.where(theta_hat_lsm_n1000_p100==0)\n",
    "theta_hat_lsm_n1000_p100[indd[0],indd[1],indd[2]] = np.nan\n",
    "indd = np.where(theta_hat_lsm_n1000_p200==0)\n",
    "theta_hat_lsm_n1000_p200[indd[0],indd[1],indd[2]] = np.nan\n",
    "indd = np.where(theta_hat_lsm_n1500_p50==0)\n",
    "theta_hat_lsm_n1500_p50[indd[0],indd[1],indd[2]] = np.nan\n",
    "indd = np.where(theta_hat_lsm_n1500_p100==0)\n",
    "theta_hat_lsm_n1500_p100[indd[0],indd[1],indd[2]] = np.nan\n",
    "indd = np.where(theta_hat_lsm_n1500_p200==0)\n",
    "theta_hat_lsm_n1500_p200[indd[0],indd[1],indd[2]] = np.nan"
   ]
  },
  {
   "cell_type": "code",
   "execution_count": 5,
   "id": "b8fed4d5",
   "metadata": {
    "tags": []
   },
   "outputs": [],
   "source": [
    "#cmle uniform consistency\n",
    "rho_cmle_maxerr_lsm = np.zeros((BB,9))\n",
    "rho_cmle_maxerr_lsm[:,0] = np.nanmax(abs(theta_hat_lsm_n500_p50[:,0,:]-((rho_lsm_n500_p50@np.ones((1,BB))).T)[:,:]),1)\n",
    "rho_cmle_maxerr_lsm[:,1] = np.nanmax(abs(theta_hat_lsm_n1000_p50[:,0,:]-((rho_lsm_n1000_p50@np.ones((1,BB))).T)[:,:]),1)\n",
    "rho_cmle_maxerr_lsm[:,2] = np.nanmax(abs(theta_hat_lsm_n1500_p50[:,0,:]-((rho_lsm_n1500_p50@np.ones((1,BB))).T)[:,:]),1)\n",
    "\n",
    "rho_cmle_maxerr_lsm[:,3] = np.nanmax(abs(theta_hat_lsm_n500_p100[:,0,:]-((rho_lsm_n500_p100@np.ones((1,BB))).T)[:,:]),1)\n",
    "rho_cmle_maxerr_lsm[:,4] = np.nanmax(abs(theta_hat_lsm_n1000_p100[:,0,:]-((rho_lsm_n1000_p100@np.ones((1,BB))).T)[:,:]),1)\n",
    "rho_cmle_maxerr_lsm[:,5] = np.nanmax(abs(theta_hat_lsm_n1500_p100[:,0,:]-((rho_lsm_n1500_p100@np.ones((1,BB))).T)[:,:]),1)\n",
    "\n",
    "rho_cmle_maxerr_lsm[:,6] = np.nanmax(abs(theta_hat_lsm_n500_p200[:,0,:]-((rho_lsm_n500_p200@np.ones((1,BB))).T)[:,:]),1)\n",
    "rho_cmle_maxerr_lsm[:,7] = np.nanmax(abs(theta_hat_lsm_n1000_p200[:,0,:]-((rho_lsm_n1000_p200@np.ones((1,BB))).T)[:,:]),1)\n",
    "rho_cmle_maxerr_lsm[:,8] = np.nanmax(abs(theta_hat_lsm_n1500_p200[:,0,:]-((rho_lsm_n1500_p200@np.ones((1,BB))).T)[:,:]),1)"
   ]
  },
  {
   "cell_type": "code",
   "execution_count": 6,
   "id": "9acd5f4a",
   "metadata": {
    "tags": []
   },
   "outputs": [],
   "source": [
    "# Network2 Block\n",
    "rho_Block_n500_p50 = np.array(pd.read_csv(f\"../results/Results_Block_02/n{n[0]}_p{p[0]}_B500/rho_true_n{n[0]}_p{p[0]}.csv\"))\n",
    "rho_Block_n500_p100 = np.array(pd.read_csv(f\"../results/Results_Block_02/n{n[0]}_p{p[1]}_B500/rho_true_n{n[0]}_p{p[1]}.csv\"))\n",
    "rho_Block_n500_p200 = np.array(pd.read_csv(f\"../results/Results_Block_02/n{n[0]}_p{p[2]}_B500/rho_true_n{n[0]}_p{p[2]}.csv\"))\n",
    "rho_Block_n1000_p50 = np.array(pd.read_csv(f\"../results/Results_Block_02/n{n[1]}_p{p[0]}_B500/rho_true_n{n[1]}_p{p[0]}.csv\"))\n",
    "rho_Block_n1000_p100 = np.array(pd.read_csv(f\"../results/Results_Block_02/n{n[1]}_p{p[1]}_B500/rho_true_n{n[1]}_p{p[1]}.csv\"))\n",
    "rho_Block_n1000_p200 = np.array(pd.read_csv(f\"../results/Results_Block_02/n{n[1]}_p{p[2]}_B500/rho_true_n{n[1]}_p{p[2]}.csv\"))\n",
    "rho_Block_n1500_p50 = np.array(pd.read_csv(f\"../results/Results_Block_02/n{n[2]}_p{p[0]}_B500/rho_true_n{n[2]}_p{p[0]}.csv\"))\n",
    "rho_Block_n1500_p100 = np.array(pd.read_csv(f\"../results/Results_Block_02/n{n[2]}_p{p[1]}_B500/rho_true_n{n[2]}_p{p[1]}.csv\"))\n",
    "rho_Block_n1500_p200 = np.array(pd.read_csv(f\"../results/Results_Block_02/n{n[2]}_p{p[2]}_B500/rho_true_n{n[2]}_p{p[2]}.csv\"))\n",
    "\n",
    "BB = 500\n",
    "theta_hat_Block_n500_p50 = np.zeros((BB,3,50))\n",
    "theta_hat_Block_n500_p100 = np.zeros((BB,3,100))\n",
    "theta_hat_Block_n500_p200 = np.zeros((BB,3,200))\n",
    "theta_hat_Block_n1000_p50 = np.zeros((BB,3,50))\n",
    "theta_hat_Block_n1000_p100 = np.zeros((BB,3,100))\n",
    "theta_hat_Block_n1000_p200 = np.zeros((BB,3,200))\n",
    "theta_hat_Block_n1500_p50 = np.zeros((BB,3,50))\n",
    "theta_hat_Block_n1500_p100 = np.zeros((BB,3,100))\n",
    "theta_hat_Block_n1500_p200 = np.zeros((BB,3,200))\n",
    "\n",
    "for b in range(BB):\n",
    "    theta_hat_Block_n500_p50[b,:,:] = (np.array(pd.read_csv(f\"../results/Results_Block_02/n{n[0]}_p{p[0]}_B500/theta_hat_Block_n{n[0]}_p{p[0]}_\"+str(b)+'_.csv')))[:3,:]\n",
    "    theta_hat_Block_n500_p100[b,:,:] = (np.array(pd.read_csv(f\"../results/Results_Block_02/n{n[0]}_p{p[1]}_B500/theta_hat_Block_n{n[0]}_p{p[1]}_\"+str(b)+'_.csv')))[:3,:]\n",
    "    theta_hat_Block_n500_p200[b,:,:] = (np.array(pd.read_csv(f\"../results/Results_Block_02/n{n[0]}_p{p[2]}_B500/theta_hat_Block_n{n[0]}_p{p[2]}_\"+str(b)+'_.csv')))[:3,:]\n",
    "    theta_hat_Block_n1000_p50[b,:,:] = (np.array(pd.read_csv(f\"../results/Results_Block_02/n{n[1]}_p{p[0]}_B500/theta_hat_Block_n{n[1]}_p{p[0]}_\"+str(b)+'_.csv')))[:3,:]\n",
    "    theta_hat_Block_n1000_p100[b,:,:] = (np.array(pd.read_csv(f\"../results/Results_Block_02/n{n[1]}_p{p[1]}_B500/theta_hat_Block_n{n[1]}_p{p[1]}_\"+str(b)+'_.csv')))[:3,:]\n",
    "    theta_hat_Block_n1000_p200[b,:,:] = (np.array(pd.read_csv(f\"../results/Results_Block_02/n{n[1]}_p{p[2]}_B500/theta_hat_Block_n{n[1]}_p{p[2]}_\"+str(b)+'_.csv')))[:3,:]\n",
    "    theta_hat_Block_n1500_p50[b,:,:] = (np.array(pd.read_csv(f\"../results/Results_Block_02/n{n[2]}_p{p[0]}_B500/theta_hat_Block_n{n[2]}_p{p[0]}_\"+str(b)+'_.csv')))[:3,:]\n",
    "    theta_hat_Block_n1500_p100[b,:,:] = (np.array(pd.read_csv(f\"../results/Results_Block_02/n{n[2]}_p{p[1]}_B500/theta_hat_Block_n{n[2]}_p{p[1]}_\"+str(b)+'_.csv')))[:3,:]\n",
    "    theta_hat_Block_n1500_p200[b,:,:] = (np.array(pd.read_csv(f\"../results/Results_Block_02/n{n[2]}_p{p[2]}_B500/theta_hat_Block_n{n[2]}_p{p[2]}_\"+str(b)+'_.csv')))[:3,:]"
   ]
  },
  {
   "cell_type": "code",
   "execution_count": 7,
   "id": "253ca5c7-efa9-4026-bf89-79628ccefc19",
   "metadata": {
    "tags": []
   },
   "outputs": [],
   "source": [
    "indd = np.where(theta_hat_Block_n500_p50==0)\n",
    "theta_hat_Block_n500_p50[indd[0],indd[1],indd[2]] = np.nan\n",
    "indd = np.where(theta_hat_Block_n500_p100==0)\n",
    "theta_hat_Block_n500_p100[indd[0],indd[1],indd[2]] = np.nan\n",
    "indd = np.where(theta_hat_Block_n500_p200==0)\n",
    "theta_hat_Block_n500_p200[indd[0],indd[1],indd[2]] = np.nan\n",
    "indd = np.where(theta_hat_Block_n1000_p50==0)\n",
    "theta_hat_Block_n1000_p50[indd[0],indd[1],indd[2]] = np.nan\n",
    "indd = np.where(theta_hat_Block_n1000_p100==0)\n",
    "theta_hat_Block_n1000_p100[indd[0],indd[1],indd[2]] = np.nan\n",
    "indd = np.where(theta_hat_Block_n1000_p200==0)\n",
    "theta_hat_Block_n1000_p200[indd[0],indd[1],indd[2]] = np.nan\n",
    "indd = np.where(theta_hat_Block_n1500_p50==0)\n",
    "theta_hat_Block_n1500_p50[indd[0],indd[1],indd[2]] = np.nan\n",
    "indd = np.where(theta_hat_Block_n1500_p100==0)\n",
    "theta_hat_Block_n1500_p100[indd[0],indd[1],indd[2]] = np.nan\n",
    "indd = np.where(theta_hat_Block_n1500_p200==0)\n",
    "theta_hat_Block_n1500_p200[indd[0],indd[1],indd[2]] = np.nan"
   ]
  },
  {
   "cell_type": "code",
   "execution_count": 8,
   "id": "cebe1b50",
   "metadata": {
    "tags": []
   },
   "outputs": [],
   "source": [
    "#cmle unifotm consistency\n",
    "rho_cmle_maxerr_Block = np.zeros((BB,9))\n",
    "rho_cmle_maxerr_Block[:,0] = np.nanmax(abs(theta_hat_Block_n500_p50[:,0,:]-((rho_Block_n500_p50@np.ones((1,BB))).T)[:,:]),1)\n",
    "rho_cmle_maxerr_Block[:,1] = np.nanmax(abs(theta_hat_Block_n1000_p50[:,0,:]-((rho_Block_n1000_p50@np.ones((1,BB))).T)[:,:]),1)\n",
    "rho_cmle_maxerr_Block[:,2] = np.nanmax(abs(theta_hat_Block_n1500_p50[:,0,:]-((rho_Block_n1500_p50@np.ones((1,BB))).T)[:,:]),1)\n",
    "\n",
    "rho_cmle_maxerr_Block[:,3] = np.nanmax(abs(theta_hat_Block_n500_p100[:,0,:]-((rho_Block_n500_p100@np.ones((1,BB))).T)[:,:]),1)\n",
    "rho_cmle_maxerr_Block[:,4] = np.nanmax(abs(theta_hat_Block_n1000_p100[:,0,:]-((rho_Block_n1000_p100@np.ones((1,BB))).T)[:,:]),1)\n",
    "rho_cmle_maxerr_Block[:,5] = np.nanmax(abs(theta_hat_Block_n1500_p100[:,0,:]-((rho_Block_n1500_p100@np.ones((1,BB))).T)[:,:]),1)\n",
    "\n",
    "rho_cmle_maxerr_Block[:,6] = np.nanmax(abs(theta_hat_Block_n500_p200[:,0,:]-((rho_Block_n500_p200@np.ones((1,BB))).T)[:,:]),1)\n",
    "rho_cmle_maxerr_Block[:,7] = np.nanmax(abs(theta_hat_Block_n1000_p200[:,0,:]-((rho_Block_n1000_p200@np.ones((1,BB))).T)[:,:]),1)\n",
    "rho_cmle_maxerr_Block[:,8] = np.nanmax(abs(theta_hat_Block_n1500_p200[:,0,:]-((rho_Block_n1500_p200@np.ones((1,BB))).T)[:,:]),1)"
   ]
  },
  {
   "cell_type": "code",
   "execution_count": 9,
   "id": "0281bde6",
   "metadata": {
    "tags": []
   },
   "outputs": [],
   "source": [
    "# Network 3 dependence\n",
    "rho_dep_n500_p50 = np.array(pd.read_csv(f\"../results/Results_dep_02/n{n[0]}_p{p[0]}_B500/rho_true_n{n[0]}_p{p[0]}.csv\"))\n",
    "rho_dep_n500_p100 = np.array(pd.read_csv(f\"../results/Results_dep_02/n{n[0]}_p{p[1]}_B500/rho_true_n{n[0]}_p{p[1]}.csv\"))\n",
    "rho_dep_n500_p200 = np.array(pd.read_csv(f\"../results/Results_dep_02/n{n[0]}_p{p[2]}_B500/rho_true_n{n[0]}_p{p[2]}.csv\"))\n",
    "rho_dep_n1000_p50 = np.array(pd.read_csv(f\"../results/Results_dep_02/n{n[1]}_p{p[0]}_B500/rho_true_n{n[1]}_p{p[0]}.csv\"))\n",
    "rho_dep_n1000_p100 = np.array(pd.read_csv(f\"../results/Results_dep_02/n{n[1]}_p{p[1]}_B500/rho_true_n{n[1]}_p{p[1]}.csv\"))\n",
    "rho_dep_n1000_p200 = np.array(pd.read_csv(f\"../results/Results_dep_02/n{n[1]}_p{p[2]}_B500/rho_true_n{n[1]}_p{p[2]}.csv\"))\n",
    "rho_dep_n1500_p50 = np.array(pd.read_csv(f\"../results/Results_dep_02/n{n[2]}_p{p[0]}_B500/rho_true_n{n[2]}_p{p[0]}.csv\"))\n",
    "rho_dep_n1500_p100 = np.array(pd.read_csv(f\"../results/Results_dep_02/n{n[2]}_p{p[1]}_B500/rho_true_n{n[2]}_p{p[1]}.csv\"))\n",
    "rho_dep_n1500_p200 = np.array(pd.read_csv(f\"../results/Results_dep_02/n{n[2]}_p{p[2]}_B500/rho_true_n{n[2]}_p{p[2]}.csv\"))\n",
    "5\n",
    "BB = 500\n",
    "theta_hat_dep_n500_p50 = np.zeros((BB,3,50))\n",
    "theta_hat_dep_n500_p100 = np.zeros((BB,3,100))\n",
    "theta_hat_dep_n500_p200 = np.zeros((BB,3,200))\n",
    "theta_hat_dep_n1000_p50 = np.zeros((BB,3,50))\n",
    "theta_hat_dep_n1000_p100 = np.zeros((BB,3,100))\n",
    "theta_hat_dep_n1000_p200 = np.zeros((BB,3,200))\n",
    "theta_hat_dep_n1500_p50 = np.zeros((BB,3,50))\n",
    "theta_hat_dep_n1500_p100 = np.zeros((BB,3,100))\n",
    "theta_hat_dep_n1500_p200 = np.zeros((BB,3,200))\n",
    "\n",
    "for b in range(BB):\n",
    "    theta_hat_dep_n500_p50[b,:,:] = (np.array(pd.read_csv(f\"../results/Results_dep_02/n{n[0]}_p{p[0]}_B500/theta_hat_dep_n{n[0]}_p{p[0]}_\"+str(b)+'_.csv')))[:3,:]\n",
    "    theta_hat_dep_n500_p100[b,:,:] = (np.array(pd.read_csv(f\"../results/Results_dep_02/n{n[0]}_p{p[1]}_B500/theta_hat_dep_n{n[0]}_p{p[1]}_\"+str(b)+'_.csv')))[:3,:]\n",
    "    theta_hat_dep_n500_p200[b,:,:] = (np.array(pd.read_csv(f\"../results/Results_dep_02/n{n[0]}_p{p[2]}_B500/theta_hat_dep_n{n[0]}_p{p[2]}_\"+str(b)+'_.csv')))[:3,:]\n",
    "    theta_hat_dep_n1000_p50[b,:,:] = (np.array(pd.read_csv(f\"../results/Results_dep_02/n{n[1]}_p{p[0]}_B500/theta_hat_dep_n{n[1]}_p{p[0]}_\"+str(b)+'_.csv')))[:3,:]\n",
    "    theta_hat_dep_n1000_p100[b,:,:] = (np.array(pd.read_csv(f\"../results/Results_dep_02/n{n[1]}_p{p[1]}_B500/theta_hat_dep_n{n[1]}_p{p[1]}_\"+str(b)+'_.csv')))[:3,:]\n",
    "    theta_hat_dep_n1000_p200[b,:,:] = (np.array(pd.read_csv(f\"../results/Results_dep_02/n{n[1]}_p{p[2]}_B500/theta_hat_dep_n{n[1]}_p{p[2]}_\"+str(b)+'_.csv')))[:3,:]\n",
    "    theta_hat_dep_n1500_p50[b,:,:] = (np.array(pd.read_csv(f\"../results/Results_dep_02/n{n[2]}_p{p[0]}_B500/theta_hat_dep_n{n[2]}_p{p[0]}_\"+str(b)+'_.csv')))[:3,:]\n",
    "    theta_hat_dep_n1500_p100[b,:,:] = (np.array(pd.read_csv(f\"../results/Results_dep_02/n{n[2]}_p{p[1]}_B500/theta_hat_dep_n{n[2]}_p{p[1]}_\"+str(b)+'_.csv')))[:3,:]\n",
    "    theta_hat_dep_n1500_p200[b,:,:] = (np.array(pd.read_csv(f\"../results/Results_dep_02/n{n[2]}_p{p[2]}_B500/theta_hat_dep_n{n[2]}_p{p[2]}_\"+str(b)+'_.csv')))[:3,:]"
   ]
  },
  {
   "cell_type": "code",
   "execution_count": 10,
   "id": "e9bec906-a6c3-4960-a373-28bb650f8a99",
   "metadata": {
    "tags": []
   },
   "outputs": [],
   "source": [
    "indd = np.where(theta_hat_dep_n500_p50==0)\n",
    "theta_hat_dep_n500_p50[indd[0],indd[1],indd[2]] = np.nan\n",
    "indd = np.where(theta_hat_dep_n500_p100==0)\n",
    "theta_hat_dep_n500_p100[indd[0],indd[1],indd[2]] = np.nan\n",
    "indd = np.where(theta_hat_dep_n500_p200==0)\n",
    "theta_hat_dep_n500_p200[indd[0],indd[1],indd[2]] = np.nan\n",
    "indd = np.where(theta_hat_dep_n1000_p50==0)\n",
    "theta_hat_dep_n1000_p50[indd[0],indd[1],indd[2]] = np.nan\n",
    "indd = np.where(theta_hat_dep_n1000_p100==0)\n",
    "theta_hat_dep_n1000_p100[indd[0],indd[1],indd[2]] = np.nan\n",
    "indd = np.where(theta_hat_dep_n1000_p200==0)\n",
    "theta_hat_dep_n1000_p200[indd[0],indd[1],indd[2]] = np.nan\n",
    "indd = np.where(theta_hat_dep_n1500_p50==0)\n",
    "theta_hat_dep_n1500_p50[indd[0],indd[1],indd[2]] = np.nan\n",
    "indd = np.where(theta_hat_dep_n1500_p100==0)\n",
    "theta_hat_dep_n1500_p100[indd[0],indd[1],indd[2]] = np.nan\n",
    "indd = np.where(theta_hat_dep_n1500_p200==0)\n",
    "theta_hat_dep_n1500_p200[indd[0],indd[1],indd[2]] = np.nan"
   ]
  },
  {
   "cell_type": "code",
   "execution_count": 11,
   "id": "4205c6e0",
   "metadata": {
    "tags": []
   },
   "outputs": [],
   "source": [
    "#cmle uniform consistency\n",
    "rho_cmle_maxerr_dep = np.zeros((BB,9))\n",
    "rho_cmle_maxerr_dep[:,0] = np.max(abs(theta_hat_dep_n500_p50[:,0,:]-((rho_dep_n500_p50@np.ones((1,BB))).T)[:,:]),1)\n",
    "rho_cmle_maxerr_dep[:,1] = np.max(abs(theta_hat_dep_n1000_p50[:,0,:]-((rho_dep_n1000_p50@np.ones((1,BB))).T)[:,:]),1)\n",
    "rho_cmle_maxerr_dep[:,2] = np.max(abs(theta_hat_dep_n1500_p50[:,0,:]-((rho_dep_n1500_p50@np.ones((1,BB))).T)[:,:]),1)\n",
    "\n",
    "rho_cmle_maxerr_dep[:,3] = np.max(abs(theta_hat_dep_n500_p100[:,0,:]-((rho_dep_n500_p100@np.ones((1,BB))).T)[:,:]),1)\n",
    "rho_cmle_maxerr_dep[:,4] = np.max(abs(theta_hat_dep_n1000_p100[:,0,:]-((rho_dep_n1000_p100@np.ones((1,BB))).T)[:,:]),1)\n",
    "rho_cmle_maxerr_dep[:,5] = np.max(abs(theta_hat_dep_n1500_p100[:,0,:]-((rho_dep_n1500_p100@np.ones((1,BB))).T)[:,:]),1)\n",
    "\n",
    "rho_cmle_maxerr_dep[:,6] = np.max(abs(theta_hat_dep_n500_p200[:,0,:]-((rho_dep_n500_p200@np.ones((1,BB))).T)[:,:]),1)\n",
    "rho_cmle_maxerr_dep[:,7] = np.max(abs(theta_hat_dep_n1000_p200[:,0,:]-((rho_dep_n1000_p200@np.ones((1,BB))).T)[:,:]),1)\n",
    "rho_cmle_maxerr_dep[:,8] = np.max(abs(theta_hat_dep_n1500_p200[:,0,:]-((rho_dep_n1500_p200@np.ones((1,BB))).T)[:,:]),1)"
   ]
  },
  {
   "cell_type": "markdown",
   "id": "c1ea4ef1-4aa1-4e40-aa4c-e964db858880",
   "metadata": {},
   "source": [
    "## Figure 1 -- Uniform Consistency of CMLE"
   ]
  },
  {
   "cell_type": "markdown",
   "id": "d3aa12c4",
   "metadata": {},
   "source": [
    "## CMLE-three networks"
   ]
  },
  {
   "cell_type": "code",
   "execution_count": 12,
   "id": "8f5781ff",
   "metadata": {
    "tags": []
   },
   "outputs": [
    {
     "data": {
      "image/png": "[encoded data removed]",
      "text/plain": [
       "<Figure size 1600x400 with 3 Axes>"
      ]
     },
     "metadata": {},
     "output_type": "display_data"
    }
   ],
   "source": [
    "plt.figure(figsize=(16,4))\n",
    "\n",
    "plt.subplot(131)\n",
    "nlabel = ['n=500']*BB+['n=1000']*BB+['n=1500']*BB+['n=500']*BB+['n=1000']*BB+['n=1500']*BB+['n=500']*BB+['n=1000']*BB+['n=1500']*BB\n",
    "plabel = ['50']*BB*3+['100']*BB*3+['200']*BB*3\n",
    "dfp_dep = pd.DataFrame({'max_err':(np.log(rho_cmle_maxerr_dep).T).flatten(),'plabel':plabel,'n':nlabel})\n",
    "ax_dep = sns.boxplot(\n",
    "    x='plabel',\n",
    "    y='max_err', \n",
    "    data=dfp_dep,\n",
    "    hue='n',\n",
    "    palette= ['grey','darkgrey','gainsboro'],\n",
    "    medianprops = {'linestyle':'--','color':'black'},\n",
    "    hue_order=['n=500','n=1000','n=1500'] \n",
    ")\n",
    "plt.ylabel('log(MaxErr'+r'$_c)$',fontsize=16)\n",
    "plt.xlabel('p',fontsize=16)\n",
    "plt.ylim(-4, -1)\n",
    "#ax.legend(title='Sample size',labels=[r'$n_{p1}$',r'$n_{p2}$',r'$n_{p3}$'])\n",
    "plt.legend(loc=9, bbox_to_anchor=(0.5, 1), ncol=3)\n",
    "#sns.move_legend(ax, \"lower center\",bbox_to_anchor=(0.6, 0.88), ncol=3, title = '')\n",
    "plt.title('DIM',fontsize=20)\n",
    "plt.xticks(fontsize=12)\n",
    "plt.yticks(fontsize=12)\n",
    "plt.grid()\n",
    "\n",
    "\n",
    "plt.subplot(132)\n",
    "\n",
    "nlabel = ['n=500']*BB+['n=1000']*BB+['n=1500']*BB+['n=500']*BB+['n=1000']*BB+['n=1500']*BB+['n=500']*BB+['n=1000']*BB+['n=1500']*BB\n",
    "plabel = ['50']*BB*3+['100']*BB*3+['200']*BB*3\n",
    "dfp_Block = pd.DataFrame({'max_err':(np.log(rho_cmle_maxerr_Block).T).flatten(),'plabel':plabel,'n':nlabel})\n",
    "ax_Block = sns.boxplot(\n",
    "    x='plabel',\n",
    "    y='max_err', \n",
    "    data=dfp_Block,\n",
    "    hue='n',\n",
    "    palette= ['grey','darkgrey','gainsboro'],\n",
    "    medianprops = {'linestyle':'--','color':'black'},\n",
    "    hue_order=['n=500','n=1000','n=1500']  \n",
    ")\n",
    "plt.ylabel('')\n",
    "plt.xlabel('p',fontsize=16)\n",
    "plt.ylim(-4, -1)\n",
    "#ax.legend(title='Sample size',labels=[r'$n_{p1}$',r'$n_{p2}$',r'$n_{p3}$'])\n",
    "plt.legend(loc=9, bbox_to_anchor=(0.5, 1), ncol=3)\n",
    "#sns.move_legend(ax, \"lower center\",bbox_to_anchor=(0.6, 0.88), ncol=3, title = '')\n",
    "plt.title('SBM',fontsize=20)\n",
    "plt.xticks(fontsize=12)\n",
    "plt.yticks(fontsize=12)\n",
    "plt.grid()\n",
    "\n",
    "plt.subplot(133)\n",
    "\n",
    "nlabel = ['n=500']*BB+['n=1000']*BB+['n=1500']*BB+['n=500']*BB+['n=1000']*BB+['n=1500']*BB+['n=500']*BB+['n=1000']*BB+['n=1500']*BB\n",
    "plabel = ['50']*BB*3+['100']*BB*3+['200']*BB*3\n",
    "dfp = pd.DataFrame({'max_err':(np.log(rho_cmle_maxerr_lsm).T).flatten(),'plabel':plabel,'n':nlabel})\n",
    "ax = sns.boxplot(\n",
    "    x='plabel',\n",
    "    y='max_err', \n",
    "    data=dfp,\n",
    "    hue='n',\n",
    "    palette= ['grey','darkgrey','gainsboro'],\n",
    "    medianprops = {'linestyle':'--','color':'black'},\n",
    "    hue_order=['n=500','n=1000','n=1500']  \n",
    ")\n",
    "plt.ylabel('')\n",
    "plt.xlabel('p',fontsize=16)\n",
    "plt.ylim(-4, -1)\n",
    "#ax.legend(title='Sample size',labels=[r'$n_{p1}$',r'$n_{p2}$',r'$n_{p3}$'])\n",
    "plt.legend(loc=9, bbox_to_anchor=(0.5, 1), ncol=3)\n",
    "#sns.move_legend(ax, \"lower center\",bbox_to_anchor=(0.6, 0.88), ncol=3, title = '')\n",
    "plt.title('LSM',fontsize=20)\n",
    "plt.xticks(fontsize=12)\n",
    "plt.yticks(fontsize=12)\n",
    "plt.grid()\n",
    "\n",
    "\n",
    "plt.savefig(\"Rho_cmle_3W_02_random.pdf\",bbox_inches = 'tight')\n",
    "plt.show()"
   ]
  },
  {
   "cell_type": "markdown",
   "id": "cdc27acc",
   "metadata": {},
   "source": [
    "## Table 1"
   ]
  },
  {
   "cell_type": "markdown",
   "id": "a86e9819",
   "metadata": {},
   "source": [
    "### Network1-LSM"
   ]
  },
  {
   "cell_type": "code",
   "execution_count": 13,
   "id": "3e30fe8d",
   "metadata": {
    "tags": []
   },
   "outputs": [],
   "source": [
    "rho_final_meanerr_cmle_lsm = np.zeros((3,3))\n",
    "#p=50\n",
    "cc = list(set(range(BB)).difference(set(np.where(theta_hat_lsm_n500_p50[:,2,0]==0)[0])))\n",
    "rho_final_meanerr_cmle_lsm[0,0] = np.nanmean(abs(theta_hat_lsm_n500_p50[cc,0,:]-((rho_lsm_n500_p50@np.ones((1,BB))).T)[cc,:]))\n",
    "cc = list(set(range(BB)).difference(set(np.where(theta_hat_lsm_n1000_p50[:,2,0]==0)[0])))\n",
    "rho_final_meanerr_cmle_lsm[1,0] = np.nanmean(abs(theta_hat_lsm_n1000_p50[cc,0,:]-((rho_lsm_n1000_p50@np.ones((1,BB))).T)[cc,:]))\n",
    "cc = list(set(range(BB)).difference(set(np.where(theta_hat_lsm_n1500_p50[:,2,0]==0)[0])))\n",
    "rho_final_meanerr_cmle_lsm[2,0] = np.nanmean(abs(theta_hat_lsm_n1500_p50[cc,0,:]-((rho_lsm_n1500_p50@np.ones((1,BB))).T)[cc,:]))\n",
    "#p=100\n",
    "cc = list(set(range(BB)).difference(set(np.where(theta_hat_lsm_n500_p100[:,2,0]==0)[0])))\n",
    "rho_final_meanerr_cmle_lsm[0,1] = np.nanmean(abs(theta_hat_lsm_n500_p100[cc,0,:]-((rho_lsm_n500_p100@np.ones((1,BB))).T)[cc,:]))\n",
    "cc = list(set(range(BB)).difference(set(np.where(theta_hat_lsm_n1000_p100[:,2,0]==0)[0])))\n",
    "rho_final_meanerr_cmle_lsm[1,1] = np.nanmean(abs(theta_hat_lsm_n1000_p100[cc,0,:]-((rho_lsm_n1000_p100@np.ones((1,BB))).T)[cc,:]))\n",
    "cc = list(set(range(BB)).difference(set(np.where(theta_hat_lsm_n1500_p100[:,2,0]==0)[0])))\n",
    "rho_final_meanerr_cmle_lsm[2,1] = np.nanmean(abs(theta_hat_lsm_n1500_p100[cc,0,:]-((rho_lsm_n1500_p100@np.ones((1,BB))).T)[cc,:]))\n",
    "#p=200\n",
    "cc = list(set(range(BB)).difference(set(np.where(theta_hat_lsm_n500_p200[:,2,0]==0)[0])))\n",
    "rho_final_meanerr_cmle_lsm[0,2] = np.nanmean(abs(theta_hat_lsm_n500_p200[cc,0,:]-((rho_lsm_n500_p200@np.ones((1,BB))).T)[cc,:]))\n",
    "cc = list(set(range(BB)).difference(set(np.where(theta_hat_lsm_n1000_p200[:,2,0]==0)[0])))\n",
    "rho_final_meanerr_cmle_lsm[1,2] = np.nanmean(abs(theta_hat_lsm_n1000_p200[cc,0,:]-((rho_lsm_n1000_p200@np.ones((1,BB))).T)[cc,:]))\n",
    "cc = list(set(range(BB)).difference(set(np.where(theta_hat_lsm_n1500_p200[:,2,0]==0)[0])))\n",
    "rho_final_meanerr_cmle_lsm[2,2] = np.nanmean(abs(theta_hat_lsm_n1500_p200[cc,0,:]-((rho_lsm_n1500_p200@np.ones((1,BB))).T)[cc,:]))"
   ]
  },
  {
   "cell_type": "code",
   "execution_count": 14,
   "id": "aeb34f23",
   "metadata": {
    "tags": []
   },
   "outputs": [
    {
     "data": {
      "text/plain": [
       "array([[0.0470346 , 0.04430701, 0.04095227],\n",
       "       [0.03182627, 0.0273208 , 0.02694584],\n",
       "       [0.02337677, 0.02371986, 0.02492286]])"
      ]
     },
     "execution_count": 14,
     "metadata": {},
     "output_type": "execute_result"
    }
   ],
   "source": [
    "rho_final_meanerr_cmle_lsm"
   ]
  },
  {
   "cell_type": "code",
   "execution_count": 15,
   "id": "d05084ed",
   "metadata": {
    "tags": []
   },
   "outputs": [],
   "source": [
    "rho_final_meanerr_sarx_lsm = np.zeros((3,3))\n",
    "#p=50\n",
    "cc = list(set(range(BB)).difference(set(np.where(theta_hat_lsm_n500_p50[:,2,0]==0)[0])))\n",
    "rho_final_meanerr_sarx_lsm[0,0] = np.nanmean(abs(theta_hat_lsm_n500_p50[cc,1,:]-((rho_lsm_n500_p50@np.ones((1,BB))).T)[cc,:]))\n",
    "cc = list(set(range(BB)).difference(set(np.where(theta_hat_lsm_n1000_p50[:,2,0]==0)[0])))\n",
    "rho_final_meanerr_sarx_lsm[1,0] = np.nanmean(abs(theta_hat_lsm_n1000_p50[cc,1,:]-((rho_lsm_n1000_p50@np.ones((1,BB))).T)[cc,:]))\n",
    "cc = list(set(range(BB)).difference(set(np.where(theta_hat_lsm_n1500_p50[:,2,0]==0)[0])))\n",
    "rho_final_meanerr_sarx_lsm[2,0] = np.nanmean(abs(theta_hat_lsm_n1500_p50[cc,1,:]-((rho_lsm_n1500_p50@np.ones((1,BB))).T)[cc,:]))\n",
    "#p=100\n",
    "cc = list(set(range(BB)).difference(set(np.where(theta_hat_lsm_n500_p100[:,2,0]==0)[0])))\n",
    "rho_final_meanerr_sarx_lsm[0,1] = np.nanmean(abs(theta_hat_lsm_n500_p100[cc,1,:]-((rho_lsm_n500_p100@np.ones((1,BB))).T)[cc,:]))\n",
    "cc = list(set(range(BB)).difference(set(np.where(theta_hat_lsm_n1000_p100[:,2,0]==0)[0])))\n",
    "rho_final_meanerr_sarx_lsm[1,1] = np.nanmean(abs(theta_hat_lsm_n1000_p100[cc,1,:]-((rho_lsm_n1000_p100@np.ones((1,BB))).T)[cc,:]))\n",
    "cc = list(set(range(BB)).difference(set(np.where(theta_hat_lsm_n1500_p100[:,2,0]==0)[0])))\n",
    "rho_final_meanerr_sarx_lsm[2,1] = np.nanmean(abs(theta_hat_lsm_n1500_p100[cc,1,:]-((rho_lsm_n1500_p100@np.ones((1,BB))).T)[cc,:]))\n",
    "#p=200\n",
    "cc = list(set(range(BB)).difference(set(np.where(theta_hat_lsm_n500_p200[:,2,0]==0)[0])))\n",
    "rho_final_meanerr_sarx_lsm[0,2] = np.nanmean(abs(theta_hat_lsm_n500_p200[cc,1,:]-((rho_lsm_n500_p200@np.ones((1,BB))).T)[cc,:]))\n",
    "cc = list(set(range(BB)).difference(set(np.where(theta_hat_lsm_n1000_p200[:,2,0]==0)[0])))\n",
    "rho_final_meanerr_sarx_lsm[1,2] = np.nanmean(abs(theta_hat_lsm_n1000_p200[cc,1,:]-((rho_lsm_n1000_p200@np.ones((1,BB))).T)[cc,:]))\n",
    "cc = list(set(range(BB)).difference(set(np.where(theta_hat_lsm_n1500_p200[:,2,0]==0)[0])))\n",
    "rho_final_meanerr_sarx_lsm[2,2] = np.nanmean(abs(theta_hat_lsm_n1500_p200[cc,1,:]-((rho_lsm_n1500_p200@np.ones((1,BB))).T)[cc,:]))"
   ]
  },
  {
   "cell_type": "code",
   "execution_count": 16,
   "id": "32f70b2a",
   "metadata": {
    "tags": []
   },
   "outputs": [
    {
     "data": {
      "text/plain": [
       "array([[0.02810747, 0.02594613, 0.02276758],\n",
       "       [0.0198867 , 0.01663821, 0.01726091],\n",
       "       [0.01623581, 0.01551095, 0.0157751 ]])"
      ]
     },
     "execution_count": 16,
     "metadata": {},
     "output_type": "execute_result"
    }
   ],
   "source": [
    "rho_final_meanerr_sarx_lsm"
   ]
  },
  {
   "cell_type": "code",
   "execution_count": 17,
   "id": "f0fcb5f7",
   "metadata": {
    "tags": []
   },
   "outputs": [],
   "source": [
    "rho_final_meanerr_fmle_lsm = np.zeros((3,3))\n",
    "#p=50\n",
    "cc = list(set(range(BB)).difference(set(np.where(theta_hat_lsm_n500_p50[:,2,0]==0)[0])))\n",
    "rho_final_meanerr_fmle_lsm[0,0] = np.nanmean(abs(theta_hat_lsm_n500_p50[cc,2,:]-((rho_lsm_n500_p50@np.ones((1,BB))).T)[cc,:]))\n",
    "cc = list(set(range(BB)).difference(set(np.where(theta_hat_lsm_n1000_p50[:,2,0]==0)[0])))\n",
    "rho_final_meanerr_fmle_lsm[1,0] = np.nanmean(abs(theta_hat_lsm_n1000_p50[cc,2,:]-((rho_lsm_n1000_p50@np.ones((1,BB))).T)[cc,:]))\n",
    "cc = list(set(range(BB)).difference(set(np.where(theta_hat_lsm_n1500_p50[:,2,0]==0)[0])))\n",
    "rho_final_meanerr_fmle_lsm[2,0] = np.nanmean(abs(theta_hat_lsm_n1500_p50[cc,2,:]-((rho_lsm_n1500_p50@np.ones((1,BB))).T)[cc,:]))\n",
    "#p=100\n",
    "cc = list(set(range(BB)).difference(set(np.where(theta_hat_lsm_n500_p100[:,2,0]==0)[0])))\n",
    "rho_final_meanerr_fmle_lsm[0,1] = np.nanmean(abs(theta_hat_lsm_n500_p100[cc,2,:]-((rho_lsm_n500_p100@np.ones((1,BB))).T)[cc,:]))\n",
    "cc = list(set(range(BB)).difference(set(np.where(theta_hat_lsm_n1000_p100[:,2,0]==0)[0])))\n",
    "rho_final_meanerr_fmle_lsm[1,1] = np.nanmean(abs(theta_hat_lsm_n1000_p100[cc,2,:]-((rho_lsm_n1000_p100@np.ones((1,BB))).T)[cc,:]))\n",
    "cc = list(set(range(BB)).difference(set(np.where(theta_hat_lsm_n1500_p100[:,2,0]==0)[0])))\n",
    "rho_final_meanerr_fmle_lsm[2,1] = np.nanmean(abs(theta_hat_lsm_n1500_p100[cc,2,:]-((rho_lsm_n1500_p100@np.ones((1,BB))).T)[cc,:]))\n",
    "#p=200\n",
    "cc = list(set(range(BB)).difference(set(np.where(theta_hat_lsm_n500_p200[:,2,0]==0)[0])))\n",
    "rho_final_meanerr_fmle_lsm[0,2] = np.nanmean(abs(theta_hat_lsm_n500_p200[cc,2,:]-((rho_lsm_n500_p200@np.ones((1,BB))).T)[cc,:]))\n",
    "cc = list(set(range(BB)).difference(set(np.where(theta_hat_lsm_n1000_p200[:,2,0]==0)[0])))\n",
    "rho_final_meanerr_fmle_lsm[1,2] = np.nanmean(abs(theta_hat_lsm_n1000_p200[cc,2,:]-((rho_lsm_n1000_p200@np.ones((1,BB))).T)[cc,:]))\n",
    "cc = list(set(range(BB)).difference(set(np.where(theta_hat_lsm_n1500_p200[:,2,0]==0)[0])))\n",
    "rho_final_meanerr_fmle_lsm[2,2] = np.nanmean(abs(theta_hat_lsm_n1500_p200[cc,2,:]-((rho_lsm_n1500_p200@np.ones((1,BB))).T)[cc,:]))"
   ]
  },
  {
   "cell_type": "code",
   "execution_count": 18,
   "id": "584d8ea3",
   "metadata": {
    "tags": []
   },
   "outputs": [
    {
     "data": {
      "text/plain": [
       "array([[0.03477563, 0.03360292, 0.03106537],\n",
       "       [0.02642955, 0.02256157, 0.02213354],\n",
       "       [0.02047296, 0.02012202, 0.02125091]])"
      ]
     },
     "execution_count": 18,
     "metadata": {},
     "output_type": "execute_result"
    }
   ],
   "source": [
    "rho_final_meanerr_fmle_lsm"
   ]
  },
  {
   "cell_type": "markdown",
   "id": "e16b9ac9",
   "metadata": {},
   "source": [
    "### Network2-SBM "
   ]
  },
  {
   "cell_type": "code",
   "execution_count": 19,
   "id": "bb1bd60a",
   "metadata": {
    "tags": []
   },
   "outputs": [],
   "source": [
    "rho_final_meanerr_cmle_block = np.zeros((3,3))\n",
    "#p=50\n",
    "cc = list(set(range(BB)).difference(set(np.where(theta_hat_Block_n500_p50[:,2,0]==0)[0])))\n",
    "rho_final_meanerr_cmle_block[0,0] = np.nanmean(abs(theta_hat_Block_n500_p50[cc,0,:]-((rho_Block_n500_p50@np.ones((1,BB))).T)[cc,:]))\n",
    "cc = list(set(range(BB)).difference(set(np.where(theta_hat_Block_n1000_p50[:,2,0]==0)[0])))\n",
    "rho_final_meanerr_cmle_block[1,0] = np.nanmean(abs(theta_hat_Block_n1000_p50[cc,0,:]-((rho_Block_n1000_p50@np.ones((1,BB))).T)[cc,:]))\n",
    "cc = list(set(range(BB)).difference(set(np.where(theta_hat_Block_n1500_p50[:,2,0]==0)[0])))\n",
    "rho_final_meanerr_cmle_block[2,0] = np.nanmean(abs(theta_hat_Block_n1500_p50[cc,0,:]-((rho_Block_n1500_p50@np.ones((1,BB))).T)[cc,:]))\n",
    "#p=100\n",
    "cc = list(set(range(BB)).difference(set(np.where(theta_hat_Block_n500_p100[:,2,0]==0)[0])))\n",
    "rho_final_meanerr_cmle_block[0,1] = np.nanmean(abs(theta_hat_Block_n500_p100[cc,0,:]-((rho_Block_n500_p100@np.ones((1,BB))).T)[cc,:]))\n",
    "cc = list(set(range(BB)).difference(set(np.where(theta_hat_Block_n1000_p100[:,2,0]==0)[0])))\n",
    "rho_final_meanerr_cmle_block[1,1] = np.nanmean(abs(theta_hat_Block_n1000_p100[cc,0,:]-((rho_Block_n1000_p100@np.ones((1,BB))).T)[cc,:]))\n",
    "cc = list(set(range(BB)).difference(set(np.where(theta_hat_Block_n1500_p100[:,2,0]==0)[0])))\n",
    "rho_final_meanerr_cmle_block[2,1] = np.nanmean(abs(theta_hat_Block_n1500_p100[cc,0,:]-((rho_Block_n1500_p100@np.ones((1,BB))).T)[cc,:]))\n",
    "#p=200\n",
    "cc = list(set(range(BB)).difference(set(np.where(theta_hat_Block_n500_p200[:,2,0]==0)[0])))\n",
    "rho_final_meanerr_cmle_block[0,2] = np.nanmean(abs(theta_hat_Block_n500_p200[cc,0,:]-((rho_Block_n500_p200@np.ones((1,BB))).T)[cc,:]))\n",
    "cc = list(set(range(BB)).difference(set(np.where(theta_hat_Block_n1000_p200[:,2,0]==0)[0])))\n",
    "rho_final_meanerr_cmle_block[1,2] = np.nanmean(abs(theta_hat_Block_n1000_p200[cc,0,:]-((rho_Block_n1000_p200@np.ones((1,BB))).T)[cc,:]))\n",
    "cc = list(set(range(BB)).difference(set(np.where(theta_hat_Block_n1500_p200[:,2,0]==0)[0])))\n",
    "rho_final_meanerr_cmle_block[2,2] = np.nanmean(abs(theta_hat_Block_n1500_p200[cc,0,:]-((rho_Block_n1500_p200@np.ones((1,BB))).T)[cc,:]))"
   ]
  },
  {
   "cell_type": "code",
   "execution_count": 20,
   "id": "f95adfa8",
   "metadata": {
    "tags": []
   },
   "outputs": [
    {
     "data": {
      "text/plain": [
       "array([[0.03502934, 0.03516811, 0.04309199],\n",
       "       [0.02553482, 0.02519364, 0.02601964],\n",
       "       [0.01996134, 0.02044881, 0.02102001]])"
      ]
     },
     "execution_count": 20,
     "metadata": {},
     "output_type": "execute_result"
    }
   ],
   "source": [
    "rho_final_meanerr_cmle_block"
   ]
  },
  {
   "cell_type": "code",
   "execution_count": 21,
   "id": "760e3b29",
   "metadata": {
    "tags": []
   },
   "outputs": [],
   "source": [
    "rho_final_meanerr_sarx_Block = np.zeros((3,3))\n",
    "#p=50\n",
    "cc = list(set(range(BB)).difference(set(np.where(theta_hat_Block_n500_p50[:,2,0]==0)[0])))\n",
    "rho_final_meanerr_sarx_Block[0,0] = np.nanmean(abs(theta_hat_Block_n500_p50[cc,1,:]-((rho_Block_n500_p50@np.ones((1,BB))).T)[cc,:]))\n",
    "cc = list(set(range(BB)).difference(set(np.where(theta_hat_Block_n1000_p50[:,2,0]==0)[0])))\n",
    "rho_final_meanerr_sarx_Block[1,0] = np.nanmean(abs(theta_hat_Block_n1000_p50[cc,1,:]-((rho_Block_n1000_p50@np.ones((1,BB))).T)[cc,:]))\n",
    "cc = list(set(range(BB)).difference(set(np.where(theta_hat_Block_n1500_p50[:,2,0]==0)[0])))\n",
    "rho_final_meanerr_sarx_Block[2,0] = np.nanmean(abs(theta_hat_Block_n1500_p50[cc,1,:]-((rho_Block_n1500_p50@np.ones((1,BB))).T)[cc,:]))\n",
    "#p=100\n",
    "cc = list(set(range(BB)).difference(set(np.where(theta_hat_Block_n500_p100[:,2,0]==0)[0])))\n",
    "rho_final_meanerr_sarx_Block[0,1] = np.nanmean(abs(theta_hat_Block_n500_p100[cc,1,:]-((rho_Block_n500_p100@np.ones((1,BB))).T)[cc,:]))\n",
    "cc = list(set(range(BB)).difference(set(np.where(theta_hat_Block_n1000_p100[:,2,0]==0)[0])))\n",
    "rho_final_meanerr_sarx_Block[1,1] = np.nanmean(abs(theta_hat_Block_n1000_p100[cc,1,:]-((rho_Block_n1000_p100@np.ones((1,BB))).T)[cc,:]))\n",
    "cc = list(set(range(BB)).difference(set(np.where(theta_hat_Block_n1500_p100[:,2,0]==0)[0])))\n",
    "rho_final_meanerr_sarx_Block[2,1] = np.nanmean(abs(theta_hat_Block_n1500_p100[cc,1,:]-((rho_Block_n1500_p100@np.ones((1,BB))).T)[cc,:]))\n",
    "#p=200\n",
    "cc = list(set(range(BB)).difference(set(np.where(theta_hat_Block_n500_p200[:,2,0]==0)[0])))\n",
    "rho_final_meanerr_sarx_Block[0,2] = np.nanmean(abs(theta_hat_Block_n500_p200[cc,1,:]-((rho_Block_n500_p200@np.ones((1,BB))).T)[cc,:]))\n",
    "cc = list(set(range(BB)).difference(set(np.where(theta_hat_Block_n1000_p200[:,2,0]==0)[0])))\n",
    "rho_final_meanerr_sarx_Block[1,2] = np.nanmean(abs(theta_hat_Block_n1000_p200[cc,1,:]-((rho_Block_n1000_p200@np.ones((1,BB))).T)[cc,:]))\n",
    "cc = list(set(range(BB)).difference(set(np.where(theta_hat_Block_n1500_p200[:,2,0]==0)[0])))\n",
    "rho_final_meanerr_sarx_Block[2,2] = np.nanmean(abs(theta_hat_Block_n1500_p200[cc,1,:]-((rho_Block_n1500_p200@np.ones((1,BB))).T)[cc,:]))"
   ]
  },
  {
   "cell_type": "code",
   "execution_count": 22,
   "id": "200d7e1b",
   "metadata": {
    "tags": []
   },
   "outputs": [
    {
     "data": {
      "text/plain": [
       "array([[0.01186961, 0.01027135, 0.01241437],\n",
       "       [0.00767795, 0.00733858, 0.00742668],\n",
       "       [0.00602645, 0.00623767, 0.00611324]])"
      ]
     },
     "execution_count": 22,
     "metadata": {},
     "output_type": "execute_result"
    }
   ],
   "source": [
    "rho_final_meanerr_sarx_Block"
   ]
  },
  {
   "cell_type": "code",
   "execution_count": 23,
   "id": "368bd9aa",
   "metadata": {
    "tags": []
   },
   "outputs": [],
   "source": [
    "rho_final_meanerr_fmle_Block = np.zeros((3,3))\n",
    "#p=50\n",
    "cc = list(set(range(BB)).difference(set(np.where(theta_hat_Block_n500_p50[:,2,0]==0)[0])))\n",
    "rho_final_meanerr_fmle_Block[0,0] = np.nanmean(abs(theta_hat_Block_n500_p50[cc,2,:]-((rho_Block_n500_p50@np.ones((1,BB))).T)[cc,:]))\n",
    "cc = list(set(range(BB)).difference(set(np.where(theta_hat_Block_n1000_p50[:,2,0]==0)[0])))\n",
    "rho_final_meanerr_fmle_Block[1,0] = np.nanmean(abs(theta_hat_Block_n1000_p50[cc,2,:]-((rho_Block_n1000_p50@np.ones((1,BB))).T)[cc,:]))\n",
    "cc = list(set(range(BB)).difference(set(np.where(theta_hat_Block_n1500_p50[:,2,0]==0)[0])))\n",
    "rho_final_meanerr_fmle_Block[2,0] = np.nanmean(abs(theta_hat_Block_n1500_p50[cc,2,:]-((rho_Block_n1500_p50@np.ones((1,BB))).T)[cc,:]))\n",
    "#p=100\n",
    "cc = list(set(range(BB)).difference(set(np.where(theta_hat_Block_n500_p100[:,2,0]==0)[0])))\n",
    "rho_final_meanerr_fmle_Block[0,1] = np.nanmean(abs(theta_hat_Block_n500_p100[cc,2,:]-((rho_Block_n500_p100@np.ones((1,BB))).T)[cc,:]))\n",
    "cc = list(set(range(BB)).difference(set(np.where(theta_hat_Block_n1000_p100[:,2,0]==0)[0])))\n",
    "rho_final_meanerr_fmle_Block[1,1] = np.nanmean(abs(theta_hat_Block_n1000_p100[cc,2,:]-((rho_Block_n1000_p100@np.ones((1,BB))).T)[cc,:]))\n",
    "cc = list(set(range(BB)).difference(set(np.where(theta_hat_Block_n1500_p100[:,2,0]==0)[0])))\n",
    "rho_final_meanerr_fmle_Block[2,1] = np.nanmean(abs(theta_hat_Block_n1500_p100[cc,2,:]-((rho_Block_n1500_p100@np.ones((1,BB))).T)[cc,:]))\n",
    "#p=200\n",
    "cc = list(set(range(BB)).difference(set(np.where(theta_hat_Block_n500_p200[:,2,0]==0)[0])))\n",
    "rho_final_meanerr_fmle_Block[0,2] = np.nanmean(abs(theta_hat_Block_n500_p200[cc,2,:]-((rho_Block_n500_p200@np.ones((1,BB))).T)[cc,:]))\n",
    "cc = list(set(range(BB)).difference(set(np.where(theta_hat_Block_n1000_p200[:,2,0]==0)[0])))\n",
    "rho_final_meanerr_fmle_Block[1,2] = np.nanmean(abs(theta_hat_Block_n1000_p200[cc,2,:]-((rho_Block_n1000_p200@np.ones((1,BB))).T)[cc,:]))\n",
    "cc = list(set(range(BB)).difference(set(np.where(theta_hat_Block_n1500_p200[:,2,0]==0)[0])))\n",
    "rho_final_meanerr_fmle_Block[2,2] = np.nanmean(abs(theta_hat_Block_n1500_p200[cc,2,:]-((rho_Block_n1500_p200@np.ones((1,BB))).T)[cc,:]))"
   ]
  },
  {
   "cell_type": "code",
   "execution_count": 24,
   "id": "5b5a21ca",
   "metadata": {
    "tags": []
   },
   "outputs": [
    {
     "data": {
      "text/plain": [
       "array([[0.02470341, 0.02099776, 0.02029223],\n",
       "       [0.01575312, 0.01439814, 0.01443829],\n",
       "       [0.01242752, 0.01184506, 0.01189726]])"
      ]
     },
     "execution_count": 24,
     "metadata": {},
     "output_type": "execute_result"
    }
   ],
   "source": [
    "rho_final_meanerr_fmle_Block"
   ]
  },
  {
   "cell_type": "markdown",
   "id": "9589a71e",
   "metadata": {},
   "source": [
    "### Network3-DIM "
   ]
  },
  {
   "cell_type": "code",
   "execution_count": 25,
   "id": "d8cc5808",
   "metadata": {
    "tags": []
   },
   "outputs": [],
   "source": [
    "rho_final_meanerr_cmle_dep = np.zeros((3,3))\n",
    "#p=50\n",
    "cc = list(set(range(BB)).difference(set(np.where(theta_hat_dep_n500_p50[:,2,0]==0)[0])))\n",
    "rho_final_meanerr_cmle_dep[0,0] = np.nanmean(abs(theta_hat_dep_n500_p50[cc,0,:]-((rho_dep_n500_p50@np.ones((1,BB))).T)[cc,:]))\n",
    "cc = list(set(range(BB)).difference(set(np.where(theta_hat_dep_n1000_p50[:,2,0]==0)[0])))\n",
    "rho_final_meanerr_cmle_dep[1,0] = np.nanmean(abs(theta_hat_dep_n1000_p50[cc,0,:]-((rho_dep_n1000_p50@np.ones((1,BB))).T)[cc,:]))\n",
    "cc = list(set(range(BB)).difference(set(np.where(theta_hat_dep_n1500_p50[:,2,0]==0)[0])))\n",
    "rho_final_meanerr_cmle_dep[2,0] = np.nanmean(abs(theta_hat_dep_n1500_p50[cc,0,:]-((rho_dep_n1500_p50@np.ones((1,BB))).T)[cc,:]))\n",
    "#p=100\n",
    "cc = list(set(range(BB)).difference(set(np.where(theta_hat_dep_n500_p100[:,2,0]==0)[0])))\n",
    "rho_final_meanerr_cmle_dep[0,1] = np.nanmean(abs(theta_hat_dep_n500_p100[cc,0,:]-((rho_dep_n500_p100@np.ones((1,BB))).T)[cc,:]))\n",
    "cc = list(set(range(BB)).difference(set(np.where(theta_hat_dep_n1000_p100[:,2,0]==0)[0])))\n",
    "rho_final_meanerr_cmle_dep[1,1] = np.nanmean(abs(theta_hat_dep_n1000_p100[cc,0,:]-((rho_dep_n1000_p100@np.ones((1,BB))).T)[cc,:]))\n",
    "cc = list(set(range(BB)).difference(set(np.where(theta_hat_dep_n1500_p100[:,2,0]==0)[0])))\n",
    "rho_final_meanerr_cmle_dep[2,1] = np.nanmean(abs(theta_hat_dep_n1500_p100[cc,0,:]-((rho_dep_n1500_p100@np.ones((1,BB))).T)[cc,:]))\n",
    "#p=200\n",
    "cc = list(set(range(BB)).difference(set(np.where(theta_hat_dep_n500_p200[:,2,0]==0)[0])))\n",
    "rho_final_meanerr_cmle_dep[0,2] = np.nanmean(abs(theta_hat_dep_n500_p200[cc,0,:]-((rho_dep_n500_p200@np.ones((1,BB))).T)[cc,:]))\n",
    "cc = list(set(range(BB)).difference(set(np.where(theta_hat_dep_n1000_p200[:,2,0]==0)[0])))\n",
    "rho_final_meanerr_cmle_dep[1,2] = np.nanmean(abs(theta_hat_dep_n1000_p200[cc,0,:]-((rho_dep_n1000_p200@np.ones((1,BB))).T)[cc,:]))\n",
    "cc = list(set(range(BB)).difference(set(np.where(theta_hat_dep_n1500_p200[:,2,0]==0)[0])))\n",
    "rho_final_meanerr_cmle_dep[2,2] = np.nanmean(abs(theta_hat_dep_n1500_p200[cc,0,:]-((rho_dep_n1500_p200@np.ones((1,BB))).T)[cc,:]))"
   ]
  },
  {
   "cell_type": "code",
   "execution_count": 26,
   "id": "c83c62cd",
   "metadata": {
    "tags": []
   },
   "outputs": [
    {
     "data": {
      "text/plain": [
       "array([[0.03117194, 0.03957864, 0.03465221],\n",
       "       [0.02420754, 0.02580579, 0.0261531 ],\n",
       "       [0.01812052, 0.01904748, 0.01884786]])"
      ]
     },
     "execution_count": 26,
     "metadata": {},
     "output_type": "execute_result"
    }
   ],
   "source": [
    "rho_final_meanerr_cmle_dep"
   ]
  },
  {
   "cell_type": "code",
   "execution_count": 27,
   "id": "34284e6f",
   "metadata": {
    "tags": []
   },
   "outputs": [],
   "source": [
    "rho_final_meanerr_sarx_dep = np.zeros((3,3))\n",
    "#p=50\n",
    "cc = list(set(range(BB)).difference(set(np.where(theta_hat_dep_n500_p50[:,2,0]==0)[0])))\n",
    "rho_final_meanerr_sarx_dep[0,0] = np.nanmean(abs(theta_hat_dep_n500_p50[cc,1,:]-((rho_dep_n500_p50@np.ones((1,BB))).T)[cc,:]))\n",
    "cc = list(set(range(BB)).difference(set(np.where(theta_hat_dep_n1000_p50[:,2,0]==0)[0])))\n",
    "rho_final_meanerr_sarx_dep[1,0] = np.nanmean(abs(theta_hat_dep_n1000_p50[cc,1,:]-((rho_dep_n1000_p50@np.ones((1,BB))).T)[cc,:]))\n",
    "cc = list(set(range(BB)).difference(set(np.where(theta_hat_dep_n1500_p50[:,2,0]==0)[0])))\n",
    "rho_final_meanerr_sarx_dep[2,0] = np.nanmean(abs(theta_hat_dep_n1500_p50[cc,1,:]-((rho_dep_n1500_p50@np.ones((1,BB))).T)[cc,:]))\n",
    "#p=100\n",
    "cc = list(set(range(BB)).difference(set(np.where(theta_hat_dep_n500_p100[:,2,0]==0)[0])))\n",
    "rho_final_meanerr_sarx_dep[0,1] = np.nanmean(abs(theta_hat_dep_n500_p100[cc,1,:]-((rho_dep_n500_p100@np.ones((1,BB))).T)[cc,:]))\n",
    "cc = list(set(range(BB)).difference(set(np.where(theta_hat_dep_n1000_p100[:,2,0]==0)[0])))\n",
    "rho_final_meanerr_sarx_dep[1,1] = np.nanmean(abs(theta_hat_dep_n1000_p100[cc,1,:]-((rho_dep_n1000_p100@np.ones((1,BB))).T)[cc,:]))\n",
    "cc = list(set(range(BB)).difference(set(np.where(theta_hat_dep_n1500_p100[:,2,0]==0)[0])))\n",
    "rho_final_meanerr_sarx_dep[2,1] = np.nanmean(abs(theta_hat_dep_n1500_p100[cc,1,:]-((rho_dep_n1500_p100@np.ones((1,BB))).T)[cc,:]))\n",
    "#p=200\n",
    "cc = list(set(range(BB)).difference(set(np.where(theta_hat_dep_n500_p200[:,2,0]==0)[0])))\n",
    "rho_final_meanerr_sarx_dep[0,2] = np.nanmean(abs(theta_hat_dep_n500_p200[cc,1,:]-((rho_dep_n500_p200@np.ones((1,BB))).T)[cc,:]))\n",
    "cc = list(set(range(BB)).difference(set(np.where(theta_hat_dep_n1000_p200[:,2,0]==0)[0])))\n",
    "rho_final_meanerr_sarx_dep[1,2] = np.nanmean(abs(theta_hat_dep_n1000_p200[cc,1,:]-((rho_dep_n1000_p200@np.ones((1,BB))).T)[cc,:]))\n",
    "cc = list(set(range(BB)).difference(set(np.where(theta_hat_dep_n1500_p200[:,2,0]==0)[0])))\n",
    "rho_final_meanerr_sarx_dep[2,2] = np.nanmean(abs(theta_hat_dep_n1500_p200[cc,1,:]-((rho_dep_n1500_p200@np.ones((1,BB))).T)[cc,:]))"
   ]
  },
  {
   "cell_type": "code",
   "execution_count": 28,
   "id": "0548b6ee",
   "metadata": {
    "tags": []
   },
   "outputs": [
    {
     "data": {
      "text/plain": [
       "array([[0.0092429 , 0.01130473, 0.01030408],\n",
       "       [0.0076514 , 0.00755144, 0.00747395],\n",
       "       [0.005719  , 0.00582657, 0.00585387]])"
      ]
     },
     "execution_count": 28,
     "metadata": {},
     "output_type": "execute_result"
    }
   ],
   "source": [
    "rho_final_meanerr_sarx_dep"
   ]
  },
  {
   "cell_type": "code",
   "execution_count": 29,
   "id": "a61199d4",
   "metadata": {
    "tags": []
   },
   "outputs": [],
   "source": [
    "rho_final_meanerr_fmle_dep = np.zeros((3,3))\n",
    "#p=50\n",
    "cc = list(set(range(BB)).difference(set(np.where(theta_hat_dep_n500_p50[:,2,0]==0)[0])))\n",
    "rho_final_meanerr_fmle_dep[0,0] = np.nanmean(abs(theta_hat_dep_n500_p50[cc,2,:]-((rho_dep_n500_p50@np.ones((1,BB))).T)[cc,:]))\n",
    "cc = list(set(range(BB)).difference(set(np.where(theta_hat_dep_n1000_p50[:,2,0]==0)[0])))\n",
    "rho_final_meanerr_fmle_dep[1,0] = np.nanmean(abs(theta_hat_dep_n1000_p50[cc,2,:]-((rho_dep_n1000_p50@np.ones((1,BB))).T)[cc,:]))\n",
    "cc = list(set(range(BB)).difference(set(np.where(theta_hat_dep_n1500_p50[:,2,0]==0)[0])))\n",
    "rho_final_meanerr_fmle_dep[2,0] = np.nanmean(abs(theta_hat_dep_n1500_p50[cc,2,:]-((rho_dep_n1500_p50@np.ones((1,BB))).T)[cc,:]))\n",
    "#p=100\n",
    "cc = list(set(range(BB)).difference(set(np.where(theta_hat_dep_n500_p100[:,2,0]==0)[0])))\n",
    "rho_final_meanerr_fmle_dep[0,1] = np.nanmean(abs(theta_hat_dep_n500_p100[cc,2,:]-((rho_dep_n500_p100@np.ones((1,BB))).T)[cc,:]))\n",
    "cc = list(set(range(BB)).difference(set(np.where(theta_hat_dep_n1000_p100[:,2,0]==0)[0])))\n",
    "rho_final_meanerr_fmle_dep[1,1] = np.nanmean(abs(theta_hat_dep_n1000_p100[cc,2,:]-((rho_dep_n1000_p100@np.ones((1,BB))).T)[cc,:]))\n",
    "cc = list(set(range(BB)).difference(set(np.where(theta_hat_dep_n1500_p100[:,2,0]==0)[0])))\n",
    "rho_final_meanerr_fmle_dep[2,1] = np.nanmean(abs(theta_hat_dep_n1500_p100[cc,2,:]-((rho_dep_n1500_p100@np.ones((1,BB))).T)[cc,:]))\n",
    "#p=200\n",
    "cc = list(set(range(BB)).difference(set(np.where(theta_hat_dep_n500_p200[:,2,0]==0)[0])))\n",
    "rho_final_meanerr_fmle_dep[0,2] = np.nanmean(abs(theta_hat_dep_n500_p200[cc,2,:]-((rho_dep_n500_p200@np.ones((1,BB))).T)[cc,:]))\n",
    "cc = list(set(range(BB)).difference(set(np.where(theta_hat_dep_n1000_p200[:,2,0]==0)[0])))\n",
    "rho_final_meanerr_fmle_dep[1,2] = np.nanmean(abs(theta_hat_dep_n1000_p200[cc,2,:]-((rho_dep_n1000_p200@np.ones((1,BB))).T)[cc,:]))\n",
    "cc = list(set(range(BB)).difference(set(np.where(theta_hat_dep_n1500_p200[:,2,0]==0)[0])))\n",
    "rho_final_meanerr_fmle_dep[2,2] = np.nanmean(abs(theta_hat_dep_n1500_p200[cc,2,:]-((rho_dep_n1500_p200@np.ones((1,BB))).T)[cc,:]))"
   ]
  },
  {
   "cell_type": "code",
   "execution_count": 30,
   "id": "68a8f4d9",
   "metadata": {
    "tags": []
   },
   "outputs": [
    {
     "data": {
      "text/plain": [
       "array([[0.01821028, 0.01900451, 0.01983883],\n",
       "       [0.01634764, 0.01485452, 0.01397138],\n",
       "       [0.01145386, 0.01028651, 0.01049604]])"
      ]
     },
     "execution_count": 30,
     "metadata": {},
     "output_type": "execute_result"
    }
   ],
   "source": [
    "rho_final_meanerr_fmle_dep"
   ]
  },
  {
   "cell_type": "markdown",
   "id": "1f7f22d4",
   "metadata": {},
   "source": [
    "## RIM -- Table 1"
   ]
  },
  {
   "cell_type": "code",
   "execution_count": 31,
   "id": "b3d9915d",
   "metadata": {
    "tags": []
   },
   "outputs": [
    {
     "name": "stdout",
     "output_type": "stream",
     "text": [
      "LSM_SARX:\n",
      " [[40.24087179 41.44013023 44.40460459]\n",
      " [37.5148237  39.10057713 35.94220874]\n",
      " [30.547232   34.60772958 36.70432121]]\n",
      "LSM_FMLE:\n",
      " [[26.06372468 24.15892229 24.14249848]\n",
      " [16.95678715 17.41981749 17.85918527]\n",
      " [12.42175459 15.1680513  14.73328378]]\n",
      "LSM_CMLE_MErr:\n",
      " [[0.0470346  0.04430701 0.04095227]\n",
      " [0.03182627 0.0273208  0.02694584]\n",
      " [0.02337677 0.02371986 0.02492286]]\n",
      "LSM_FMLE_MErr:\n",
      " [[0.03477563 0.03360292 0.03106537]\n",
      " [0.02642955 0.02256157 0.02213354]\n",
      " [0.02047296 0.02012202 0.02125091]]\n"
     ]
    }
   ],
   "source": [
    "# LSM\n",
    "LSM_sarx_up = (1-rho_final_meanerr_sarx_lsm/rho_final_meanerr_cmle_lsm)*100\n",
    "print('LSM_SARX:\\n', LSM_sarx_up)\n",
    "LSM_fmle_up = (1-rho_final_meanerr_fmle_lsm/rho_final_meanerr_cmle_lsm)*100\n",
    "print('LSM_FMLE:\\n', LSM_fmle_up)\n",
    "print('LSM_CMLE_MErr:\\n' ,rho_final_meanerr_cmle_lsm)\n",
    "print('LSM_FMLE_MErr:\\n' ,rho_final_meanerr_fmle_lsm)"
   ]
  },
  {
   "cell_type": "code",
   "execution_count": 32,
   "id": "b30ecb64",
   "metadata": {
    "tags": []
   },
   "outputs": [
    {
     "name": "stdout",
     "output_type": "stream",
     "text": [
      "SBM_SARX:\n",
      " [[66.11524147 70.79356289 71.19100857]\n",
      " [69.93144661 70.87129842 71.45741549]\n",
      " [69.80938436 69.49616377 70.91706046]]\n",
      "SBM_FMLE:\n",
      " [[29.47794714 40.29318315 52.90949807]\n",
      " [38.30729609 42.85010461 44.51002939]\n",
      " [37.74207409 42.07454569 43.40028052]]\n",
      "SBM_CMLE_MErr:\n",
      " [[0.03502934 0.03516811 0.04309199]\n",
      " [0.02553482 0.02519364 0.02601964]\n",
      " [0.01996134 0.02044881 0.02102001]]\n",
      "SBM_FMLE_MErr:\n",
      " [[0.02470341 0.02099776 0.02029223]\n",
      " [0.01575312 0.01439814 0.01443829]\n",
      " [0.01242752 0.01184506 0.01189726]]\n"
     ]
    }
   ],
   "source": [
    "# SBM\n",
    "SBM_sarx_up = (1-rho_final_meanerr_sarx_Block/rho_final_meanerr_cmle_block)*100\n",
    "print('SBM_SARX:\\n', SBM_sarx_up)\n",
    "SBM_fmle_up = (1-rho_final_meanerr_fmle_Block/rho_final_meanerr_cmle_block)*100\n",
    "print('SBM_FMLE:\\n', SBM_fmle_up)\n",
    "print('SBM_CMLE_MErr:\\n' ,rho_final_meanerr_cmle_block)\n",
    "print('SBM_FMLE_MErr:\\n' ,rho_final_meanerr_fmle_Block)"
   ]
  },
  {
   "cell_type": "code",
   "execution_count": 33,
   "id": "83f7c73c",
   "metadata": {
    "tags": []
   },
   "outputs": [
    {
     "name": "stdout",
     "output_type": "stream",
     "text": [
      "DIM_SARX:\n",
      " [[70.34865246 71.43730039 70.26428778]\n",
      " [68.39248192 70.73740452 71.4223271 ]\n",
      " [68.43906886 69.41029817 68.94146026]]\n",
      "DIM_FMLE:\n",
      " [[41.58116963 51.98290385 42.74872172]\n",
      " [32.46881454 42.43728318 46.57847654]\n",
      " [36.79064196 45.99541335 44.31176167]]\n",
      "DIM_CMLE_MErr:\n",
      " [[0.03117194 0.03957864 0.03465221]\n",
      " [0.02420754 0.02580579 0.0261531 ]\n",
      " [0.01812052 0.01904748 0.01884786]]\n",
      "DIM_FMLE_MErr:\n",
      " [[0.01821028 0.01900451 0.01983883]\n",
      " [0.01634764 0.01485452 0.01397138]\n",
      " [0.01145386 0.01028651 0.01049604]]\n"
     ]
    }
   ],
   "source": [
    "#  DIM\n",
    "DIM_sarx_up = (1-rho_final_meanerr_sarx_dep/rho_final_meanerr_cmle_dep)*100\n",
    "print('DIM_SARX:\\n', DIM_sarx_up)\n",
    "DIM_fmle_up = (1-rho_final_meanerr_fmle_dep/rho_final_meanerr_cmle_dep)*100\n",
    "print('DIM_FMLE:\\n', DIM_fmle_up)\n",
    "print('DIM_CMLE_MErr:\\n' ,rho_final_meanerr_cmle_dep)\n",
    "print('DIM_FMLE_MErr:\\n' ,rho_final_meanerr_fmle_dep)"
   ]
  },
  {
   "cell_type": "markdown",
   "id": "0321b795-eb3f-497e-a072-925acdbe0493",
   "metadata": {},
   "source": [
    "## Figure 2 -- Results of SCAD_BIC"
   ]
  },
  {
   "cell_type": "code",
   "execution_count": 34,
   "id": "9dd748af",
   "metadata": {},
   "outputs": [],
   "source": [
    "# Results from SCAD_BIC\n",
    "CM_DIM = np.array([3, 70, 83, 87, 93, 0, 29, 51, 63, 91, 0, 7.9, 31.99,51, 78])\n",
    "CM_SBM = np.array([8, 59, 72, 86, 91, 0, 33.99, 62, 78, 87, 0, 9, 18, 49, 75])\n",
    "CM_LSM = np.array([6, 41, 65, 83, 87, 0, 14, 43.99, 65, 86, 0, 1, 28, 59, 83])"
   ]
  },
  {
   "cell_type": "code",
   "execution_count": 35,
   "id": "5f31751f-216c-4aa1-b361-0e814f65c72c",
   "metadata": {},
   "outputs": [
    {
     "data": {
      "image/png": "[encoded data removed]",
      "text/plain": [
       "<Figure size 1600x400 with 3 Axes>"
      ]
     },
     "metadata": {},
     "output_type": "display_data"
    }
   ],
   "source": [
    "plt.figure(figsize=(16,4))\n",
    "plt.subplot(131)\n",
    "\n",
    "nlabel = ['500','800','1000','1200','1500']+['500','800','1000','1200','1500']+['500','800','1000','1200','1500']\n",
    "plabel = ['p=50']*5+['p=100']*5+['p=200']*5\n",
    "dfp_Block = pd.DataFrame({'CM':CM_DIM,'plabel':plabel,'n':nlabel})\n",
    "#plt.figure(figsize=(8,6))\n",
    "ax_Block = sns.lineplot(\n",
    "    data=dfp_Block,\n",
    "    x='n',\n",
    "    y='CM',\n",
    "    hue='plabel',\n",
    "    style='plabel',   \n",
    "    markers='o',   \n",
    "    dashes=True,   \n",
    "    palette=['black','black','black']  \n",
    ")\n",
    "\n",
    "plt.ylabel('CM(%)', fontsize=16)\n",
    "plt.xlabel('n', fontsize=16)\n",
    "plt.ylim(-5, 105)\n",
    "plt.legend(loc=9, bbox_to_anchor=(0.5, 1), ncol=3)\n",
    "plt.xticks(fontsize=12)\n",
    "plt.yticks(fontsize=12)\n",
    "plt.title('DIM',fontsize=20)\n",
    "plt.grid()\n",
    "\n",
    "plt.subplot(132)\n",
    "\n",
    "nlabel = ['500','800','1000','1200','1500']+['500','800','1000','1200','1500']+['500','800','1000','1200','1500']\n",
    "plabel = ['p=50']*5+['p=100']*5+['p=200']*5\n",
    "dfp_Block = pd.DataFrame({'CM':CM_SBM,'plabel':plabel,'n':nlabel})\n",
    "#plt.figure(figsize=(8,6))\n",
    "ax_Block = sns.lineplot(\n",
    "    data=dfp_Block,\n",
    "    x='n',\n",
    "    y='CM',\n",
    "    hue='plabel',\n",
    "    style='plabel',   \n",
    "    markers='o',    \n",
    "    dashes=True,   \n",
    "    palette=['black','black','black']  \n",
    ")\n",
    "\n",
    "plt.ylabel('')\n",
    "plt.xlabel('n', fontsize=16)\n",
    "plt.ylim(-5, 105)\n",
    "plt.legend(loc=9, bbox_to_anchor=(0.5, 1), ncol=3)\n",
    "plt.xticks(fontsize=12)\n",
    "plt.yticks(fontsize=12)\n",
    "plt.title('SBM',fontsize=20)\n",
    "plt.grid()\n",
    "\n",
    "plt.subplot(133)\n",
    "\n",
    "nlabel = ['500','800','1000','1200','1500']+['500','800','1000','1200','1500']+['500','800','1000','1200','1500']\n",
    "plabel = ['p=50']*5+['p=100']*5+['p=200']*5\n",
    "dfp_Block = pd.DataFrame({'CM':CM_LSM,'plabel':plabel,'n':nlabel})\n",
    "#plt.figure(figsize=(8,6))\n",
    "ax_Block = sns.lineplot(\n",
    "    data=dfp_Block,\n",
    "    x='n',\n",
    "    y='CM',\n",
    "    hue='plabel',\n",
    "    style='plabel',   \n",
    "    markers='o',   \n",
    "    dashes=True,   \n",
    "    palette=['black','black','black']  \n",
    ")\n",
    "\n",
    "plt.ylabel('')\n",
    "plt.xlabel('n', fontsize=16)\n",
    "plt.ylim(-5, 105)\n",
    "plt.legend(loc=9, bbox_to_anchor=(0.5, 1), ncol=3)\n",
    "plt.xticks(fontsize=12)\n",
    "plt.yticks(fontsize=12)\n",
    "plt.title('LSM',fontsize=20)\n",
    "plt.grid()\n",
    "\n",
    "plt.savefig(\"CM_3W.pdf\",bbox_inches = 'tight')\n",
    "plt.show()"
   ]
  },
  {
   "cell_type": "code",
   "execution_count": null,
   "id": "3ba1ab44-f55d-437d-b783-86358dba8973",
   "metadata": {},
   "outputs": [],
   "source": []
  }
 ],
 "metadata": {
  "kernelspec": {
   "display_name": "myconda",
   "language": "python",
   "name": "myconda"
  },
  "language_info": {
   "codemirror_mode": {
    "name": "ipython",
    "version": 3
   },
   "file_extension": ".py",
   "mimetype": "text/x-python",
   "name": "python",
   "nbconvert_exporter": "python",
   "pygments_lexer": "ipython3",
   "version": "3.12.4"
  }
 },
 "nbformat": 4,
 "nbformat_minor": 5
}
