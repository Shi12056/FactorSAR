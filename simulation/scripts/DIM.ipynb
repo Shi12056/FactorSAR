{
 "cells": [
  {
   "cell_type": "markdown",
   "id": "d37b06b0-7896-4dc0-accb-c68357ad5d8b",
   "metadata": {
    "tags": []
   },
   "source": [
    "#### This notebook is used to conduct parameters estimation under the Dyad Independence Model (DIM) setting."
   ]
  },
  {
   "cell_type": "code",
   "execution_count": 1,
   "id": "7abac623-6cda-4ee6-ba94-02b66f76f9ac",
   "metadata": {},
   "outputs": [
    {
     "data": {
      "text/plain": [
       "<module 'utils' from '/mnt/code/simulation/scripts/utils.py'>"
      ]
     },
     "execution_count": 1,
     "metadata": {},
     "output_type": "execute_result"
    }
   ],
   "source": [
    "# Importing utils functions needed for simulation studies\n",
    "import utils\n",
    "from importlib import reload\n",
    "reload(utils)"
   ]
  },
  {
   "cell_type": "code",
   "execution_count": 2,
   "id": "1d517cac-5212-43ef-9f05-f2c8f8e1ac02",
   "metadata": {
    "tags": []
   },
   "outputs": [],
   "source": [
    "# Importing necessary packages\n",
    "import pandas as pd\n",
    "import sys,codecs\n",
    "import numpy as np\n",
    "import re\n",
    "import os\n",
    "import matplotlib.pyplot as plt\n",
    "import scipy.stats as st\n",
    "import collections\n",
    "import statsmodels.api as sm\n",
    "from time import time\n",
    "import random"
   ]
  },
  {
   "cell_type": "code",
   "execution_count": 3,
   "id": "af42da29-d191-4b68-999a-7d754b56c2c0",
   "metadata": {
    "scrolled": true
   },
   "outputs": [
    {
     "name": "stderr",
     "output_type": "stream",
     "text": [
      "2025-07-30 16:58:29,555\tINFO worker.py:1747 -- Connecting to existing Ray cluster at address: 192.168.1.7:6379...\n",
      "2025-07-30 16:58:29,575\tINFO worker.py:1927 -- Connected to Ray cluster.\n"
     ]
    },
    {
     "data": {
      "application/vnd.jupyter.widget-view+json": {
       "model_id": "0d19639577914e2e86b3e456894a86a5",
       "version_major": 2,
       "version_minor": 0
      },
      "text/html": [
       "<div class=\"lm-Widget p-Widget lm-Panel p-Panel jp-Cell-outputWrapper\">\n",
       "    <div style=\"margin-left: 50px;display: flex;flex-direction: row;align-items: center\">\n",
       "        <div class=\"jp-RenderedHTMLCommon\" style=\"display: flex; flex-direction: row;\">\n",
       "  <svg viewBox=\"0 0 567 224\" fill=\"none\" xmlns=\"http://www.w3.org/2000/svg\" style=\"height: 3em;\">\n",
       "    <g clip-path=\"url(#clip0_4338_178347)\">\n",
       "        <path d=\"M341.29 165.561H355.29L330.13 129.051C345.63 123.991 354.21 112.051 354.21 94.2307C354.21 71.3707 338.72 58.1807 311.88 58.1807H271V165.561H283.27V131.661H311.8C314.25 131.661 316.71 131.501 319.01 131.351L341.25 165.561H341.29ZM283.29 119.851V70.0007H311.82C331.3 70.0007 342.34 78.2907 342.34 94.5507C342.34 111.271 331.34 119.861 311.82 119.861L283.29 119.851ZM451.4 138.411L463.4 165.561H476.74L428.74 58.1807H416L367.83 165.561H380.83L392.83 138.411H451.4ZM446.19 126.601H398L422 72.1407L446.24 126.601H446.19ZM526.11 128.741L566.91 58.1807H554.35L519.99 114.181L485.17 58.1807H472.44L514.01 129.181V165.541H526.13V128.741H526.11Z\" fill=\"var(--jp-ui-font-color0)\"/>\n",
       "        <path d=\"M82.35 104.44C84.0187 97.8827 87.8248 92.0678 93.1671 87.9146C98.5094 83.7614 105.083 81.5067 111.85 81.5067C118.617 81.5067 125.191 83.7614 130.533 87.9146C135.875 92.0678 139.681 97.8827 141.35 104.44H163.75C164.476 101.562 165.622 98.8057 167.15 96.2605L127.45 56.5605C121.071 60.3522 113.526 61.6823 106.235 60.3005C98.9443 58.9187 92.4094 54.9203 87.8602 49.0574C83.3109 43.1946 81.0609 35.8714 81.5332 28.4656C82.0056 21.0599 85.1679 14.0819 90.4252 8.8446C95.6824 3.60726 102.672 0.471508 110.08 0.0272655C117.487 -0.416977 124.802 1.86091 130.647 6.4324C136.493 11.0039 140.467 17.5539 141.821 24.8501C143.175 32.1463 141.816 39.6859 138 46.0505L177.69 85.7505C182.31 82.9877 187.58 81.4995 192.962 81.4375C198.345 81.3755 203.648 82.742 208.33 85.3976C213.012 88.0532 216.907 91.9029 219.616 96.5544C222.326 101.206 223.753 106.492 223.753 111.875C223.753 117.258 222.326 122.545 219.616 127.197C216.907 131.848 213.012 135.698 208.33 138.353C203.648 141.009 198.345 142.375 192.962 142.313C187.58 142.251 182.31 140.763 177.69 138L138 177.7C141.808 184.071 143.155 191.614 141.79 198.91C140.424 206.205 136.44 212.75 130.585 217.313C124.731 221.875 117.412 224.141 110.004 223.683C102.596 223.226 95.6103 220.077 90.3621 214.828C85.1139 209.58 81.9647 202.595 81.5072 195.187C81.0497 187.779 83.3154 180.459 87.878 174.605C92.4405 168.751 98.9853 164.766 106.281 163.401C113.576 162.035 121.119 163.383 127.49 167.19L167.19 127.49C165.664 124.941 164.518 122.182 163.79 119.3H141.39C139.721 125.858 135.915 131.673 130.573 135.826C125.231 139.98 118.657 142.234 111.89 142.234C105.123 142.234 98.5494 139.98 93.2071 135.826C87.8648 131.673 84.0587 125.858 82.39 119.3H60C58.1878 126.495 53.8086 132.78 47.6863 136.971C41.5641 141.163 34.1211 142.972 26.7579 142.059C19.3947 141.146 12.6191 137.574 7.70605 132.014C2.79302 126.454 0.0813599 119.29 0.0813599 111.87C0.0813599 104.451 2.79302 97.2871 7.70605 91.7272C12.6191 86.1673 19.3947 82.5947 26.7579 81.6817C34.1211 80.7686 41.5641 82.5781 47.6863 86.7696C53.8086 90.9611 58.1878 97.2456 60 104.44H82.35ZM100.86 204.32C103.407 206.868 106.759 208.453 110.345 208.806C113.93 209.159 117.527 208.258 120.522 206.256C123.517 204.254 125.725 201.276 126.771 197.828C127.816 194.38 127.633 190.677 126.253 187.349C124.874 184.021 122.383 181.274 119.205 179.577C116.027 177.88 112.359 177.337 108.826 178.042C105.293 178.746 102.113 180.654 99.8291 183.44C97.5451 186.226 96.2979 189.718 96.3 193.32C96.2985 195.364 96.7006 197.388 97.4831 199.275C98.2656 201.163 99.4132 202.877 100.86 204.32ZM204.32 122.88C206.868 120.333 208.453 116.981 208.806 113.396C209.159 109.811 208.258 106.214 206.256 103.219C204.254 100.223 201.275 98.0151 197.827 96.97C194.38 95.9249 190.676 96.1077 187.348 97.4873C184.02 98.8669 181.274 101.358 179.577 104.536C177.879 107.714 177.337 111.382 178.041 114.915C178.746 118.448 180.653 121.627 183.439 123.911C186.226 126.195 189.717 127.443 193.32 127.44C195.364 127.443 197.388 127.042 199.275 126.259C201.163 125.476 202.878 124.328 204.32 122.88ZM122.88 19.4205C120.333 16.8729 116.981 15.2876 113.395 14.9347C109.81 14.5817 106.213 15.483 103.218 17.4849C100.223 19.4868 98.0146 22.4654 96.9696 25.9131C95.9245 29.3608 96.1073 33.0642 97.4869 36.3922C98.8665 39.7202 101.358 42.4668 104.535 44.1639C107.713 45.861 111.381 46.4036 114.914 45.6992C118.447 44.9949 121.627 43.0871 123.911 40.301C126.195 37.515 127.442 34.0231 127.44 30.4205C127.44 28.3772 127.038 26.3539 126.255 24.4664C125.473 22.5788 124.326 20.8642 122.88 19.4205ZM19.42 100.86C16.8725 103.408 15.2872 106.76 14.9342 110.345C14.5813 113.93 15.4826 117.527 17.4844 120.522C19.4863 123.518 22.4649 125.726 25.9127 126.771C29.3604 127.816 33.0638 127.633 36.3918 126.254C39.7198 124.874 42.4664 122.383 44.1635 119.205C45.8606 116.027 46.4032 112.359 45.6988 108.826C44.9944 105.293 43.0866 102.114 40.3006 99.8296C37.5145 97.5455 34.0227 96.2983 30.42 96.3005C26.2938 96.3018 22.337 97.9421 19.42 100.86ZM100.86 100.86C98.3125 103.408 96.7272 106.76 96.3742 110.345C96.0213 113.93 96.9226 117.527 98.9244 120.522C100.926 123.518 103.905 125.726 107.353 126.771C110.8 127.816 114.504 127.633 117.832 126.254C121.16 124.874 123.906 122.383 125.604 119.205C127.301 116.027 127.843 112.359 127.139 108.826C126.434 105.293 124.527 102.114 121.741 99.8296C118.955 97.5455 115.463 96.2983 111.86 96.3005C109.817 96.299 107.793 96.701 105.905 97.4835C104.018 98.2661 102.303 99.4136 100.86 100.86Z\" fill=\"#00AEEF\"/>\n",
       "    </g>\n",
       "    <defs>\n",
       "        <clipPath id=\"clip0_4338_178347\">\n",
       "            <rect width=\"566.93\" height=\"223.75\" fill=\"white\"/>\n",
       "        </clipPath>\n",
       "    </defs>\n",
       "  </svg>\n",
       "</div>\n",
       "\n",
       "        <table class=\"jp-RenderedHTMLCommon\" style=\"border-collapse: collapse;color: var(--jp-ui-font-color1);font-size: var(--jp-ui-font-size1);\">\n",
       "    <tr>\n",
       "        <td style=\"text-align: left\"><b>Python version:</b></td>\n",
       "        <td style=\"text-align: left\"><b>3.12.4</b></td>\n",
       "    </tr>\n",
       "    <tr>\n",
       "        <td style=\"text-align: left\"><b>Ray version:</b></td>\n",
       "        <td style=\"text-align: left\"><b>2.48.0</b></td>\n",
       "    </tr>\n",
       "    \n",
       "</table>\n",
       "\n",
       "    </div>\n",
       "</div>\n"
      ],
      "text/plain": [
       "RayContext(dashboard_url='', python_version='3.12.4', ray_version='2.48.0', ray_commit='03491225d59a1ffde99c3628969ccf456be13efd')"
      ]
     },
     "execution_count": 3,
     "metadata": {},
     "output_type": "execute_result"
    }
   ],
   "source": [
    "# Importing Ray, a distributed computing framework for enabling parallel and scalable execution\n",
    "import ray\n",
    "\n",
    "ray.init(address='auto')  "
   ]
  },
  {
   "cell_type": "code",
   "execution_count": 4,
   "id": "1ef6ffdd-3773-44cb-80e6-599c7149b39e",
   "metadata": {},
   "outputs": [
    {
     "name": "stdout",
     "output_type": "stream",
     "text": [
      "{'CPU': 124.0, 'object_store_memory': 79025689803.0, 'memory': 184393276213.0, 'node:192.168.1.6': 1.0, 'node:192.168.1.5': 1.0, 'node:192.168.1.8': 1.0, 'node:__internal_head__': 1.0, 'node:192.168.1.7': 1.0}\n"
     ]
    }
   ],
   "source": [
    "print(ray.cluster_resources())"
   ]
  },
  {
   "cell_type": "code",
   "execution_count": 5,
   "id": "fd66bd74-a91d-4faa-99e2-df3aeb7328f6",
   "metadata": {
    "tags": []
   },
   "outputs": [
    {
     "name": "stdout",
     "output_type": "stream",
     "text": [
      "CPU total: 124.0\n"
     ]
    }
   ],
   "source": [
    "# Importing OS module for interacting with the operating system (e.g., file paths, directories)\n",
    "import os\n",
    "\n",
    "NUM_CPU = (ray.cluster_resources())['CPU'] #os.cpu_count() \n",
    "\n",
    "print(f'CPU total: {NUM_CPU}')"
   ]
  },
  {
   "cell_type": "code",
   "execution_count": 6,
   "id": "1ac7b2a8-0ba2-4a82-8f1d-22fb179ec059",
   "metadata": {
    "tags": []
   },
   "outputs": [
    {
     "name": "stdout",
     "output_type": "stream",
     "text": [
      "max process: 31.0\n"
     ]
    }
   ],
   "source": [
    "NUM_THREADS = 4\n",
    "\n",
    "os.environ[\"MKL_NUM_THREADS\"]     = str(NUM_THREADS)\n",
    "os.environ[\"NUMEXPR_NUM_THREADS\"] = str(NUM_THREADS)\n",
    "os.environ[\"OMP_NUM_THREADS\"]     = str(NUM_THREADS)\n",
    "\n",
    "NUM_PROCESS = NUM_CPU // NUM_THREADS\n",
    "print(f'max process: {NUM_PROCESS}')"
   ]
  },
  {
   "cell_type": "markdown",
   "id": "19acf850-3a5d-4da6-94f7-8f27aa35ac85",
   "metadata": {},
   "source": [
    "### True parameters and network setting "
   ]
  },
  {
   "cell_type": "code",
   "execution_count": 7,
   "id": "9eca0fe9",
   "metadata": {
    "tags": []
   },
   "outputs": [],
   "source": [
    "# Dimensions\n",
    "n = 500; p = 50; q = 20; d = 3"
   ]
  },
  {
   "cell_type": "code",
   "execution_count": 8,
   "id": "730861f3",
   "metadata": {
    "tags": []
   },
   "outputs": [],
   "source": [
    "# true parameter\n",
    "seed = 666\n",
    "rng = np.random.default_rng(seed) \n",
    "tau = np.round(rng.uniform(0.15,0.2,p),4)\n",
    "rho = np.round(rng.uniform(0.2,0.9,p),4)\n",
    "beta0 = np.round(rng.uniform(0.5,1,(p,10)),4)\n",
    "beta1 = np.zeros((p,q-10))\n",
    "beta = np.hstack((beta0, beta1))\n",
    "bc = np.array(np.hstack([rng.normal(0,1,(p,d))]))\n",
    "# Omega mean and variance\n",
    "mean = np.zeros(p)\n",
    "ta = 0.15\n",
    "i, j = np.mgrid[:p, :p]\n",
    "cov = ta**2*ta**abs(i-j)\n",
    "cov[list(range(p)),list(range(p))] = ta\n",
    "sigma2 = np.zeros(p)\n",
    "for j in range(p):\n",
    "    sigma2[j] = bc[j,:]@bc[j,:] + ta"
   ]
  },
  {
   "cell_type": "code",
   "execution_count": 9,
   "id": "d3fb107b",
   "metadata": {
    "tags": []
   },
   "outputs": [],
   "source": [
    "# Adjacency matrix-DIM\n",
    "pv = [2/n,0.5*(n**(-0.8)),0.5*(n**(-0.8)),1-2/n-0.5*(n**(-0.8))-0.5*(n**(-0.8))]\n",
    "A = np.zeros((n,n))\n",
    "for i in range(0,n):\n",
    "    for j in range(i+1,n):\n",
    "        m = np.argmax(rng.multinomial(1,pv,1))\n",
    "        if m==0:\n",
    "            A[i,j] = A[j,i] = 1\n",
    "        elif m==1:\n",
    "            A[i,j] = 1; A[j,i] = 0\n",
    "        elif m==2:\n",
    "            A[i,j] = 0; A[j,i] = 1\n",
    "ind = (np.where(np.sum(A,1)==0))[0]\n",
    "for i in ind:\n",
    "    A[i,rng.choice(list(range(n)),4)] = 1\n",
    "A[list(range(n)),list(range(n))] = 0\n",
    "W = A/np.sum(A,1).reshape(n,1)"
   ]
  },
  {
   "cell_type": "code",
   "execution_count": 10,
   "id": "eb9ac9fe",
   "metadata": {
    "tags": []
   },
   "outputs": [
    {
     "name": "stdout",
     "output_type": "stream",
     "text": [
      "1892.0\n"
     ]
    },
    {
     "data": {
      "text/plain": [
       "np.float64(10.0)"
      ]
     },
     "execution_count": 10,
     "metadata": {},
     "output_type": "execute_result"
    }
   ],
   "source": [
    "# Check\n",
    "print(np.sum(A))\n",
    "np.max(np.sum(A,1))"
   ]
  },
  {
   "cell_type": "markdown",
   "id": "e5b272d3-be4f-4cab-a589-a93098da2681",
   "metadata": {},
   "source": [
    "### Save path setting and save parameters"
   ]
  },
  {
   "cell_type": "code",
   "execution_count": 11,
   "id": "83c8d860-ddb7-425b-9840-2d0a2d197967",
   "metadata": {},
   "outputs": [],
   "source": [
    "Save_path_dir = '../results/Results_dep_02/'"
   ]
  },
  {
   "cell_type": "code",
   "execution_count": 12,
   "id": "f24ee250",
   "metadata": {
    "tags": []
   },
   "outputs": [],
   "source": [
    "#save true values\n",
    "pd.DataFrame(rho).to_csv(Save_path_dir+f\"n{n}_p{p}_B500/rho_true_n{n}_p{p}.csv\",index=False)\n",
    "pd.DataFrame(beta).to_csv(Save_path_dir+f\"n{n}_p{p}_B500/beta_true_n{n}_p{p}.csv\",index=False)\n",
    "pd.DataFrame(bc).to_csv(Save_path_dir+f\"n{n}_p{p}_B500/B_true_n{n}_p{p}.csv\",index=False)\n",
    "pd.DataFrame(A).to_csv(Save_path_dir+f\"A_smallp_n{n}.csv\",index=False)"
   ]
  },
  {
   "cell_type": "markdown",
   "id": "8c5b9ad1-2b07-4de6-9cad-24a3c4f1d608",
   "metadata": {
    "tags": []
   },
   "source": [
    "### Parallel framework-Ray and full process"
   ]
  },
  {
   "cell_type": "code",
   "execution_count": 13,
   "id": "1fe7dedd-4f9c-4294-af67-b8ca85b38163",
   "metadata": {
    "tags": []
   },
   "outputs": [
    {
     "name": "stderr",
     "output_type": "stream",
     "text": [
      "2025-07-30 17:00:01,798\tINFO worker.py:1747 -- Connecting to existing Ray cluster at address: 192.168.1.7:6379...\n",
      "2025-07-30 17:00:01,800\tINFO worker.py:1765 -- Calling ray.init() again after it has already been called.\n"
     ]
    },
    {
     "data": {
      "application/vnd.jupyter.widget-view+json": {
       "model_id": "98da5cb125854cfa956aab134e4d7771",
       "version_major": 2,
       "version_minor": 0
      },
      "text/html": [
       "<div class=\"lm-Widget p-Widget lm-Panel p-Panel jp-Cell-outputWrapper\">\n",
       "    <div style=\"margin-left: 50px;display: flex;flex-direction: row;align-items: center\">\n",
       "        <div class=\"jp-RenderedHTMLCommon\" style=\"display: flex; flex-direction: row;\">\n",
       "  <svg viewBox=\"0 0 567 224\" fill=\"none\" xmlns=\"http://www.w3.org/2000/svg\" style=\"height: 3em;\">\n",
       "    <g clip-path=\"url(#clip0_4338_178347)\">\n",
       "        <path d=\"M341.29 165.561H355.29L330.13 129.051C345.63 123.991 354.21 112.051 354.21 94.2307C354.21 71.3707 338.72 58.1807 311.88 58.1807H271V165.561H283.27V131.661H311.8C314.25 131.661 316.71 131.501 319.01 131.351L341.25 165.561H341.29ZM283.29 119.851V70.0007H311.82C331.3 70.0007 342.34 78.2907 342.34 94.5507C342.34 111.271 331.34 119.861 311.82 119.861L283.29 119.851ZM451.4 138.411L463.4 165.561H476.74L428.74 58.1807H416L367.83 165.561H380.83L392.83 138.411H451.4ZM446.19 126.601H398L422 72.1407L446.24 126.601H446.19ZM526.11 128.741L566.91 58.1807H554.35L519.99 114.181L485.17 58.1807H472.44L514.01 129.181V165.541H526.13V128.741H526.11Z\" fill=\"var(--jp-ui-font-color0)\"/>\n",
       "        <path d=\"M82.35 104.44C84.0187 97.8827 87.8248 92.0678 93.1671 87.9146C98.5094 83.7614 105.083 81.5067 111.85 81.5067C118.617 81.5067 125.191 83.7614 130.533 87.9146C135.875 92.0678 139.681 97.8827 141.35 104.44H163.75C164.476 101.562 165.622 98.8057 167.15 96.2605L127.45 56.5605C121.071 60.3522 113.526 61.6823 106.235 60.3005C98.9443 58.9187 92.4094 54.9203 87.8602 49.0574C83.3109 43.1946 81.0609 35.8714 81.5332 28.4656C82.0056 21.0599 85.1679 14.0819 90.4252 8.8446C95.6824 3.60726 102.672 0.471508 110.08 0.0272655C117.487 -0.416977 124.802 1.86091 130.647 6.4324C136.493 11.0039 140.467 17.5539 141.821 24.8501C143.175 32.1463 141.816 39.6859 138 46.0505L177.69 85.7505C182.31 82.9877 187.58 81.4995 192.962 81.4375C198.345 81.3755 203.648 82.742 208.33 85.3976C213.012 88.0532 216.907 91.9029 219.616 96.5544C222.326 101.206 223.753 106.492 223.753 111.875C223.753 117.258 222.326 122.545 219.616 127.197C216.907 131.848 213.012 135.698 208.33 138.353C203.648 141.009 198.345 142.375 192.962 142.313C187.58 142.251 182.31 140.763 177.69 138L138 177.7C141.808 184.071 143.155 191.614 141.79 198.91C140.424 206.205 136.44 212.75 130.585 217.313C124.731 221.875 117.412 224.141 110.004 223.683C102.596 223.226 95.6103 220.077 90.3621 214.828C85.1139 209.58 81.9647 202.595 81.5072 195.187C81.0497 187.779 83.3154 180.459 87.878 174.605C92.4405 168.751 98.9853 164.766 106.281 163.401C113.576 162.035 121.119 163.383 127.49 167.19L167.19 127.49C165.664 124.941 164.518 122.182 163.79 119.3H141.39C139.721 125.858 135.915 131.673 130.573 135.826C125.231 139.98 118.657 142.234 111.89 142.234C105.123 142.234 98.5494 139.98 93.2071 135.826C87.8648 131.673 84.0587 125.858 82.39 119.3H60C58.1878 126.495 53.8086 132.78 47.6863 136.971C41.5641 141.163 34.1211 142.972 26.7579 142.059C19.3947 141.146 12.6191 137.574 7.70605 132.014C2.79302 126.454 0.0813599 119.29 0.0813599 111.87C0.0813599 104.451 2.79302 97.2871 7.70605 91.7272C12.6191 86.1673 19.3947 82.5947 26.7579 81.6817C34.1211 80.7686 41.5641 82.5781 47.6863 86.7696C53.8086 90.9611 58.1878 97.2456 60 104.44H82.35ZM100.86 204.32C103.407 206.868 106.759 208.453 110.345 208.806C113.93 209.159 117.527 208.258 120.522 206.256C123.517 204.254 125.725 201.276 126.771 197.828C127.816 194.38 127.633 190.677 126.253 187.349C124.874 184.021 122.383 181.274 119.205 179.577C116.027 177.88 112.359 177.337 108.826 178.042C105.293 178.746 102.113 180.654 99.8291 183.44C97.5451 186.226 96.2979 189.718 96.3 193.32C96.2985 195.364 96.7006 197.388 97.4831 199.275C98.2656 201.163 99.4132 202.877 100.86 204.32ZM204.32 122.88C206.868 120.333 208.453 116.981 208.806 113.396C209.159 109.811 208.258 106.214 206.256 103.219C204.254 100.223 201.275 98.0151 197.827 96.97C194.38 95.9249 190.676 96.1077 187.348 97.4873C184.02 98.8669 181.274 101.358 179.577 104.536C177.879 107.714 177.337 111.382 178.041 114.915C178.746 118.448 180.653 121.627 183.439 123.911C186.226 126.195 189.717 127.443 193.32 127.44C195.364 127.443 197.388 127.042 199.275 126.259C201.163 125.476 202.878 124.328 204.32 122.88ZM122.88 19.4205C120.333 16.8729 116.981 15.2876 113.395 14.9347C109.81 14.5817 106.213 15.483 103.218 17.4849C100.223 19.4868 98.0146 22.4654 96.9696 25.9131C95.9245 29.3608 96.1073 33.0642 97.4869 36.3922C98.8665 39.7202 101.358 42.4668 104.535 44.1639C107.713 45.861 111.381 46.4036 114.914 45.6992C118.447 44.9949 121.627 43.0871 123.911 40.301C126.195 37.515 127.442 34.0231 127.44 30.4205C127.44 28.3772 127.038 26.3539 126.255 24.4664C125.473 22.5788 124.326 20.8642 122.88 19.4205ZM19.42 100.86C16.8725 103.408 15.2872 106.76 14.9342 110.345C14.5813 113.93 15.4826 117.527 17.4844 120.522C19.4863 123.518 22.4649 125.726 25.9127 126.771C29.3604 127.816 33.0638 127.633 36.3918 126.254C39.7198 124.874 42.4664 122.383 44.1635 119.205C45.8606 116.027 46.4032 112.359 45.6988 108.826C44.9944 105.293 43.0866 102.114 40.3006 99.8296C37.5145 97.5455 34.0227 96.2983 30.42 96.3005C26.2938 96.3018 22.337 97.9421 19.42 100.86ZM100.86 100.86C98.3125 103.408 96.7272 106.76 96.3742 110.345C96.0213 113.93 96.9226 117.527 98.9244 120.522C100.926 123.518 103.905 125.726 107.353 126.771C110.8 127.816 114.504 127.633 117.832 126.254C121.16 124.874 123.906 122.383 125.604 119.205C127.301 116.027 127.843 112.359 127.139 108.826C126.434 105.293 124.527 102.114 121.741 99.8296C118.955 97.5455 115.463 96.2983 111.86 96.3005C109.817 96.299 107.793 96.701 105.905 97.4835C104.018 98.2661 102.303 99.4136 100.86 100.86Z\" fill=\"#00AEEF\"/>\n",
       "    </g>\n",
       "    <defs>\n",
       "        <clipPath id=\"clip0_4338_178347\">\n",
       "            <rect width=\"566.93\" height=\"223.75\" fill=\"white\"/>\n",
       "        </clipPath>\n",
       "    </defs>\n",
       "  </svg>\n",
       "</div>\n",
       "\n",
       "        <table class=\"jp-RenderedHTMLCommon\" style=\"border-collapse: collapse;color: var(--jp-ui-font-color1);font-size: var(--jp-ui-font-size1);\">\n",
       "    <tr>\n",
       "        <td style=\"text-align: left\"><b>Python version:</b></td>\n",
       "        <td style=\"text-align: left\"><b>3.12.4</b></td>\n",
       "    </tr>\n",
       "    <tr>\n",
       "        <td style=\"text-align: left\"><b>Ray version:</b></td>\n",
       "        <td style=\"text-align: left\"><b>2.48.0</b></td>\n",
       "    </tr>\n",
       "    \n",
       "</table>\n",
       "\n",
       "    </div>\n",
       "</div>\n"
      ],
      "text/plain": [
       "RayContext(dashboard_url='', python_version='3.12.4', ray_version='2.48.0', ray_commit='03491225d59a1ffde99c3628969ccf456be13efd')"
      ]
     },
     "execution_count": 13,
     "metadata": {},
     "output_type": "execute_result"
    }
   ],
   "source": [
    "# parallel computation framework\n",
    "import ray\n",
    "\n",
    "ray.init(num_cpus=NUM_CPU, ignore_reinit_error=True)"
   ]
  },
  {
   "cell_type": "code",
   "execution_count": 16,
   "id": "6282033c-e633-4522-bbfd-b4b0fc65fdbc",
   "metadata": {
    "tags": []
   },
   "outputs": [
    {
     "data": {
      "text/plain": [
       "np.int64(8)"
      ]
     },
     "execution_count": 16,
     "metadata": {},
     "output_type": "execute_result"
    }
   ],
   "source": [
    "# Randomly selected one dimension response for the CP\n",
    "jj = rng.integers(0, p)\n",
    "Save_path_process = os.path.abspath(Save_path_dir + 'process.txt')\n",
    "Save_path_process_ci = os.path.abspath(Save_path_dir + 'process_ci.txt')\n",
    "jj"
   ]
  },
  {
   "cell_type": "code",
   "execution_count": 17,
   "id": "62900983",
   "metadata": {
    "tags": []
   },
   "outputs": [],
   "source": [
    "# Whole process\n",
    "# Defining `map_fun_fmle` function, implementing a specific computational task\n",
    "@ray.remote(num_cpus=4) \n",
    "def map_fun_fmle(bb):\n",
    "    \n",
    "    Y, X, Z = utils.data_generator(n, p, q, d, W, mean, cov, rho, beta, bc, seed = bb + 88)\n",
    "    n0 = int(0.1*n)\n",
    "    n1 = n - n0\n",
    "    WW0 = W[:n0,:n0]\n",
    "    Y0, X0, Z0 = Y[:n0], X[:n0,:], Z[:n0,:]  \n",
    "    WW1 = W[n0:,n0:]\n",
    "    Y1, X1, Z1 = Y[n0:], X[n0:,:], Z[n0:,:]\n",
    "    # tic1n = time()\n",
    "    #initial estimators\n",
    "    rho_hi, beta_hi, sigma2_hi, ite_hi = utils.optimize_initial(n1, p, q, WW1, Y1, X1, bb, Save_path_process)\n",
    "    rho_hb, beta_hb, sigma2_hb, ite_hb = utils.optimize_initial(n0, p, q, WW0, Y0, X0, bb, Save_path_process)\n",
    "    print('cmle is over')\n",
    "    # toc1n = time()\n",
    "    # print(toc1n - tic1n)\n",
    "    \n",
    "    # Estimate Zi and M\n",
    "    Z_h, M = utils.Z_est(n0, p, q, d, WW0, WW1, Y1, X1, rho_hi, beta_hi, Y0, X0, rho_hb, beta_hb)\n",
    "    \n",
    "    Z_err_max = np.max(abs(Z_h - Z1))\n",
    "    Z_err_max1 = np.max(abs(-Z_h - Z1))\n",
    "    print('Z_err_max:', Z_err_max, 'Z_err_max1:', Z_err_max1)\n",
    "    if Z_err_max>Z_err_max1:\n",
    "        Z_h = - Z_h\n",
    "    if (Z_err_max>10) and (Z_err_max1>10):\n",
    "        return np.zeros((8,p)),np.zeros(p),np.zeros(p),np.zeros(p)\n",
    "    \n",
    "    # FMLE with true Z\n",
    "    rho_hfZ, beta_hfZ, b_hfZ, tau2_hfZ, ite_hfZ = utils.optimize(n1, p, q, d, WW1, Z1, Y1, X1, bb, Save_path_process)\n",
    "    print('SARX is over')\n",
    "    \n",
    "    # FMLE with estimated Z\n",
    "    rho_hf, beta_hf, b_hf, tau2_hf, ite_hf = utils.optimize(n1, p, q, d, WW1, Z_h, Y1, X1, bb, Save_path_process)\n",
    "    print('fmle is over')\n",
    "\n",
    "    H_hat = M.T@M/p\n",
    "    bc_hat = b_hf.T@H_hat\n",
    "    sigma2_hat = np.zeros(p)\n",
    "    for j in range(p):\n",
    "        sigma2_hat[j] = bc_hat[j,:]@bc_hat[j,:] + tau2_hf[j]\n",
    "\n",
    "    lower_est = np.zeros(p)\n",
    "    upper_est = np.zeros(p)\n",
    "    q0 = 10\n",
    "    # for j in range(p):\n",
    "    #     tic1nj = time()\n",
    "    #     lower_est[j], upper_est[j] = CI_est_new(j, n1, p, q0, d, WW1, rho_hf, beta_hf, b_hf, tau2_hf, M, sigma2_hat, Y1, X1, Z_h, 1.96)\n",
    "    #     toc1nj = time()\n",
    "    #     with open('Results_Block_02/process.txt', 'a') as f1:\n",
    "    #         f1.write(str(bb)+', '+str(j)+', '+str(toc1nj - tic1nj)+', '+str(lower_est[j])+', '+str(upper_est[j])+'\\n')   \n",
    "    # CI computation\n",
    "    tic1nj = time()\n",
    "    lower_est[jj], upper_est[jj] = utils.CI_est_test(jj, n1, p, q0, d, WW1, rho_hf, beta_hf, b_hf, tau2_hf, M, sigma2_hat, Y1, X1, Z_h, 1.96)\n",
    "    toc1nj = time()  \n",
    "    with open(Save_path_process_ci, 'a') as f1:\n",
    "        f1.write(str(bb)+', '+str(jj)+', '+str(toc1nj - tic1nj)+', '+str(lower_est[jj])+', '+str(upper_est[jj])+'\\n')   \n",
    " \n",
    "\n",
    "    return np.array([rho_hi, rho_hfZ, rho_hf, sigma2_hi, tau2_hfZ, tau2_hf, lower_est, upper_est]), ite_hi, ite_hfZ, ite_hf"
   ]
  },
  {
   "cell_type": "code",
   "execution_count": 18,
   "id": "1858ea86",
   "metadata": {
    "tags": []
   },
   "outputs": [],
   "source": [
    "from time import time\n",
    "from numpy.random import default_rng"
   ]
  },
  {
   "cell_type": "markdown",
   "id": "1ec1c667-f25b-456d-9d9b-f8c4a5c9b8b2",
   "metadata": {},
   "source": [
    "### Start parallel experiments"
   ]
  },
  {
   "cell_type": "code",
   "execution_count": 19,
   "id": "b95fc798-3e8e-457e-bf4f-bd5a7f1122c3",
   "metadata": {
    "scrolled": true,
    "tags": []
   },
   "outputs": [
    {
     "name": "stdout",
     "output_type": "stream",
     "text": [
      "4065.9902787208557\n"
     ]
    }
   ],
   "source": [
    "# whole experiments\n",
    "BB = 500\n",
    "tic1 = time()\n",
    "tasks = [map_fun_fmle.remote(bb) for bb in range(BB)]\n",
    "results500_p50whole = ray.get(tasks)  # 等待所有任务完成\n",
    "toc1 = time()\n",
    "print(toc1 - tic1) # 总的计算时间"
   ]
  },
  {
   "cell_type": "code",
   "execution_count": 20,
   "id": "2138f6b0",
   "metadata": {
    "scrolled": true,
    "tags": []
   },
   "outputs": [],
   "source": [
    "# Results\n",
    "BB = 500\n",
    "theta_hat_dep_n500_p50_B500 = np.zeros((BB,8,p))\n",
    "ite_ini = np.zeros((BB,p))\n",
    "ite_fZin = np.zeros((BB,p))\n",
    "ite_fin = np.zeros((BB,p))\n",
    "#tic1 = time()\n",
    "for bt in range(BB):\n",
    "    theta_hat_dep_n500_p50_B500[bt,:,:], ite_ini[bt,:],ite_fZin[bt,:], ite_fin[bt,:] = results500_p50whole[bt][0], results500_p50whole[bt][1],results500_p50whole[bt][2],results500_p50whole[bt][3]\n",
    "#toc1 = time()"
   ]
  },
  {
   "cell_type": "code",
   "execution_count": 21,
   "id": "f35ca305-72fb-4a96-8952-6033fc939b3c",
   "metadata": {
    "tags": []
   },
   "outputs": [],
   "source": [
    "# ECP computation\n",
    "cc = list(set(range(BB)).difference(set(np.where(ite_fin==0)[0])))\n",
    "ECP = np.zeros(len(cc))\n",
    "i=0\n",
    "for b in cc:\n",
    "    ECP[i] = (theta_hat_dep_n500_p50_B500[b,6,jj]<=rho[jj]) & (rho[jj]<=theta_hat_dep_n500_p50_B500[b,7,jj])\n",
    "    i = i+1"
   ]
  },
  {
   "cell_type": "code",
   "execution_count": 22,
   "id": "d64f954a-a7ca-4134-8c18-bc772740f931",
   "metadata": {
    "tags": []
   },
   "outputs": [
    {
     "data": {
      "text/plain": [
       "np.float64(0.962)"
      ]
     },
     "execution_count": 22,
     "metadata": {},
     "output_type": "execute_result"
    }
   ],
   "source": [
    "np.mean(ECP) "
   ]
  },
  {
   "cell_type": "code",
   "execution_count": 23,
   "id": "6fed6073",
   "metadata": {
    "tags": []
   },
   "outputs": [
    {
     "data": {
      "text/plain": [
       "np.float64(0.03038408106492361)"
      ]
     },
     "execution_count": 23,
     "metadata": {},
     "output_type": "execute_result"
    }
   ],
   "source": [
    "#cmle\n",
    "np.nanmean(abs(theta_hat_dep_n500_p50_B500[cc,0,:]-((rho.reshape((p,1))@np.ones((1,BB))).T)[cc,:]))"
   ]
  },
  {
   "cell_type": "code",
   "execution_count": 24,
   "id": "21f8a1d8",
   "metadata": {
    "tags": []
   },
   "outputs": [
    {
     "data": {
      "text/plain": [
       "np.float64(0.009686677254523931)"
      ]
     },
     "execution_count": 24,
     "metadata": {},
     "output_type": "execute_result"
    }
   ],
   "source": [
    "#SARX with true Z\n",
    "np.nanmean(abs(theta_hat_dep_n500_p50_B500[cc,1,:]-((rho.reshape((p,1))@np.ones((1,BB))).T)[cc,:]))"
   ]
  },
  {
   "cell_type": "code",
   "execution_count": 25,
   "id": "dc0b1b1c",
   "metadata": {
    "tags": []
   },
   "outputs": [
    {
     "data": {
      "text/plain": [
       "np.float64(0.02046833353863398)"
      ]
     },
     "execution_count": 25,
     "metadata": {},
     "output_type": "execute_result"
    }
   ],
   "source": [
    "#fmle\n",
    "np.nanmean(abs(theta_hat_dep_n500_p50_B500[cc,2,:]-((rho.reshape((p,1))@np.ones((1,BB))).T)[cc,:]))"
   ]
  },
  {
   "cell_type": "code",
   "execution_count": 26,
   "id": "4dc6e6e2",
   "metadata": {
    "tags": []
   },
   "outputs": [],
   "source": [
    "# save results\n",
    "for b in range(BB):\n",
    "    pd.DataFrame(theta_hat_dep_n500_p50_B500[b,:,:]).to_csv(\"../results/Results_dep_02/n500_p50_B500/theta_hat_dep_n500_p50_\"+str(b)+'_.csv',index=False)"
   ]
  },
  {
   "cell_type": "code",
   "execution_count": null,
   "id": "41b8bfbb",
   "metadata": {},
   "outputs": [],
   "source": []
  },
  {
   "cell_type": "code",
   "execution_count": null,
   "id": "ae2fbe46",
   "metadata": {},
   "outputs": [],
   "source": []
  },
  {
   "cell_type": "code",
   "execution_count": null,
   "id": "c3601c01",
   "metadata": {},
   "outputs": [],
   "source": []
  },
  {
   "cell_type": "code",
   "execution_count": null,
   "id": "2caba2be",
   "metadata": {},
   "outputs": [],
   "source": []
  },
  {
   "cell_type": "code",
   "execution_count": null,
   "id": "b0aeea8a",
   "metadata": {},
   "outputs": [],
   "source": []
  },
  {
   "cell_type": "code",
   "execution_count": null,
   "id": "649d6705",
   "metadata": {},
   "outputs": [],
   "source": []
  },
  {
   "cell_type": "code",
   "execution_count": null,
   "id": "4e90ca4d",
   "metadata": {},
   "outputs": [],
   "source": []
  },
  {
   "cell_type": "code",
   "execution_count": null,
   "id": "473ad87e",
   "metadata": {},
   "outputs": [],
   "source": []
  },
  {
   "cell_type": "code",
   "execution_count": null,
   "id": "422aa85e",
   "metadata": {},
   "outputs": [],
   "source": []
  }
 ],
 "metadata": {
  "kernelspec": {
   "display_name": "myconda",
   "language": "python",
   "name": "myconda"
  },
  "language_info": {
   "codemirror_mode": {
    "name": "ipython",
    "version": 3
   },
   "file_extension": ".py",
   "mimetype": "text/x-python",
   "name": "python",
   "nbconvert_exporter": "python",
   "pygments_lexer": "ipython3",
   "version": "3.12.4"
  }
 },
 "nbformat": 4,
 "nbformat_minor": 5
}
