{
 "cells": [
  {
   "cell_type": "code",
   "execution_count": 1,
   "id": "f92f4bdb",
   "metadata": {
    "tags": []
   },
   "outputs": [],
   "source": [
    "import pandas as pd\n",
    "import sys,codecs\n",
    "import numpy as np\n",
    "import re\n",
    "import os\n",
    "import matplotlib.pyplot as plt\n",
    "import scipy.stats as st\n",
    "import collections\n",
    "import statsmodels.api as sm\n",
    "from time import time\n",
    "import random"
   ]
  },
  {
   "cell_type": "code",
   "execution_count": 2,
   "id": "fd66bd74-a91d-4faa-99e2-df3aeb7328f6",
   "metadata": {
    "tags": []
   },
   "outputs": [
    {
     "name": "stdout",
     "output_type": "stream",
     "text": [
      "CPU count: 36\n"
     ]
    }
   ],
   "source": [
    "import os\n",
    "\n",
    "NUM_CPU = len(os.sched_getaffinity(0)) #os.cpu_count() \n",
    "\n",
    "print(f'CPU count: {NUM_CPU}')"
   ]
  },
  {
   "cell_type": "code",
   "execution_count": 3,
   "id": "1ac7b2a8-0ba2-4a82-8f1d-22fb179ec059",
   "metadata": {
    "tags": []
   },
   "outputs": [
    {
     "name": "stdout",
     "output_type": "stream",
     "text": [
      "max process: 9\n"
     ]
    }
   ],
   "source": [
    "NUM_THREADS = 4\n",
    "\n",
    "os.environ[\"MKL_NUM_THREADS\"]     = str(NUM_THREADS)\n",
    "os.environ[\"NUMEXPR_NUM_THREADS\"] = str(NUM_THREADS)\n",
    "os.environ[\"OMP_NUM_THREADS\"]     = str(NUM_THREADS)\n",
    "\n",
    "NUM_PROCESS = NUM_CPU // NUM_THREADS\n",
    "print(f'max process: {NUM_PROCESS}')"
   ]
  },
  {
   "cell_type": "code",
   "execution_count": 2,
   "id": "9eca0fe9",
   "metadata": {
    "tags": []
   },
   "outputs": [],
   "source": [
    "# 相关维度设定\n",
    "n = 500; p = 50; q = 20; d = 3"
   ]
  },
  {
   "cell_type": "code",
   "execution_count": 3,
   "id": "730861f3",
   "metadata": {
    "tags": []
   },
   "outputs": [],
   "source": [
    "# true parameter\n",
    "tau = np.round(np.random.uniform(0.15,0.2,p),4)\n",
    "rho = np.round(np.random.uniform(0.2,0.9,p),4)\n",
    "beta0 = np.round(np.random.uniform(0.5,1,(p,10)),4)\n",
    "beta1 = np.zeros((p,q-10))\n",
    "beta = np.hstack((beta0, beta1))\n",
    "bc = np.array(np.hstack([np.random.normal(0,1,(p,d))]))\n",
    "# Omega mean and variance\n",
    "mean = np.zeros(p)\n",
    "ta = 0.15\n",
    "i, j = np.mgrid[:p, :p]\n",
    "cov = ta**2*ta**abs(i-j)\n",
    "cov[list(range(p)),list(range(p))] = ta\n",
    "sigma2 = np.zeros(p)\n",
    "for j in range(p):\n",
    "    sigma2[j] = bc[j,:]@bc[j,:] + ta"
   ]
  },
  {
   "cell_type": "code",
   "execution_count": 4,
   "id": "25951874",
   "metadata": {
    "tags": []
   },
   "outputs": [],
   "source": [
    "# adjacency matrix-LSM\n",
    "dd = np.random.uniform(0,1,n)\n",
    "D = -(n/4)*abs(dd.reshape(n,1)@(np.ones(n).reshape(1,n)) - (np.ones(n).reshape(n,1))@dd.reshape(1,n))\n",
    "P = np.exp(D)/(1+np.exp(D))\n",
    "P[list(range(n)),list(range(n))] = 0\n",
    "A = (np.random.binomial(1,P)).reshape((n,n))\n",
    "ind = (np.where(np.sum(A,1)==0))[0]\n",
    "for i in ind:\n",
    "    A[i,random.sample(list(range(n)),6)] = 1\n",
    "A[list(range(n)),list(range(n))] = 0\n",
    "W = A/np.sum(A,1).reshape(n,1) "
   ]
  },
  {
   "cell_type": "code",
   "execution_count": 5,
   "id": "eb9ac9fe",
   "metadata": {
    "tags": []
   },
   "outputs": [
    {
     "name": "stdout",
     "output_type": "stream",
     "text": [
      "2735\n"
     ]
    },
    {
     "data": {
      "text/plain": [
       "14"
      ]
     },
     "execution_count": 5,
     "metadata": {},
     "output_type": "execute_result"
    }
   ],
   "source": [
    "# check\n",
    "print(np.sum(A))\n",
    "np.max(np.sum(A,1))"
   ]
  },
  {
   "cell_type": "code",
   "execution_count": 57,
   "id": "f24ee250",
   "metadata": {
    "tags": []
   },
   "outputs": [],
   "source": [
    "# save true parameter\n",
    "pd.DataFrame(rho).to_csv(\"Results_LSM_02/n500_p50_B500/rho_true_n500_p200.csv\",index=False)\n",
    "pd.DataFrame(beta).to_csv(\"Results_LSM_02/n500_p50_B500/beta_true_n500_p200.csv\",index=False)\n",
    "pd.DataFrame(bc).to_csv(\"Results_LSM_02/n500_p50_B500/B_true_n500_p200.csv\",index=False)\n",
    "pd.DataFrame(A).to_csv(\"Results_LSM_02/A_smallp_n500.csv\",index=False)"
   ]
  },
  {
   "cell_type": "code",
   "execution_count": 6,
   "id": "3bbf0786",
   "metadata": {
    "tags": []
   },
   "outputs": [],
   "source": [
    "# Data generation function\n",
    "def data_generator(nn, p, q, d, seed):\n",
    "\n",
    "    rng = np.random.default_rng(seed) \n",
    "    \n",
    "    q0 = 10\n",
    "    Omega = rng.multivariate_normal(mean, cov, (nn,), 'raise')   \n",
    "    X = rng.normal(0,1,(nn,q0))\n",
    "    Z = rng.normal(0,1,(nn,d))\n",
    "    \n",
    "    Y = np.zeros((n,p))\n",
    "    for j in range(p):\n",
    "        y_j = np.dot(np.linalg.inv(np.eye(nn)-rho[j]*W), X@beta[j,:q0] + Z@bc[j,:]+Omega[:,j])#\n",
    "        Y[:,j] = y_j \n",
    "        \n",
    "    return Y,X,Z"
   ]
  },
  {
   "cell_type": "code",
   "execution_count": 7,
   "id": "e254e2f5-4911-47cf-9c39-b1d9ac814e79",
   "metadata": {
    "tags": []
   },
   "outputs": [],
   "source": [
    "# CMLE-gradient\n",
    "def gardient_initial_lj(nn, p, q, WW, para, Yj, XX):\n",
    "    \n",
    "    q0 = 10\n",
    "    \n",
    "    rho_j = para[0]\n",
    "    beta_j = para[1:(q0+1)]\n",
    "    sigma2_j = para[-1]\n",
    "    \n",
    "    \n",
    "    Sj = np.eye(nn)-rho_j*WW\n",
    "    S_inverse = np.linalg.inv(Sj)\n",
    "    G = WW@S_inverse\n",
    "    Ep = Sj@Yj - XX@beta_j\n",
    "    \n",
    "    g1 = -np.trace(G)+np.dot((WW@Yj).T,Ep)/sigma2_j\n",
    "    g2 = (XX.T@Ep)/sigma2_j\n",
    "    g3 = -nn/(2*sigma2_j)+(Ep.T@Ep)/(2*(sigma2_j**2))\n",
    "    #print(Ep)\n",
    "    \n",
    "    return np.concatenate(([g1],g2,[g3]))"
   ]
  },
  {
   "cell_type": "code",
   "execution_count": 8,
   "id": "4146a9ed-afbd-493c-9f52-502352e83ca3",
   "metadata": {
    "tags": []
   },
   "outputs": [],
   "source": [
    "# CMLE-hessian\n",
    "def hessian_initial_lj(nn, p, q, Wt, para, Yj, XX):\n",
    "    \n",
    "    q0 = 10\n",
    "\n",
    "    rho_j = para[0]\n",
    "    beta_j = para[1:(q0+1)]\n",
    "    sigma2_j = para[-1]\n",
    "    \n",
    "    Sj = np.eye(nn)-rho_j*Wt\n",
    "    S_inverse = np.linalg.inv(Sj)\n",
    "    G = np.dot(Wt,S_inverse)\n",
    "    WW = np.dot(Wt.T,Wt)\n",
    "    WS = np.dot(Wt.T,Sj)\n",
    "    SS = np.dot(Sj.T,Sj)\n",
    "    Ep = Sj@Yj - XX@beta_j\n",
    "    \n",
    "    \n",
    "    h11 = -np.trace(G@G)-np.dot(Yj.T@WW,Yj)/sigma2_j\n",
    "    h12 = h21 = -(XX.T@(Wt@Yj)/sigma2_j).reshape(q0,1)\n",
    "    h31 = h13 = -np.dot((Wt@Yj).T,Ep)/(sigma2_j**2)\n",
    "    \n",
    "    h22 = -XX.T@XX/sigma2_j\n",
    "    h23 = h32 = -(XX.T@Ep/(2*sigma2_j**2)).reshape(q0,1)\n",
    "    h33 = nn/(2*sigma2_j**2)-np.dot(Yj.T@SS,Yj)/(sigma2_j**3)\n",
    "    \n",
    "    H = np.block([\n",
    "         [h11, h12.T, h13],\n",
    "         [h21, h22, h23],\n",
    "         [h31, h32.T, h33]\n",
    "    ])\n",
    "    \n",
    "    return H"
   ]
  },
  {
   "cell_type": "code",
   "execution_count": 10,
   "id": "2dcbad09-fc22-4875-8356-f55eae5bfbd5",
   "metadata": {
    "tags": []
   },
   "outputs": [],
   "source": [
    "# Newton--CMLE\n",
    "def newton_sea_initial(nn, p, q, Wt, pa0, Yj, XX, max_iter = 50, eps = 1e-4):\n",
    "    \n",
    "    q0 = 10\n",
    "    pa_new = pa0\n",
    "    for t in range(max_iter):\n",
    "        pa_pre = pa_new\n",
    "        gradient = gardient_initial_lj(nn, p, q, Wt, pa_pre, Yj, XX)/nn \n",
    "        hessian =  hessian_initial_lj(nn, p, q, Wt, pa_pre, Yj, XX)/nn \n",
    "        diff = np.linalg.inv(hessian+0.001*np.eye(q0+2)).dot(gradient)\n",
    "        pa_new = pa_pre - diff # 迭代公式\n",
    "        if pa_new[-1]<0.01: pa_new[-1] = 0.01\n",
    "        if pa_new[0]>1: pa_new[0] = 0.95\n",
    "        #print(np.max(abs(diff)))\n",
    "        if np.linalg.norm(diff) < eps:\n",
    "            break\n",
    "            \n",
    "    return pa_new,t+1"
   ]
  },
  {
   "cell_type": "code",
   "execution_count": 11,
   "id": "55422407-5c1e-49d1-815e-3626c288ecd7",
   "metadata": {
    "tags": []
   },
   "outputs": [],
   "source": [
    "# SAR optimization function\n",
    "def optimize_initial(nn, p, q, Wt,YY, XX,bb):\n",
    "    \n",
    "    q0 = 10\n",
    "    para = np.zeros((q0+2,p))\n",
    "    ite = np.zeros(p)\n",
    "    par = np.zeros(q0+2)\n",
    "    par[-1] = 0.1\n",
    "    for j in range(p):\n",
    "        res = newton_sea_initial(nn, p, q, Wt, par, YY[:,j], XX)\n",
    "        para[:,j] = res[0]\n",
    "        if para[0,j]> 0.95: \n",
    "            para[0,j] = 0.95\n",
    "        if para[0,j]< 0.05: \n",
    "            para[0,j] = 0.05\n",
    "        ite[j] = res[1]\n",
    "        with open('Results_LSM_02/process.txt', 'a') as f1:\n",
    "            f1.write(str(bb)+', initial: '+ str(j) + ', '+ str(para[0,j]) +'\\n')\n",
    "        #print('initial:',j, para[0,j])\n",
    "    \n",
    "    return para[0,:],para[1:(q0+1),:], para[-1,:],ite"
   ]
  },
  {
   "cell_type": "code",
   "execution_count": 12,
   "id": "38dbb9b1",
   "metadata": {
    "tags": []
   },
   "outputs": [],
   "source": [
    "# FMLE-gradient\n",
    "def gardient_lj(nn, p, q, d, Wt,the0, Z_ee, Yj, XX):\n",
    "    \n",
    "    q0 = 10\n",
    "    rhoj = the0[0]\n",
    "    betaj = the0[1:(q0+1)]\n",
    "    bj = the0[(q0+1):(q0+d+1)]\n",
    "    tauj2 = the0[-1]\n",
    "    \n",
    "    Sj = np.eye(nn)-rhoj*Wt\n",
    "    S_inverse = np.linalg.inv(Sj)\n",
    "    G = Wt@S_inverse\n",
    "    Ep = Sj@Yj - XX@betaj - Z_ee@bj\n",
    "    \n",
    "    g1 = -np.trace(G)+np.dot((Wt@Yj).T,Ep)/tauj2\n",
    "    g2 = (XX.T@Ep)/tauj2\n",
    "    g3 = (Z_ee.T@Ep)/tauj2\n",
    "    g4 = -nn/(2*tauj2)+(Ep.T@Ep)/(2*tauj2**2)\n",
    "    \n",
    "    return np.concatenate(([g1],g2,g3,[g4]))"
   ]
  },
  {
   "cell_type": "code",
   "execution_count": 13,
   "id": "b4a4debb",
   "metadata": {
    "tags": []
   },
   "outputs": [],
   "source": [
    "# FMLE - hessian\n",
    "def hessian_lj(nn, p, q, d, Wt, the0, Z_e, Yj, XX):\n",
    "    \n",
    "    q0 = 10\n",
    "    rhoj = the0[0]\n",
    "    betaj = the0[1:(q0+1)]\n",
    "    bj = the0[(q0+1):(q0+d+1)]\n",
    "    tauj2 = the0[-1]\n",
    "    \n",
    "    Sj = np.eye(nn)-rhoj*Wt\n",
    "    S_inverse = np.linalg.inv(Sj)\n",
    "    G = np.dot(Wt,S_inverse)\n",
    "    WY = Wt@Yj\n",
    "    Ep = Sj@Yj - XX@betaj - Z_e@bj\n",
    "    \n",
    "    h11 = -np.trace(G@G) - WY.T@WY/tauj2\n",
    "    \n",
    "    h12 = h21 = -(XX.T@WY/tauj2).reshape(q0,1)\n",
    "    h13 = h31 = -(Z_e.T@WY/tauj2).reshape(d,1)\n",
    "    h14 = h41 = -WY.T@Ep/tauj2**2\n",
    "    \n",
    "    h22 = -XX.T@XX/tauj2\n",
    "    h23 = h32 = -XX.T@Z_e/tauj2\n",
    "    h24 = h42 = -(XX.T@Ep/(2*tauj2**2)).reshape(q0,1)\n",
    "    \n",
    "    h33 = -Z_e.T@Z_e/tauj2\n",
    "    h34 = h43 = -(Z_e.T@Ep/(2*tauj2**2)).reshape(d,1)\n",
    "    \n",
    "    h44 = nn/(2*tauj2**2)-Ep.T@Ep/(tauj2**3)\n",
    "    \n",
    "    H = np.block([\n",
    "         [h11, h12.T, h13.T, h14],\n",
    "         [h21, h22, h23, h24],\n",
    "         [h31, h32.T, h33, h34],\n",
    "         [h41, h42.T, h43.T, h44]\n",
    "    ])\n",
    "    \n",
    "    return H"
   ]
  },
  {
   "cell_type": "code",
   "execution_count": 14,
   "id": "6db58d1f",
   "metadata": {
    "tags": []
   },
   "outputs": [],
   "source": [
    "# Newton--FMLE\n",
    "def newton_sea(nn, p, q, d, Wt, theta0, Z_e, Yj, Xt, max_iter = 50, eps = 1e-4):\n",
    "    \n",
    "    q0 = 10\n",
    "    theta_new = theta0\n",
    "    for t in range(max_iter):\n",
    "        theta_pre = theta_new\n",
    "        gradient = gardient_lj(nn, p,q,d,Wt, theta_pre, Z_e, Yj,Xt)/nn \n",
    "        hessian =  hessian_lj(nn, p,q,d,Wt, theta_pre, Z_e, Yj,Xt)/nn \n",
    "        diff = np.linalg.solve(hessian+0.001*np.eye(q0+d+2),gradient)\n",
    "        #print(np.max(abs(diff)))\n",
    "        theta_new = theta_pre - diff\n",
    "        if theta_new[-1]<0.01: theta_new[-1] = 0.01\n",
    "        if theta_new[0]>1: theta_new[0] = 0.95\n",
    "\n",
    "        if np.linalg.norm(diff) < eps:\n",
    "            break\n",
    "            \n",
    "    return theta_new,t+1"
   ]
  },
  {
   "cell_type": "code",
   "execution_count": 15,
   "id": "3cd0b30e",
   "metadata": {
    "tags": []
   },
   "outputs": [],
   "source": [
    "# FMLE optimization function\n",
    "def optimize(nn, p, q, d, Wt, Z_e, Yt, Xt,bb):\n",
    "    \n",
    "    q0 = 10\n",
    "    g = q0+d+2\n",
    "    theta = np.zeros((g,p))\n",
    "    itee = np.zeros(p)\n",
    "    theta0 = np.zeros(g)\n",
    "    theta0[-1] = 0.1\n",
    "    for j in range(p):\n",
    "        res = newton_sea(nn, p, q, d, Wt, theta0, Z_e, Yt[:,j], Xt)\n",
    "        theta[:,j] = res[0]\n",
    "        itee[j] = res[1]\n",
    "        if theta[0,j]> 0.95: \n",
    "            theta[0,j] = 0.95\n",
    "        if theta[0,j]< 0.05: \n",
    "            theta[0,j] = 0.05\n",
    "        with open('Results_LSM_02/process.txt', 'a') as f1:\n",
    "            f1.write(str(bb)+', update: '+ str(j) + ', '+ str(theta[0,j]) +'\\n')\n",
    "        #print('update:',j, theta[0,j])\n",
    "    \n",
    "    return theta[0,:],theta[1:(q0+1),:],theta[(q0+1):(q0+d+1),:], theta[-1,:], itee"
   ]
  },
  {
   "cell_type": "code",
   "execution_count": 16,
   "id": "686fa228",
   "metadata": {
    "tags": []
   },
   "outputs": [],
   "source": [
    "# Factor estimation function\n",
    "def Z_est(nn, p, q, d, Wt0, Wt1, Y_1, X_1, rho_e, beta_e, Yb, Xb, rho_hb, beta_hb):\n",
    "    \n",
    "    Eb = Yb - (Wt0@Yb)@np.diag(rho_hb) - Xb@beta_hb\n",
    "    Sigm = Eb.T@Eb/nn \n",
    "    U, G, V = np.linalg.svd(Sigm)\n",
    "    M = U[:,:d]@np.diag(G[:d])**0.5\n",
    "    \n",
    "    E = Y_1 - (Wt1@Y_1)@np.diag(rho_e) - X_1@beta_e\n",
    "     \n",
    "    Z_e = E@M/p\n",
    "    \n",
    "    return Z_e, M"
   ]
  },
  {
   "cell_type": "code",
   "execution_count": 18,
   "id": "9fbaf92e-4d45-46c0-b3d2-7b9429670542",
   "metadata": {
    "tags": []
   },
   "outputs": [],
   "source": [
    "# Confidence interval for FMLE\n",
    "def CI_est_test(j,nn, p, q0, d, WW, rho_est, beta_est, b_est, tau2_est, B_hat, sigma2_hat, YY, XX, Z_est, z_alpha):\n",
    "    \n",
    "    # ticn1 = time()\n",
    "    S = np.eye(nn)-rho_est[j]*WW\n",
    "    S_inverse = np.linalg.inv(S)\n",
    "    G = np.dot(WW,S_inverse)\n",
    "    Gs = G + G.T\n",
    "    GXbe = G@XX@beta_est[:,j]\n",
    "    GZb = G@Z_est@b_est[:,j]\n",
    "\n",
    "    c1 = tau2_est[j]*np.trace(G@Gs)\n",
    "    c21 = GXbe + GZb\n",
    "    C11 = c1 + c21.T@c21\n",
    "    C12 = C21 = (XX.T@GXbe).reshape(q0,1)\n",
    "    C13 = C31 = (Z_est.T@GZb).reshape(d,1)\n",
    "    C14 = C41 = np.trace(G)\n",
    "    C22 = XX.T@XX\n",
    "    C23 = C32 = XX.T@Z_est\n",
    "    C24 = C42 = np.zeros((q0,1))\n",
    "    C33 = Z_est.T@Z_est\n",
    "    C34 = C43 = np.zeros((d,1))\n",
    "    C44 = nn/(2*tau2_est[j])\n",
    "            \n",
    "    Sigma2 = np.block([\n",
    "             [C11, C12.T, C13.T, C14],\n",
    "             [C21, C22, C23, C24],\n",
    "             [C31, C32.T, C33, C34],\n",
    "             [C41, C42.T, C43.T, C44],\n",
    "        ])/(nn*tau2_est[j])\n",
    "    \n",
    "    Sigma2_inv = np.linalg.inv(Sigma2)\n",
    "    # tocn1 = time()\n",
    "    # print(tocn1 - ticn1) \n",
    "\n",
    "    # ticn1 = time()\n",
    "    g = q0+d+2\n",
    "    Mbtj = B_hat@b_est[:,j]\n",
    "    Omega_hat = S@YY[:,j] - XX@beta_est[:,j] - Z_est@b_est[:,j]\n",
    "    Aj = np.zeros((nn*d,g*nn*d))\n",
    "    Dj = np.zeros((nn*d,g))\n",
    "    for k in range(p):\n",
    "        Sk = np.eye(nn)-rho_est[k]*WW\n",
    "        S_inverse = np.linalg.inv(Sk)\n",
    "        G = np.dot(WW,S_inverse)\n",
    "        GXbeta = G@XX@beta_est[:,k]\n",
    "        \n",
    "        C11 = np.trace(G@(G+G.T)) + GXbeta.T@GXbeta/sigma2_hat[k]\n",
    "        C12 = C21 = (XX.T@GXbeta/sigma2_hat[k]).reshape(q0,1)\n",
    "        C13 = C31 = np.trace(G)/sigma2_hat[k]\n",
    "        C22 = XX.T@XX/sigma2_hat[k]\n",
    "        C23 = C32 = np.zeros((q0,1))\n",
    "        C33 = nn/(2*sigma2_hat[k]**2)\n",
    "        \n",
    "        Sigma = np.block([\n",
    "             [C11, C12.T, C13],\n",
    "             [C21, C22, C23],\n",
    "             [C31, C32.T,C33]\n",
    "        ])/nn\n",
    "        H = np.linalg.inv(Sigma)\n",
    "        H_rho = H[0,:]\n",
    "        H_beta = H[1:-1,:]\n",
    "    \n",
    "        A2 = G.T/sigma2_hat[k]\n",
    "        A3 = np.eye(nn)/(2*sigma2_hat[k]**2)\n",
    "        A1 = H_rho[0]*A2 + H_rho[-1]*A3\n",
    "        \n",
    "    \n",
    "        cjk_rho = YY[:,j].T@WW.T@WW@YY[:,k]*Mbtj[k]/nn\n",
    "        cjk_beta = XX.T@WW@YY[:,k]*Mbtj[k]/nn\n",
    "        cjk_b = Z_est.T@WW@YY[:,k]*Mbtj[k]/nn - B_hat[k,:]*(Omega_hat@WW@YY[:,k])/nn\n",
    "        cjk_tau2 = Omega_hat@WW@YY[:,k]*Mbtj[k]/(nn*tau2_est[j])\n",
    "        Qjk_rho = (XX.T@WW@YY[:,j]*Mbtj[k]/nn).reshape(q0,1)\n",
    "        Qjk_beta = XX.T@XX*Mbtj[k]/nn # q0 c q0\n",
    "        Qjk_b = XX.T@Z_est*Mbtj[k]/nn - (XX.T@Omega_hat).reshape(q0,1)@B_hat[k,:].reshape(1,d)/nn # q0 c d\n",
    "        Qjk_tau2 = (XX.T@Omega_hat*Mbtj[k]/(nn*tau2_est[j])).reshape(q0,1)\n",
    "        cjk_Theta = np.hstack([cjk_rho, cjk_beta, cjk_b, cjk_tau2]) #  g\n",
    "        Qjk_Theta = np.concatenate([Qjk_rho, Qjk_beta, Qjk_b, Qjk_tau2], axis=1) # q0 c g\n",
    "        \n",
    "        vjk1 = cjk_Theta # g \n",
    "        vjk2 = Qjk_Theta.T@H_beta[:,0] # g \n",
    "        vjk3 = Qjk_Theta.T@H_beta[:,-1] # g \n",
    "        \n",
    "        Ak = np.kron(A1, vjk1.reshape(1,g)) + np.kron(A2, vjk2.reshape(1,g)) + np.kron(A1, vjk3.reshape(1,g))\n",
    "        Akb = np.kron(b_est[:,k].reshape(d,1)@b_est[:,k].reshape(1,d), Ak)\n",
    "        Aj = Aj + Akb/p\n",
    "    \n",
    "        vjk = (cjk_Theta*H_rho[0] + Qjk_Theta.T@H_beta[:,0])/sigma2_hat[k] # g\n",
    "        Ujk = (cjk_Theta.reshape(g,1)@H_beta[:,0].reshape(1,q0) + Qjk_Theta.T@H_beta[:,1:-1])/sigma2_hat[k] # g c q0\n",
    "        Djk = GXbeta.reshape(nn,1)@vjk.reshape(1,g) + XX@Ujk.T # n c g\n",
    "        Djkb = np.kron(b_est[:,k].reshape(d,1), Djk)\n",
    "        Dj = Dj + Djkb/p\n",
    "\n",
    "    # tocn1 = time()\n",
    "    # print(tocn1 - ticn1)\n",
    "\n",
    "    Sigma_Q = np.zeros((g, g))\n",
    "    H_hat = B_hat.T @ B_hat / p\n",
    "    HI = np.kron(H_hat @ H_hat.T, np.eye(nn))\n",
    "    Z_hat = Z_est @ np.linalg.inv(H_hat)\n",
    "    mu3z = np.mean(Z_hat**3)\n",
    "    mu4z = np.mean(Z_hat**4)\n",
    "    I_nd = np.eye(nn * d)\n",
    "    D_matrix = Dj @ np.eye(g)  \n",
    "    for i1 in range(g):\n",
    "        Dbej1 = D_matrix[:, i1]\n",
    "        Abej1 = Aj @ np.kron(I_nd, np.eye(g)[:, i1].reshape(g, 1)) \n",
    "        diag_Abej1 = np.diag(Abej1)\n",
    "\n",
    "        for i2 in range(g):\n",
    "            # ticnn1 = time()\n",
    "            Dbej2 = D_matrix[:, i2]\n",
    "            Abej2 = Aj @ np.kron(I_nd, np.eye(g)[:, i2].reshape(g, 1))\n",
    "            diag_Abej2 = np.diag(Abej2)\n",
    "\n",
    "            VQ1 = Dbej1.T @ HI @ Dbej2\n",
    "            VQ2 = np.trace(Abej1 @ HI @ (Abej2 + Abej2.T) @ HI)\n",
    "            VQ3 = mu3z * (np.sum(diag_Abej1 * Dbej2) + np.sum(diag_Abej2 * Dbej1))\n",
    "            VQ4 = mu4z * np.sum(diag_Abej1 * diag_Abej2)\n",
    "\n",
    "            Sigma_Q[i1, i2] = (VQ1 + VQ2 + VQ3 + VQ4) / (nn * tau2_est[j]**2)\n",
    "            # tocnn1 = time()\n",
    "            # print(tocnn1 - ticnn1)\n",
    "\n",
    "    # tocn1 = time()\n",
    "    # print(tocn1 - ticn1) \n",
    "    # print(Sigma_Q)\n",
    "    Sigma_Q2 = Sigma2_inv@Sigma_Q@Sigma2_inv\n",
    "    sig = Sigma2_inv[0,0] + Sigma_Q2[0,0]\n",
    "    \n",
    "    lower = rho_est[j] - z_alpha*sig**0.5/nn**0.5\n",
    "    upper = rho_est[j] + z_alpha*sig**0.5/nn**0.5\n",
    "\n",
    "    \n",
    "    return lower,upper"
   ]
  },
  {
   "cell_type": "code",
   "execution_count": null,
   "id": "8a92ddfb-a1ee-436f-9243-d1aeb9885d45",
   "metadata": {
    "scrolled": true,
    "tags": []
   },
   "outputs": [],
   "source": [
    "pip install ray"
   ]
  },
  {
   "cell_type": "code",
   "execution_count": null,
   "id": "fe042732-6fdd-4349-98b3-80cb1bbb8ca9",
   "metadata": {
    "scrolled": true,
    "tags": []
   },
   "outputs": [],
   "source": [
    "pip install -U ipywidgets"
   ]
  },
  {
   "cell_type": "code",
   "execution_count": null,
   "id": "c3e21af0-39d5-480a-9a77-0c9dff25bfb6",
   "metadata": {
    "tags": []
   },
   "outputs": [],
   "source": [
    "# parallel computation framework\n",
    "import ray\n",
    "\n",
    "ray.init(num_cpus=NUM_CPU, ignore_reinit_error=True)"
   ]
  },
  {
   "cell_type": "code",
   "execution_count": 21,
   "id": "62e1d60c-e3ad-4355-a4a5-7e275b476825",
   "metadata": {
    "tags": []
   },
   "outputs": [],
   "source": [
    "jj = random.randint(0, p)"
   ]
  },
  {
   "cell_type": "code",
   "execution_count": 22,
   "id": "62900983",
   "metadata": {
    "tags": []
   },
   "outputs": [],
   "source": [
    "@ray.remote(num_cpus=4) \n",
    "def map_fun_fmle(bb):\n",
    "    \n",
    "    Y, X, Z = data_generator(n, p, q, d, seed = bb+188)\n",
    "    n0 = int(0.1*n)\n",
    "    n1 = n - n0\n",
    "    WW0 = W[:n0,:n0]\n",
    "    Y0, X0, Z0 = Y[:n0], X[:n0,:], Z[:n0,:]  \n",
    "    WW1 = W[n0:,n0:]\n",
    "    Y1, X1, Z1 = Y[n0:], X[n0:,:], Z[n0:,:]\n",
    "    # ticn = time()\n",
    "    #initial estimators\n",
    "    rho_hi, beta_hi, sigma2_hi, ite_hi = optimize_initial(n1, p, q, WW1, Y1, X1, bb)\n",
    "    rho_hb, beta_hb, sigma2_hb, ite_hb = optimize_initial(n0, p, q, WW0, Y0, X0, bb)\n",
    "    # tocn = time()\n",
    "    # print(tocn - ticn)\n",
    "    \n",
    "    #print(beta_hb.shape, X0.shape)\n",
    "    print('cmle is over')\n",
    "    # Estimate Zi and M\n",
    "    Z_h, M = Z_est(n0, p, q, d, WW0, WW1, Y1, X1, rho_hi, beta_hi, Y0, X0, rho_hb, beta_hb)\n",
    "\n",
    "    \n",
    "    Z_err_max = np.max(abs(Z_h - Z1))\n",
    "    Z_err_max1 = np.max(abs(-Z_h - Z1))\n",
    "    print('Z_err_max:', Z_err_max, 'Z_err_max1:', Z_err_max1)\n",
    "    if Z_err_max>Z_err_max1:\n",
    "        Z_h = - Z_h\n",
    "    if (Z_err_max>10) and (Z_err_max1>10):\n",
    "        return np.zeros((8,p)),np.zeros(p),np.zeros(p),np.zeros(p)\n",
    "    \n",
    "    # FMLE with true Z\n",
    "    rho_hfZ, beta_hfZ, b_hfZ, tau2_hfZ, ite_hfZ = optimize(n1, p, q, d,WW1, Z1, Y1,X1,bb)\n",
    "    print('SARX is over')\n",
    "    \n",
    "    # FMLE with estimated Z\n",
    "    rho_hf, beta_hf, b_hf, tau2_hf, ite_hf = optimize(n1, p, q, d, WW1, Z_h, Y1, X1,bb)\n",
    "    print('fmle is over')\n",
    "\n",
    "    H_hat = M.T@M/p\n",
    "    bc_hat = b_hf.T@H_hat\n",
    "    sigma2_hat = np.zeros(p)\n",
    "    for j in range(p):\n",
    "        sigma2_hat[j] = bc_hat[j,:]@bc_hat[j,:] + tau2_hf[j]\n",
    "\n",
    "    lower_est = np.zeros(p)\n",
    "    upper_est = np.zeros(p)\n",
    "    q0 = 10\n",
    "    tic1nj = time()\n",
    "    lower_est[jj], upper_est[jj] = CI_est_test(jj, n1, p, q0, d, WW1, rho_hf, beta_hf, b_hf, tau2_hf, M, sigma2_hat, Y1, X1, Z_h, 1.96)\n",
    "    toc1nj = time()\n",
    "    print(bb, jj, toc1nj - tic1nj) # 计算时间\n",
    "    # for j in range(p):\n",
    "    #     tic1nj = time()\n",
    "    #     lower_est[j], upper_est[j] = CI_est_new(j, n1, p, q0, d, WW1, rho_hf, beta_hf, b_hf, tau2_hf, M, sigma2_hat, Y1, X1, Z_h, 1.96)\n",
    "    #     toc1nj = time()\n",
    "    with open('Results_LSM_02/process_ci.txt', 'a') as f1:\n",
    "        f1.write(str(bb)+', '+str(jj)+', '+str(toc1nj - tic1nj)+', '+str(lower_est[jj])+', '+str(upper_est[jj])+'\\n')\n",
    "\n",
    "    return np.array([rho_hi, rho_hfZ, rho_hf, sigma2_hi, tau2_hfZ, tau2_hf, lower_est, upper_est]), ite_hi, ite_hfZ, ite_hf\n"
   ]
  },
  {
   "cell_type": "code",
   "execution_count": 23,
   "id": "1858ea86",
   "metadata": {
    "tags": []
   },
   "outputs": [],
   "source": [
    "from time import time\n",
    "from numpy.random import default_rng"
   ]
  },
  {
   "cell_type": "code",
   "execution_count": null,
   "id": "6d811b20-cf3e-4791-9010-080d46ecf9fb",
   "metadata": {
    "scrolled": true,
    "tags": []
   },
   "outputs": [],
   "source": [
    "BB = 500\n",
    "tic1 = time()\n",
    "tasks = [map_fun_fmle.remote(bb) for bb in range(BB)]\n",
    "results500_p50whole = ray.get(tasks)  # 等待所有任务完成\n",
    "toc1 = time()\n",
    "print(toc1 - tic1) # 总的计算时间"
   ]
  },
  {
   "cell_type": "code",
   "execution_count": 130,
   "id": "9be8c1c3-877b-4c2e-b075-3fa25fd2cf2d",
   "metadata": {
    "tags": []
   },
   "outputs": [],
   "source": [
    "ray.shutdown()"
   ]
  },
  {
   "cell_type": "code",
   "execution_count": 46,
   "id": "2138f6b0",
   "metadata": {
    "scrolled": true,
    "tags": []
   },
   "outputs": [],
   "source": [
    "# Results\n",
    "BB = 500\n",
    "theta_hat_LSM_n500_p50_B500 = np.zeros((BB,8,p))\n",
    "ite_ini = np.zeros((BB,p))\n",
    "ite_fZin = np.zeros((BB,p))\n",
    "ite_fin = np.zeros((BB,p))\n",
    "#tic1 = time()\n",
    "for bt in range(BB):\n",
    "    theta_hat_LSM_n500_p50_B500[bt,:,:], ite_ini[bt,:],ite_fZin[bt,:], ite_fin[bt,:] = results500_p50whole[bt][0], results500_p50whole[bt][1],results500_p50whole[bt][2],results500_p50whole[bt][3]\n",
    "#toc1 = time()"
   ]
  },
  {
   "cell_type": "code",
   "execution_count": 48,
   "id": "99dfc83b-48fa-4501-aa33-de581ed19757",
   "metadata": {
    "tags": []
   },
   "outputs": [],
   "source": [
    "cc = list(set(range(BB)).difference(set(np.where(ite_fin==0)[0])))\n",
    "ECP = np.zeros(len(cc))\n",
    "i=0\n",
    "for b in cc:\n",
    "    ECP[i] = (theta_hat_LSM_n500_p50_B500[b,6,jj]<=rho[jj]) & (rho[jj]<=theta_hat_LSM_n500_p50_B500[b,7,jj])\n",
    "    i = i+1"
   ]
  },
  {
   "cell_type": "code",
   "execution_count": 50,
   "id": "db16faa0-4950-432f-85ed-54802ce16564",
   "metadata": {
    "tags": []
   },
   "outputs": [
    {
     "data": {
      "text/plain": [
       "np.float64(0.9559118236472945)"
      ]
     },
     "execution_count": 50,
     "metadata": {},
     "output_type": "execute_result"
    }
   ],
   "source": [
    "np.mean(ECP) "
   ]
  },
  {
   "cell_type": "code",
   "execution_count": 53,
   "id": "6fed6073",
   "metadata": {
    "tags": []
   },
   "outputs": [
    {
     "data": {
      "text/plain": [
       "np.float64(0.040952268299536104)"
      ]
     },
     "execution_count": 53,
     "metadata": {},
     "output_type": "execute_result"
    }
   ],
   "source": [
    "#cmle\n",
    "np.nanmean(abs(theta_hat_LSM_n500_p50_B500[cc,0,:]-((rho.reshape((p,1))@np.ones((1,BB))).T)[cc,:]))"
   ]
  },
  {
   "cell_type": "code",
   "execution_count": 54,
   "id": "21f8a1d8",
   "metadata": {
    "tags": []
   },
   "outputs": [
    {
     "data": {
      "text/plain": [
       "np.float64(0.022767575490944422)"
      ]
     },
     "execution_count": 54,
     "metadata": {},
     "output_type": "execute_result"
    }
   ],
   "source": [
    "#SARX\n",
    "np.nanmean(abs(theta_hat_LSM_n500_p50_B500[cc,1,:]-((rho.reshape((p,1))@np.ones((1,BB))).T)[cc,:]))"
   ]
  },
  {
   "cell_type": "code",
   "execution_count": 55,
   "id": "dc0b1b1c",
   "metadata": {
    "tags": []
   },
   "outputs": [
    {
     "data": {
      "text/plain": [
       "np.float64(0.03106536754979646)"
      ]
     },
     "execution_count": 55,
     "metadata": {},
     "output_type": "execute_result"
    }
   ],
   "source": [
    "#fmle\n",
    "np.nanmean(abs(theta_hat_LSM_n500_p50_B500[cc,2,:]-((rho.reshape((p,1))@np.ones((1,BB))).T)[cc,:]))"
   ]
  },
  {
   "cell_type": "code",
   "execution_count": 56,
   "id": "4dc6e6e2",
   "metadata": {
    "tags": []
   },
   "outputs": [],
   "source": [
    "# Save results\n",
    "for b in range(BB):\n",
    "    pd.DataFrame(theta_hat_LSM_n500_p50_B500[b,:,:]).to_csv(\"Results_LSM_02/n500_p50_B500/theta_hat_LSM_n500_p50_\"+str(b)+'_.csv',index=False)"
   ]
  },
  {
   "cell_type": "code",
   "execution_count": null,
   "id": "41b8bfbb",
   "metadata": {},
   "outputs": [],
   "source": []
  },
  {
   "cell_type": "code",
   "execution_count": null,
   "id": "ae2fbe46",
   "metadata": {},
   "outputs": [],
   "source": []
  },
  {
   "cell_type": "code",
   "execution_count": null,
   "id": "0e568b25",
   "metadata": {},
   "outputs": [],
   "source": []
  }
 ],
 "metadata": {
  "kernelspec": {
   "display_name": "myconda",
   "language": "python",
   "name": "myconda"
  },
  "language_info": {
   "codemirror_mode": {
    "name": "ipython",
    "version": 3
   },
   "file_extension": ".py",
   "mimetype": "text/x-python",
   "name": "python",
   "nbconvert_exporter": "python",
   "pygments_lexer": "ipython3",
   "version": "3.10.12"
  }
 },
 "nbformat": 4,
 "nbformat_minor": 5
}
