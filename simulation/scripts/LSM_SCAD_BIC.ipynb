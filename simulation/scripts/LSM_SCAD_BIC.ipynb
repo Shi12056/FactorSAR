{
 "cells": [
  {
   "cell_type": "code",
   "execution_count": 1,
   "id": "f92f4bdb",
   "metadata": {
    "tags": []
   },
   "outputs": [],
   "source": [
    "import pandas as pd\n",
    "import sys,codecs\n",
    "import numpy as np\n",
    "import re\n",
    "import os\n",
    "import matplotlib.pyplot as plt\n",
    "import scipy.stats as st\n",
    "import collections\n",
    "import statsmodels.api as sm\n",
    "from time import time\n",
    "import random"
   ]
  },
  {
   "cell_type": "code",
   "execution_count": 2,
   "id": "fd66bd74-a91d-4faa-99e2-df3aeb7328f6",
   "metadata": {
    "tags": []
   },
   "outputs": [
    {
     "name": "stdout",
     "output_type": "stream",
     "text": [
      "CPU count: 36\n"
     ]
    }
   ],
   "source": [
    "import os\n",
    "\n",
    "NUM_CPU = len(os.sched_getaffinity(0)) #os.cpu_count() \n",
    "\n",
    "print(f'CPU count: {NUM_CPU}')"
   ]
  },
  {
   "cell_type": "code",
   "execution_count": 3,
   "id": "1ac7b2a8-0ba2-4a82-8f1d-22fb179ec059",
   "metadata": {
    "tags": []
   },
   "outputs": [
    {
     "name": "stdout",
     "output_type": "stream",
     "text": [
      "max process: 9\n"
     ]
    }
   ],
   "source": [
    "NUM_THREADS = 4\n",
    "\n",
    "os.environ[\"MKL_NUM_THREADS\"]     = str(NUM_THREADS)\n",
    "os.environ[\"NUMEXPR_NUM_THREADS\"] = str(NUM_THREADS)\n",
    "os.environ[\"OMP_NUM_THREADS\"]     = str(NUM_THREADS)\n",
    "\n",
    "NUM_PROCESS = NUM_CPU // NUM_THREADS\n",
    "print(f'max process: {NUM_PROCESS}')"
   ]
  },
  {
   "cell_type": "code",
   "execution_count": 5,
   "id": "9eca0fe9",
   "metadata": {
    "tags": []
   },
   "outputs": [],
   "source": [
    "# dimension\n",
    "n = 1200; p = 100; q = 20; d = 3"
   ]
  },
  {
   "cell_type": "code",
   "execution_count": 6,
   "id": "730861f3",
   "metadata": {
    "tags": []
   },
   "outputs": [],
   "source": [
    "# true parameter\n",
    "tau = np.round(np.random.uniform(0.15,0.2,p),4)\n",
    "rho = np.round(np.random.uniform(0.2,0.9,p),4)\n",
    "beta0 = np.round(np.random.uniform(0.5,1,(p,10)),4)\n",
    "beta1 = np.zeros((p,q-10))\n",
    "beta = np.hstack((beta0, beta1))\n",
    "bc = np.array(np.hstack([np.random.normal(0,1,(p,d))]))\n",
    "# Omega mean and variance\n",
    "mean = np.zeros(p)\n",
    "ta = 0.15\n",
    "i, j = np.mgrid[:p, :p]\n",
    "cov = ta**2*ta**abs(i-j)\n",
    "cov[list(range(p)),list(range(p))] = ta\n",
    "sigma2 = np.zeros(p)\n",
    "for j in range(p):\n",
    "    sigma2[j] = bc[j,:]@bc[j,:] + ta"
   ]
  },
  {
   "cell_type": "code",
   "execution_count": 7,
   "id": "25951874",
   "metadata": {
    "tags": []
   },
   "outputs": [],
   "source": [
    "# adjacency matrix- LSM\n",
    "dd = np.random.uniform(0,1,n)\n",
    "D = -(n/3)*abs(dd.reshape(n,1)@(np.ones(n).reshape(1,n)) - (np.ones(n).reshape(n,1))@dd.reshape(1,n))\n",
    "P = np.exp(D)/(1+np.exp(D))\n",
    "P[list(range(n)),list(range(n))] = 0\n",
    "A = (np.random.binomial(1,P)).reshape((n,n))\n",
    "ind = (np.where(np.sum(A,1)==0))[0]\n",
    "for i in ind:\n",
    "    A[i,random.sample(list(range(n)),6)] = 1\n",
    "A[list(range(n)),list(range(n))] = 0\n",
    "W = A/np.sum(A,1).reshape(n,1) "
   ]
  },
  {
   "cell_type": "code",
   "execution_count": 8,
   "id": "eb9ac9fe",
   "metadata": {
    "tags": []
   },
   "outputs": [
    {
     "name": "stdout",
     "output_type": "stream",
     "text": [
      "4919\n"
     ]
    },
    {
     "data": {
      "text/plain": [
       "13"
      ]
     },
     "execution_count": 8,
     "metadata": {},
     "output_type": "execute_result"
    }
   ],
   "source": [
    "# check\n",
    "print(np.sum(A))\n",
    "np.max(np.sum(A,1))"
   ]
  },
  {
   "cell_type": "code",
   "execution_count": 135,
   "id": "f24ee250",
   "metadata": {
    "tags": []
   },
   "outputs": [],
   "source": [
    "# Save true parameters\n",
    "pd.DataFrame(rho).to_csv(\"Results_LSM_BIC/n1200_p100_B100/rho_true_n1200_p100.csv\",index=False)\n",
    "pd.DataFrame(beta).to_csv(\"Results_LSM_BIC/n1200_p100_B100/beta_true_n1200_p100.csv\",index=False)\n",
    "pd.DataFrame(bc).to_csv(\"Results_LSM_BIC/n1200_p100_B100/B_true_n1200_p100.csv\",index=False)\n",
    "pd.DataFrame(A).to_csv(\"Results_LSM_BIC/A_n1500.csv\",index=False)"
   ]
  },
  {
   "cell_type": "code",
   "execution_count": 10,
   "id": "3bbf0786",
   "metadata": {
    "tags": []
   },
   "outputs": [],
   "source": [
    "# Data generation function\n",
    "def data_generator(nn, p, q, d, seed):\n",
    "\n",
    "    rng = np.random.default_rng(seed) \n",
    "    \n",
    "    q0 = 10\n",
    "    Omega = rng.multivariate_normal(mean, cov, (nn,), 'raise')   \n",
    "    X = rng.normal(0,1,(nn,q0))\n",
    "    Z = rng.normal(0,1,(nn,d))\n",
    "    \n",
    "    Y = np.zeros((n,p))\n",
    "    for j in range(p):\n",
    "        y_j = np.dot(np.linalg.inv(np.eye(nn)-rho[j]*W), X@beta[j,:q0] + Z@bc[j,:]+Omega[:,j])#\n",
    "        Y[:,j] = y_j \n",
    "        \n",
    "    return Y,X,Z"
   ]
  },
  {
   "cell_type": "code",
   "execution_count": 9,
   "id": "7eaeb3a1-7d9d-430d-ab6e-f5792b1ed702",
   "metadata": {
    "tags": []
   },
   "outputs": [],
   "source": [
    "# CMLE-gradient\n",
    "def gardient_initial_lj_0(nn, p, q, WW, para, Yj, XX):\n",
    "    \n",
    "    q0 = 10\n",
    "    \n",
    "    rho_j = para[0]\n",
    "    beta_j = para[1:(q0+1)]\n",
    "    sigma2_j = para[-1]\n",
    "    \n",
    "    \n",
    "    Sj = np.eye(nn)-rho_j*WW\n",
    "    S_inverse = np.linalg.inv(Sj)\n",
    "    G = WW@S_inverse\n",
    "    Ep = Sj@Yj - XX@beta_j\n",
    "    \n",
    "    g1 = -np.trace(G)+np.dot((WW@Yj).T,Ep)/sigma2_j\n",
    "    g2 = (XX.T@Ep)/sigma2_j\n",
    "    g3 = -nn/(2*sigma2_j)+(Ep.T@Ep)/(2*(sigma2_j**2))\n",
    "    #print(Ep)\n",
    "    \n",
    "    return np.concatenate(([g1],g2,[g3]))"
   ]
  },
  {
   "cell_type": "code",
   "execution_count": 10,
   "id": "e254e2f5-4911-47cf-9c39-b1d9ac814e79",
   "metadata": {
    "tags": []
   },
   "outputs": [],
   "source": [
    "# CMLE-gradient-full q\n",
    "def gardient_initial_lj(nn, p, q, WW, para, Yj, XX):\n",
    "\n",
    "    \n",
    "    rho_j = para[0]\n",
    "    beta_j = para[1:(q+1)]\n",
    "    sigma2_j = para[-1]\n",
    "    \n",
    "    \n",
    "    Sj = np.eye(nn)-rho_j*WW\n",
    "    S_inverse = np.linalg.inv(Sj)\n",
    "    G = WW@S_inverse\n",
    "    Ep = Sj@Yj - XX@beta_j\n",
    "    \n",
    "    g1 = -np.trace(G)+np.dot((WW@Yj).T,Ep)/sigma2_j\n",
    "    g2 = (XX.T@Ep)/sigma2_j\n",
    "    g3 = -nn/(2*sigma2_j)+(Ep.T@Ep)/(2*(sigma2_j**2))\n",
    "    #print(Ep)\n",
    "    \n",
    "    return np.concatenate(([g1],g2,[g3]))"
   ]
  },
  {
   "cell_type": "code",
   "execution_count": 11,
   "id": "9d108151-e458-48e4-ac19-a80681034c5b",
   "metadata": {
    "tags": []
   },
   "outputs": [],
   "source": [
    "# CMLE -hessian\n",
    "def hessian_initial_lj_0(nn, p, q, Wt, para, Yj, XX):\n",
    "    \n",
    "    q0 = 10\n",
    "    \n",
    "    rho_j = para[0]\n",
    "    beta_j = para[1:(q0+1)]\n",
    "    sigma2_j = para[-1]\n",
    "    \n",
    "    Sj = np.eye(nn)-rho_j*Wt\n",
    "    S_inverse = np.linalg.inv(Sj)\n",
    "    G = np.dot(Wt,S_inverse)\n",
    "    WW = np.dot(Wt.T,Wt)\n",
    "    WS = np.dot(Wt.T,Sj)\n",
    "    SS = np.dot(Sj.T,Sj)\n",
    "    Ep = Sj@Yj - XX@beta_j\n",
    "    \n",
    "    \n",
    "    h11 = -np.trace(G@G)-np.dot(Yj.T@WW,Yj)/sigma2_j\n",
    "    h12 = h21 = -(XX.T@(Wt@Yj)/sigma2_j).reshape(q0,1)\n",
    "    h31 = h13 = -np.dot((Wt@Yj).T,Ep)/(sigma2_j**2)\n",
    "    \n",
    "    h22 = -XX.T@XX/sigma2_j\n",
    "    h23 = h32 = -(XX.T@Ep/(2*sigma2_j**2)).reshape(q0,1)\n",
    "    h33 = nn/(2*sigma2_j**2)-np.dot(Yj.T@SS,Yj)/(sigma2_j**3)\n",
    "    \n",
    "    H = np.block([\n",
    "         [h11, h12.T, h13],\n",
    "         [h21, h22, h23],\n",
    "         [h31, h32.T, h33]\n",
    "    ])\n",
    "    \n",
    "    return H"
   ]
  },
  {
   "cell_type": "code",
   "execution_count": 12,
   "id": "4146a9ed-afbd-493c-9f52-502352e83ca3",
   "metadata": {
    "tags": []
   },
   "outputs": [],
   "source": [
    "# CMLE-hessian -full q\n",
    "def hessian_initial_lj(nn, p, q, Wt, para, Yj, XX):\n",
    "    \n",
    "    rho_j = para[0]\n",
    "    beta_j = para[1:(q+1)]\n",
    "    sigma2_j = para[-1]\n",
    "    \n",
    "    Sj = np.eye(nn)-rho_j*Wt\n",
    "    S_inverse = np.linalg.inv(Sj)\n",
    "    G = np.dot(Wt,S_inverse)\n",
    "    WW = np.dot(Wt.T,Wt)\n",
    "    WS = np.dot(Wt.T,Sj)\n",
    "    SS = np.dot(Sj.T,Sj)\n",
    "    Ep = Sj@Yj - XX@beta_j\n",
    "    \n",
    "    \n",
    "    h11 = -np.trace(G@G)-np.dot(Yj.T@WW,Yj)/sigma2_j\n",
    "    h12 = h21 = -(XX.T@(Wt@Yj)/sigma2_j).reshape(q,1)\n",
    "    h31 = h13 = -np.dot((Wt@Yj).T,Ep)/(sigma2_j**2)\n",
    "    \n",
    "    h22 = -XX.T@XX/sigma2_j\n",
    "    h23 = h32 = -(XX.T@Ep/(2*sigma2_j**2)).reshape(q,1)\n",
    "    h33 = nn/(2*sigma2_j**2)-np.dot(Yj.T@SS,Yj)/(sigma2_j**3)\n",
    "    \n",
    "    H = np.block([\n",
    "         [h11, h12.T, h13],\n",
    "         [h21, h22, h23],\n",
    "         [h31, h32.T, h33]\n",
    "    ])\n",
    "    \n",
    "    return H"
   ]
  },
  {
   "cell_type": "code",
   "execution_count": 13,
   "id": "d88e1ca3-8b0d-47a6-8143-45ad0f91f998",
   "metadata": {
    "tags": []
   },
   "outputs": [],
   "source": [
    "# Newton-CMLE\n",
    "def newton_sea_initial_0(nn, p, q, Wt, pa0, Yj, XX, max_iter = 50, eps = 1e-4):\n",
    "    \n",
    "    q0 = 10\n",
    "    pa_new = pa0\n",
    "    for t in range(max_iter):\n",
    "        pa_pre = pa_new\n",
    "        gradient = gardient_initial_lj_0(nn, p, q, Wt, pa_pre, Yj, XX)/nn \n",
    "        hessian =  hessian_initial_lj_0(nn, p, q, Wt, pa_pre, Yj, XX)/nn \n",
    "        diff = np.linalg.solve(hessian+0.001*np.eye(q0+2),gradient)\n",
    "        pa_new = pa_pre - diff \n",
    "        if pa_new[-1]<0.01: pa_new[-1] = 0.01\n",
    "        if pa_new[0]>1: pa_new[0] = 0.95\n",
    "        #print(np.max(abs(diff)))\n",
    "        if np.linalg.norm(diff) < eps:\n",
    "            break\n",
    "            \n",
    "    return pa_new,t+1"
   ]
  },
  {
   "cell_type": "code",
   "execution_count": 14,
   "id": "2dcbad09-fc22-4875-8356-f55eae5bfbd5",
   "metadata": {
    "tags": []
   },
   "outputs": [],
   "source": [
    "# Newton-CMLE-full q\n",
    "def newton_sea_initial(nn, p, q, Wt, pa0, Yj, XX, max_iter = 100, eps = 1e-4):\n",
    "    \n",
    "    pa_new = pa0\n",
    "    for t in range(max_iter):\n",
    "        pa_pre = pa_new\n",
    "        gradient = gardient_initial_lj(nn, p, q, Wt, pa_pre, Yj, XX)/nn \n",
    "        hessian =  hessian_initial_lj(nn, p, q, Wt, pa_pre, Yj, XX)/nn \n",
    "        diff = np.linalg.solve(hessian+0.001*np.eye(q+2),gradient)\n",
    "        pa_new = pa_pre - diff \n",
    "        if pa_new[-1]<0.1: pa_new[-1] = 0.1\n",
    "        if pa_new[0]>1: pa_new[0] = 0.95\n",
    "        # print(np.max(abs(diff)))\n",
    "        if np.linalg.norm(diff) < eps:\n",
    "            break\n",
    "            \n",
    "    return pa_new,t+1"
   ]
  },
  {
   "cell_type": "code",
   "execution_count": 15,
   "id": "813a32b6-139e-4418-8c3f-dbe3b618cf10",
   "metadata": {
    "tags": []
   },
   "outputs": [],
   "source": [
    "# SCAD deriative function\n",
    "def SCAD_deriative_beta(beta_t, lamba, a = 3.7):\n",
    "    \n",
    "    abs_beta = np.abs(beta_t)\n",
    "    grad = np.zeros_like(beta_t)\n",
    "    \n",
    "    mask1 = (abs_beta <= lamba)\n",
    "    mask2 = (abs_beta > lamba) & (abs_beta <= a*lamba)\n",
    "    \n",
    "    grad[mask1] = lamba*np.sign(beta_t[mask1])\n",
    "    grad[mask2] = ((a * lamba - abs_beta[mask2])/(a - 1))*np.sign(beta_t[mask2])\n",
    "    \n",
    "    return grad"
   ]
  },
  {
   "cell_type": "code",
   "execution_count": 16,
   "id": "e5d3481a-476f-4485-bc45-0e92df954e61",
   "metadata": {
    "tags": []
   },
   "outputs": [],
   "source": [
    "def newton_sea_SCAD(nn, p, q, Wt, paj, Yj, XX, lamba, a=3.7, max_iter = 50, eps = 1e-3):\n",
    "    \n",
    "    rho_j = paj[0]\n",
    "    beta_new = paj[1:(q+1)]\n",
    "    sigma2_j = paj[-1]\n",
    "    for t in range(max_iter):\n",
    "        beta_pre = beta_new\n",
    "        Ep = (np.eye(nn)-rho_j*Wt)@Yj - XX@beta_pre\n",
    "        gradient_beta = -(XX.T@Ep)\n",
    "        hessian_beta = XX.T@XX\n",
    "        grad_SCAD = SCAD_deriative_beta(beta_pre, lamba, a)\n",
    "        S_lam_beta = np.diag(grad_SCAD)/abs(beta_pre)\n",
    "        diff = np.linalg.inv(hessian_beta + nn*S_lam_beta)@(gradient_beta + nn*S_lam_beta@beta_pre)\n",
    "        \n",
    "        beta_new = beta_pre - diff \n",
    "        #print(np.max(abs(diff)))\n",
    "        if np.linalg.norm(diff) < eps:\n",
    "            break\n",
    "            \n",
    "    return beta_new,t+1"
   ]
  },
  {
   "cell_type": "code",
   "execution_count": 17,
   "id": "f9eaddbe-77d7-4925-aa4d-57885ff8526c",
   "metadata": {
    "tags": []
   },
   "outputs": [],
   "source": [
    "def log_likelihood_sar(rho_j, beta_j, sigma2_j, YY, XX, Wt):\n",
    "    \n",
    "    nn = len(YY)\n",
    "    qq = len(beta_j)\n",
    "    \n",
    "    A = np.eye(nn) - rho_j * Wt\n",
    "    det_term = np.log(np.linalg.det(A))  \n",
    "    residual = YY - rho_j * Wt @ YY - XX @ beta_j\n",
    "    loglik = - np.log(2 * np.pi * sigma2_j)/2 + det_term/nn - (residual.T @ residual) / (2 * sigma2_j * nn)\n",
    "    \n",
    "    return -loglik  # negative log-likelihood"
   ]
  },
  {
   "cell_type": "code",
   "execution_count": 18,
   "id": "46f56653-a03b-4825-8e29-b36b0964c875",
   "metadata": {
    "tags": []
   },
   "outputs": [],
   "source": [
    "thre = 1e-3\n",
    "BICn = 100\n",
    "par = np.zeros(q+2)\n",
    "par[-1] = 1\n",
    "sudu = (np.log(q*p)/n)**0.5\n",
    "lam_set = np.linspace(sudu**9,2*sudu**0.5, BICn)\n",
    "bic_sh = np.log(n)*(np.log(p*q))/n"
   ]
  },
  {
   "cell_type": "code",
   "execution_count": null,
   "id": "be46cf15-23d0-49c2-9408-625562b453b4",
   "metadata": {
    "tags": []
   },
   "outputs": [],
   "source": [
    "pip install ray"
   ]
  },
  {
   "cell_type": "code",
   "execution_count": null,
   "id": "e7b8765e-7a35-4a9f-bf28-ad8f654afa73",
   "metadata": {
    "tags": []
   },
   "outputs": [],
   "source": [
    "pip install -U ipywidgets"
   ]
  },
  {
   "cell_type": "code",
   "execution_count": null,
   "id": "0d64aa9c-28ea-4b2f-8188-7ffc42f18aa8",
   "metadata": {
    "tags": []
   },
   "outputs": [],
   "source": [
    "# parallel computation framework\n",
    "import ray\n",
    "\n",
    "ray.init(num_cpus=NUM_CPU, ignore_reinit_error=True)"
   ]
  },
  {
   "cell_type": "code",
   "execution_count": 127,
   "id": "c51128b6-353c-4659-86dd-b7622d53486c",
   "metadata": {
    "tags": []
   },
   "outputs": [],
   "source": [
    "# Full process\n",
    "@ray.remote(num_cpus=4) \n",
    "def map_fun_BIC(bb):\n",
    "    \n",
    "    Y, X, Z = data_generator(n, p, q, d, seed = bb+166)\n",
    "    \n",
    "    BIC_set = np.zeros((BICn,p))\n",
    "    Ln_j_set = np.zeros((BICn,p))\n",
    "    theta_ini = np.zeros((p, 2+q))\n",
    "    for j in range(p):\n",
    "        ticn1 = time()\n",
    "        theta_ini[j,:] = newton_sea_initial(n, p, q, W, par, Y[:,j], X)[0]\n",
    "        rho0_h = theta_ini[j,:][0]\n",
    "        beta0_h = theta_ini[j,:][1:(q+1)]\n",
    "        sigma20_h = theta_ini[j,:][-1]\n",
    "        for b in range(BICn):\n",
    "            lambda_ = lam_set[b]\n",
    "            beta_est = newton_sea_SCAD(n, p, q, W, theta_ini[j,:], Y[:,j], X, lambda_)\n",
    "            beta_scad = np.where(beta_est[0]<thre, 0, beta_est[0])\n",
    "            Ln_j_set[b,j] = log_likelihood_sar(rho0_h, beta_scad, sigma20_h, Y[:,j], X, W)\n",
    "            BIC_set[b,j] = Ln_j_set[b,j] + len(np.where(beta_scad!=0)[0])*bic_sh\n",
    "        tocn1 = time()\n",
    "        argBIC = np.argmin(BIC_set[:,j])\n",
    "        print(bb, j, argBIC, tocn1 - ticn1) \n",
    "        with open('Results_LSM_BIC/process.txt', 'a') as f1:\n",
    "            f1.write(str(bb) + ', '+ str(j) + ', '+ str(argBIC) +'\\n')\n",
    "        \n",
    "    min_index = np.argmin(BIC_set, axis=0)\n",
    "    beta_estt = np.zeros((p,q))\n",
    "    for j in range(p):\n",
    "        lambda_ = lam_set[int(min_index[j])]\n",
    "        beta_estt[j,:] = newton_sea_SCAD(n, p, q, W, theta_ini[j,:], Y[:,j], X, lambda_)[0]\n",
    "        \n",
    "    return BIC_set.T, min_index, beta_estt"
   ]
  },
  {
   "cell_type": "code",
   "execution_count": null,
   "id": "0c96a38c-e90d-4ca4-a2fb-d4dada939ca7",
   "metadata": {
    "collapsed": true,
    "jupyter": {
     "outputs_hidden": true
    },
    "scrolled": true,
    "tags": []
   },
   "outputs": [
    {
     "name": "stdout",
     "output_type": "stream",
     "text": [
      "\u001b[33m(raylet)\u001b[0m Warning: The remote function __main__.map_fun_BIC is very large (11 MiB). Check that its definition is not implicitly capturing a large array or other object in scope. Tip: use ray.put() to put large objects in the Ray object store.\n",
      "\u001b[36m(map_fun_BIC pid=56988)\u001b[0m 0 0 27 24.93915343284607\n",
      "\u001b[36m(map_fun_BIC pid=56990)\u001b[0m 3 0 26 26.857755184173584\n",
      "\u001b[36m(map_fun_BIC pid=56989)\u001b[0m 2 0 27 30.945791244506836\n",
      "\u001b[36m(map_fun_BIC pid=56986)\u001b[0m 4 0 42 40.365039348602295\n",
      "\u001b[36m(map_fun_BIC pid=56987)\u001b[0m 1 0 29 43.37838292121887\n",
      "\u001b[36m(map_fun_BIC pid=56988)\u001b[0m 0 1 20 26.627360582351685\n",
      "\u001b[36m(map_fun_BIC pid=56990)\u001b[0m 3 1 22 26.509754180908203\n",
      "\u001b[36m(map_fun_BIC pid=56989)\u001b[0m 2 1 30 27.52981185913086\n",
      "\u001b[36m(map_fun_BIC pid=56987)\u001b[0m 1 1 43 36.785749435424805\n",
      "\u001b[36m(map_fun_BIC pid=56988)\u001b[0m 0 2 30 31.72606110572815\n",
      "\u001b[36m(map_fun_BIC pid=56986)\u001b[0m 4 1 24 47.979257583618164\n",
      "\u001b[36m(map_fun_BIC pid=56990)\u001b[0m 3 2 26 38.540464878082275\n",
      "\u001b[36m(map_fun_BIC pid=56989)\u001b[0m 2 2 24 40.55644750595093\n",
      "\u001b[36m(map_fun_BIC pid=56988)\u001b[0m 0 3 24 25.580439567565918\n",
      "\u001b[36m(map_fun_BIC pid=56990)\u001b[0m 3 3 26 29.81135606765747\n",
      "\u001b[36m(map_fun_BIC pid=56987)\u001b[0m 1 2 25 48.29518151283264\n",
      "\u001b[36m(map_fun_BIC pid=56989)\u001b[0m 2 3 21 32.70333909988403\n",
      "\u001b[36m(map_fun_BIC pid=56988)\u001b[0m 0 4 22 33.77523231506348\n",
      "\u001b[36m(map_fun_BIC pid=56990)\u001b[0m 3 4 22 35.90224647521973\n",
      "\u001b[36m(map_fun_BIC pid=56989)\u001b[0m 2 4 25 39.40767574310303\n",
      "\u001b[36m(map_fun_BIC pid=56988)\u001b[0m 0 5 7 30.66411304473877\n",
      "\u001b[36m(map_fun_BIC pid=56987)\u001b[0m 1 3 25 44.06177282333374\n",
      "\u001b[36m(map_fun_BIC pid=56990)\u001b[0m 3 5 13 27.33699607849121\n",
      "\u001b[36m(map_fun_BIC pid=56989)\u001b[0m 2 5 21 28.42771887779236\n",
      "\u001b[36m(map_fun_BIC pid=56988)\u001b[0m 0 6 15 27.508082389831543\n",
      "\u001b[36m(map_fun_BIC pid=56986)\u001b[0m 4 2 24 108.7862491607666\n",
      "\u001b[36m(map_fun_BIC pid=56990)\u001b[0m 3 6 51 24.907982110977173\n",
      "\u001b[36m(map_fun_BIC pid=56988)\u001b[0m 0 7 30 23.943392992019653\n",
      "\u001b[36m(map_fun_BIC pid=56989)\u001b[0m 2 6 36 26.347148895263672\n",
      "\u001b[36m(map_fun_BIC pid=56987)\u001b[0m 1 4 23 53.61186599731445\n",
      "\u001b[36m(map_fun_BIC pid=56990)\u001b[0m 3 7 22 29.682843446731567\n",
      "\u001b[36m(map_fun_BIC pid=56988)\u001b[0m 0 8 33 20.717609167099\n",
      "\u001b[36m(map_fun_BIC pid=56989)\u001b[0m 2 7 22 26.734484910964966\n",
      "\u001b[36m(map_fun_BIC pid=56987)\u001b[0m 1 5 23 32.70277976989746\n",
      "\u001b[36m(map_fun_BIC pid=56990)\u001b[0m 3 8 23 26.354546785354614\n",
      "\u001b[36m(map_fun_BIC pid=56986)\u001b[0m 4 3 26 75.27769494056702\n",
      "\u001b[36m(map_fun_BIC pid=56989)\u001b[0m 2 8 23 24.122735738754272\n",
      "\u001b[36m(map_fun_BIC pid=56988)\u001b[0m 0 9 23 33.85280799865723\n",
      "\u001b[36m(map_fun_BIC pid=56987)\u001b[0m 1 6 36 27.42844033241272\n",
      "\u001b[36m(map_fun_BIC pid=56990)\u001b[0m 3 9 25 35.12486815452576\n",
      "\u001b[36m(map_fun_BIC pid=56988)\u001b[0m 0 10 24 24.86258316040039\n",
      "\u001b[36m(map_fun_BIC pid=56989)\u001b[0m 2 9 21 33.48438096046448\n",
      "\u001b[36m(map_fun_BIC pid=56987)\u001b[0m 1 7 24 35.23096799850464\n",
      "\u001b[36m(map_fun_BIC pid=56990)\u001b[0m 3 10 27 27.868866443634033\n",
      "\u001b[36m(map_fun_BIC pid=56988)\u001b[0m 0 11 32 28.864924669265747\n",
      "\u001b[36m(map_fun_BIC pid=56989)\u001b[0m 2 10 23 24.073403120040894\n",
      "\u001b[36m(map_fun_BIC pid=56986)\u001b[0m 4 4 25 81.96571683883667\n",
      "\u001b[36m(map_fun_BIC pid=56990)\u001b[0m 3 11 30 30.891310691833496\n",
      "\u001b[36m(map_fun_BIC pid=56989)\u001b[0m 2 11 32 26.12494945526123\n",
      "\u001b[36m(map_fun_BIC pid=56988)\u001b[0m 0 12 21 28.218413591384888\n",
      "\u001b[36m(map_fun_BIC pid=56987)\u001b[0m 1 8 25 39.659412145614624\n",
      "\u001b[36m(map_fun_BIC pid=56988)\u001b[0m 0 13 11 20.494892358779907\n",
      "\u001b[36m(map_fun_BIC pid=56990)\u001b[0m 3 12 22 29.71543288230896\n",
      "\u001b[36m(map_fun_BIC pid=56989)\u001b[0m 2 12 21 30.772706985473633\n",
      "\u001b[36m(map_fun_BIC pid=56987)\u001b[0m 1 9 25 41.47776961326599\n",
      "\u001b[36m(map_fun_BIC pid=56988)\u001b[0m 0 14 24 28.060795783996582\n",
      "\u001b[36m(map_fun_BIC pid=56989)\u001b[0m 2 13 22 22.11974549293518\n",
      "\u001b[36m(map_fun_BIC pid=56990)\u001b[0m 3 13 23 25.610294342041016\n",
      "\u001b[36m(map_fun_BIC pid=56988)\u001b[0m 0 15 24 29.568506002426147\n",
      "\u001b[36m(map_fun_BIC pid=56989)\u001b[0m 2 14 25 26.105806827545166\n",
      "\u001b[36m(map_fun_BIC pid=56987)\u001b[0m 1 10 27 37.282958030700684\n",
      "\u001b[36m(map_fun_BIC pid=56990)\u001b[0m 3 14 23 27.327388763427734\n",
      "\u001b[36m(map_fun_BIC pid=56986)\u001b[0m 4 5 25 90.44707775115967\n",
      "\u001b[36m(map_fun_BIC pid=56988)\u001b[0m 0 16 26 21.63142991065979\n",
      "\u001b[36m(map_fun_BIC pid=56989)\u001b[0m 2 15 22 30.99683690071106\n",
      "\u001b[36m(map_fun_BIC pid=56990)\u001b[0m 3 15 30 28.117429494857788\n",
      "\u001b[36m(map_fun_BIC pid=56987)\u001b[0m 1 11 30 34.91219520568848\n",
      "\u001b[36m(map_fun_BIC pid=56989)\u001b[0m 2 16 24 16.40492296218872\n",
      "\u001b[36m(map_fun_BIC pid=56988)\u001b[0m 0 17 24 26.59836983680725\n",
      "\u001b[36m(map_fun_BIC pid=56990)\u001b[0m 3 16 20 23.9499990940094\n",
      "\u001b[36m(map_fun_BIC pid=56988)\u001b[0m 0 18 22 25.85558557510376\n",
      "\u001b[36m(map_fun_BIC pid=56989)\u001b[0m 2 17 27 26.772008895874023\n",
      "\u001b[36m(map_fun_BIC pid=56986)\u001b[0m 4 6 21 65.45061945915222\n",
      "\u001b[36m(map_fun_BIC pid=56987)\u001b[0m 1 12 35 39.1524076461792\n",
      "\u001b[36m(map_fun_BIC pid=56990)\u001b[0m 3 17 26 30.142302989959717\n",
      "\u001b[36m(map_fun_BIC pid=56988)\u001b[0m 0 19 41 22.45416522026062\n",
      "\u001b[36m(map_fun_BIC pid=56989)\u001b[0m 2 18 26 22.40988516807556\n",
      "\u001b[36m(map_fun_BIC pid=56990)\u001b[0m 3 18 23 26.863184452056885\n",
      "\u001b[36m(map_fun_BIC pid=56987)\u001b[0m 1 13 53 41.08333468437195\n",
      "\u001b[36m(map_fun_BIC pid=56989)\u001b[0m 2 19 23 24.380188465118408\n",
      "\u001b[36m(map_fun_BIC pid=56988)\u001b[0m 0 20 19 39.26614475250244\n",
      "\u001b[36m(map_fun_BIC pid=56990)\u001b[0m 3 19 21 27.629159688949585\n",
      "\u001b[36m(map_fun_BIC pid=56986)\u001b[0m 4 7 18 71.0219213962555\n",
      "\u001b[36m(map_fun_BIC pid=56989)\u001b[0m 2 20 23 35.96365237236023\n",
      "\u001b[36m(map_fun_BIC pid=56988)\u001b[0m 0 21 30 25.6660795211792\n",
      "\u001b[36m(map_fun_BIC pid=56987)\u001b[0m 1 14 23 54.675694704055786\n",
      "\u001b[36m(map_fun_BIC pid=56990)\u001b[0m 3 20 22 35.82387685775757\n",
      "\u001b[36m(map_fun_BIC pid=56989)\u001b[0m 2 21 24 24.74580717086792\n",
      "\u001b[36m(map_fun_BIC pid=56988)\u001b[0m 0 22 24 26.699312686920166\n",
      "\u001b[36m(map_fun_BIC pid=56990)\u001b[0m 3 21 43 24.469827890396118\n",
      "\u001b[36m(map_fun_BIC pid=56986)\u001b[0m 4 8 25 57.517910957336426\n",
      "\u001b[36m(map_fun_BIC pid=56989)\u001b[0m 2 22 25 27.064480543136597\n",
      "\u001b[36m(map_fun_BIC pid=56988)\u001b[0m 0 23 16 26.01516032218933\n",
      "\u001b[36m(map_fun_BIC pid=56987)\u001b[0m 1 15 27 50.71074414253235\n",
      "\u001b[36m(map_fun_BIC pid=56990)\u001b[0m 3 22 21 30.504682302474976\n",
      "\u001b[36m(map_fun_BIC pid=56989)\u001b[0m 2 23 24 22.15530037879944\n",
      "\u001b[36m(map_fun_BIC pid=56988)\u001b[0m 0 24 24 23.30150079727173\n",
      "\u001b[36m(map_fun_BIC pid=56989)\u001b[0m 2 24 33 21.99018359184265\n",
      "\u001b[36m(map_fun_BIC pid=56990)\u001b[0m 3 23 25 27.528888940811157\n",
      "\u001b[36m(map_fun_BIC pid=56987)\u001b[0m 1 16 26 36.63942193984985\n",
      "\u001b[36m(map_fun_BIC pid=56988)\u001b[0m 0 25 27 34.00067186355591\n",
      "\u001b[36m(map_fun_BIC pid=56990)\u001b[0m 3 24 26 26.21520471572876\n",
      "\u001b[36m(map_fun_BIC pid=56989)\u001b[0m 2 25 20 33.292829751968384\n",
      "\u001b[36m(map_fun_BIC pid=56988)\u001b[0m 0 26 23 36.901187896728516\n",
      "\u001b[36m(map_fun_BIC pid=56987)\u001b[0m 1 17 23 51.970839738845825\n",
      "\u001b[36m(map_fun_BIC pid=56990)\u001b[0m 3 25 22 34.63225483894348\n",
      "\u001b[36m(map_fun_BIC pid=56989)\u001b[0m 2 26 25 40.93193697929382\n",
      "\u001b[36m(map_fun_BIC pid=56986)\u001b[0m 4 9 25 131.43451642990112\n",
      "\u001b[36m(map_fun_BIC pid=56988)\u001b[0m 0 27 25 27.442631006240845\n",
      "\u001b[36m(map_fun_BIC pid=56987)\u001b[0m 1 18 30 40.2420380115509\n",
      "\u001b[36m(map_fun_BIC pid=56990)\u001b[0m 3 26 18 35.05722403526306\n",
      "\u001b[36m(map_fun_BIC pid=56989)\u001b[0m 2 27 23 27.60218858718872\n",
      "\u001b[36m(map_fun_BIC pid=56988)\u001b[0m 0 28 22 32.27276802062988\n",
      "\u001b[36m(map_fun_BIC pid=56990)\u001b[0m 3 27 25 24.084156036376953\n",
      "\u001b[36m(map_fun_BIC pid=56989)\u001b[0m 2 28 27 33.326995849609375\n",
      "\u001b[36m(map_fun_BIC pid=56988)\u001b[0m 0 29 23 25.040013074874878\n",
      "\u001b[36m(map_fun_BIC pid=56987)\u001b[0m 1 19 15 41.983845472335815\n",
      "\u001b[36m(map_fun_BIC pid=56990)\u001b[0m 3 28 21 32.86666250228882\n",
      "\u001b[36m(map_fun_BIC pid=56989)\u001b[0m 2 29 26 22.994015216827393\n",
      "\u001b[36m(map_fun_BIC pid=56988)\u001b[0m 0 30 25 24.780336141586304\n",
      "\u001b[36m(map_fun_BIC pid=56986)\u001b[0m 4 10 29 97.09233832359314\n",
      "\u001b[36m(map_fun_BIC pid=56990)\u001b[0m 3 29 24 24.50327777862549\n",
      "\u001b[36m(map_fun_BIC pid=56989)\u001b[0m 2 30 25 24.644312143325806\n",
      "\u001b[36m(map_fun_BIC pid=56988)\u001b[0m 0 31 15 27.02441120147705\n",
      "\u001b[36m(map_fun_BIC pid=56987)\u001b[0m 1 20 21 53.53082752227783\n",
      "\u001b[36m(map_fun_BIC pid=56989)\u001b[0m 2 31 30 20.860069036483765\n",
      "\u001b[36m(map_fun_BIC pid=56990)\u001b[0m 3 30 18 27.570346117019653\n",
      "\u001b[36m(map_fun_BIC pid=56988)\u001b[0m 0 32 25 21.88007354736328\n",
      "\u001b[36m(map_fun_BIC pid=56989)\u001b[0m 2 32 34 20.645697593688965\n",
      "\u001b[36m(map_fun_BIC pid=56987)\u001b[0m 1 21 28 33.329201459884644\n",
      "\u001b[36m(map_fun_BIC pid=56990)\u001b[0m 3 31 9 25.110162258148193\n",
      "\u001b[36m(map_fun_BIC pid=56988)\u001b[0m 0 33 21 35.516783714294434\n",
      "\u001b[36m(map_fun_BIC pid=56986)\u001b[0m 4 11 30 74.14013600349426\n",
      "\u001b[36m(map_fun_BIC pid=56989)\u001b[0m 2 33 25 34.752997636795044\n",
      "\u001b[36m(map_fun_BIC pid=56990)\u001b[0m 3 32 19 23.871764183044434\n",
      "\u001b[36m(map_fun_BIC pid=56987)\u001b[0m 1 22 25 39.20276665687561\n",
      "\u001b[36m(map_fun_BIC pid=56988)\u001b[0m 0 34 22 26.047651529312134\n",
      "\u001b[36m(map_fun_BIC pid=56989)\u001b[0m 2 34 22 23.244484424591064\n",
      "\u001b[36m(map_fun_BIC pid=56990)\u001b[0m 3 33 26 37.93700957298279\n",
      "\u001b[36m(map_fun_BIC pid=56988)\u001b[0m 0 35 24 22.448331594467163\n",
      "\u001b[36m(map_fun_BIC pid=56989)\u001b[0m 2 35 25 25.547515869140625\n",
      "\u001b[36m(map_fun_BIC pid=56987)\u001b[0m 1 23 33 49.72447729110718\n",
      "\u001b[36m(map_fun_BIC pid=56988)\u001b[0m 0 36 24 23.930185317993164\n",
      "\u001b[36m(map_fun_BIC pid=56990)\u001b[0m 3 34 26 25.028194904327393\n",
      "\u001b[36m(map_fun_BIC pid=56989)\u001b[0m 2 36 32 21.215349197387695\n",
      "\u001b[36m(map_fun_BIC pid=56986)\u001b[0m 4 12 42 82.50041079521179\n",
      "\u001b[36m(map_fun_BIC pid=56990)\u001b[0m 3 35 23 23.089549779891968\n",
      "\u001b[36m(map_fun_BIC pid=56988)\u001b[0m 0 37 25 23.83844494819641\n",
      "\u001b[36m(map_fun_BIC pid=56989)\u001b[0m 2 37 22 20.58611559867859\n",
      "\u001b[36m(map_fun_BIC pid=56987)\u001b[0m 1 24 31 44.73688220977783\n",
      "\u001b[36m(map_fun_BIC pid=56990)\u001b[0m 3 36 42 23.27270007133484\n",
      "\u001b[36m(map_fun_BIC pid=56988)\u001b[0m 0 38 24 27.80140995979309\n",
      "\u001b[36m(map_fun_BIC pid=56989)\u001b[0m 2 38 28 25.318493127822876\n",
      "\u001b[36m(map_fun_BIC pid=56990)\u001b[0m 3 37 29 21.8821542263031\n",
      "\u001b[36m(map_fun_BIC pid=56986)\u001b[0m 4 13 37 59.87028455734253\n",
      "\u001b[36m(map_fun_BIC pid=56989)\u001b[0m 2 39 22 21.98857831954956\n",
      "\u001b[36m(map_fun_BIC pid=56988)\u001b[0m 0 39 24 26.855034351348877\n",
      "\u001b[36m(map_fun_BIC pid=56987)\u001b[0m 1 25 25 50.886197566986084\n",
      "\u001b[36m(map_fun_BIC pid=56990)\u001b[0m 3 38 34 24.601007223129272\n",
      "\u001b[36m(map_fun_BIC pid=56989)\u001b[0m 2 40 24 24.379230499267578\n",
      "\u001b[36m(map_fun_BIC pid=56988)\u001b[0m 0 40 23 28.77873945236206\n",
      "\u001b[36m(map_fun_BIC pid=56986)\u001b[0m 4 14 21 42.36486792564392\n",
      "\u001b[36m(map_fun_BIC pid=56990)\u001b[0m 3 39 36 24.446711778640747\n",
      "\u001b[36m(map_fun_BIC pid=56989)\u001b[0m 2 41 24 25.33958387374878\n",
      "\u001b[36m(map_fun_BIC pid=56988)\u001b[0m 0 41 24 24.885387182235718\n",
      "\u001b[36m(map_fun_BIC pid=56990)\u001b[0m 3 40 22 25.69422149658203\n",
      "\u001b[36m(map_fun_BIC pid=56987)\u001b[0m 1 26 24 53.71429777145386\n",
      "\u001b[36m(map_fun_BIC pid=56989)\u001b[0m 2 42 43 20.480345010757446\n",
      "\u001b[36m(map_fun_BIC pid=56988)\u001b[0m 0 42 20 24.802180290222168\n",
      "\u001b[36m(map_fun_BIC pid=56989)\u001b[0m 2 43 21 25.1194167137146\n",
      "\u001b[36m(map_fun_BIC pid=56990)\u001b[0m 3 41 19 30.54207944869995\n",
      "\u001b[36m(map_fun_BIC pid=56986)\u001b[0m 4 15 25 59.10603904724121\n",
      "\u001b[36m(map_fun_BIC pid=56988)\u001b[0m 0 43 25 25.09690761566162\n",
      "\u001b[36m(map_fun_BIC pid=56987)\u001b[0m 1 27 33 47.80634045600891\n",
      "\u001b[36m(map_fun_BIC pid=56990)\u001b[0m 3 42 50 26.951293230056763\n",
      "\u001b[36m(map_fun_BIC pid=56986)\u001b[0m 4 16 26 27.458992958068848\n",
      "\u001b[36m(map_fun_BIC pid=56989)\u001b[0m 2 44 24 36.438401222229004\n",
      "\u001b[36m(map_fun_BIC pid=56988)\u001b[0m 0 44 22 36.48868680000305\n",
      "\u001b[36m(map_fun_BIC pid=56990)\u001b[0m 3 43 17 27.367916107177734\n",
      "\u001b[36m(map_fun_BIC pid=56989)\u001b[0m 2 45 25 29.769075632095337\n",
      "\u001b[36m(map_fun_BIC pid=56988)\u001b[0m 0 45 28 25.273627042770386\n",
      "\u001b[36m(map_fun_BIC pid=56986)\u001b[0m 4 17 27 43.026989459991455\n",
      "\u001b[36m(map_fun_BIC pid=56987)\u001b[0m 1 28 25 59.456902742385864\n",
      "\u001b[36m(map_fun_BIC pid=56989)\u001b[0m 2 46 24 25.712899446487427\n",
      "\u001b[36m(map_fun_BIC pid=56988)\u001b[0m 0 46 28 20.52882671356201\n",
      "\u001b[36m(map_fun_BIC pid=56990)\u001b[0m 3 44 21 36.157753467559814\n",
      "\u001b[36m(map_fun_BIC pid=56988)\u001b[0m 0 47 22 27.426095724105835\n",
      "\u001b[36m(map_fun_BIC pid=56990)\u001b[0m 3 45 33 28.24152946472168\n",
      "\u001b[36m(map_fun_BIC pid=56987)\u001b[0m 1 29 25 41.052194118499756\n",
      "\u001b[36m(map_fun_BIC pid=56989)\u001b[0m 2 47 24 31.271904706954956\n",
      "\u001b[36m(map_fun_BIC pid=56986)\u001b[0m 4 18 23 50.00397872924805\n",
      "\u001b[36m(map_fun_BIC pid=56988)\u001b[0m 0 48 20 24.68714451789856\n",
      "\u001b[36m(map_fun_BIC pid=56990)\u001b[0m 3 46 30 26.638359308242798\n",
      "\u001b[36m(map_fun_BIC pid=56989)\u001b[0m 2 48 23 25.524393796920776\n",
      "\u001b[36m(map_fun_BIC pid=56987)\u001b[0m 1 30 22 41.58256983757019\n",
      "\u001b[36m(map_fun_BIC pid=56988)\u001b[0m 0 49 28 24.524758338928223\n",
      "\u001b[36m(map_fun_BIC pid=56989)\u001b[0m 2 49 24 23.109232664108276\n",
      "\u001b[36m(map_fun_BIC pid=56990)\u001b[0m 3 47 24 27.59499478340149\n",
      "\u001b[36m(map_fun_BIC pid=56986)\u001b[0m 4 19 20 72.97722220420837\n",
      "\u001b[36m(map_fun_BIC pid=56989)\u001b[0m 2 50 24 27.359825134277344\n",
      "\u001b[36m(map_fun_BIC pid=56988)\u001b[0m 0 50 23 29.986634016036987\n",
      "\u001b[36m(map_fun_BIC pid=56990)\u001b[0m 3 48 25 26.891114950180054\n",
      "\u001b[36m(map_fun_BIC pid=56987)\u001b[0m 1 31 23 45.183531284332275\n",
      "\u001b[36m(map_fun_BIC pid=56989)\u001b[0m 2 51 21 21.293956518173218\n",
      "\u001b[36m(map_fun_BIC pid=56988)\u001b[0m 0 51 22 23.562453269958496\n",
      "\u001b[36m(map_fun_BIC pid=56990)\u001b[0m 3 49 40 24.69931173324585\n",
      "\u001b[36m(map_fun_BIC pid=56989)\u001b[0m 2 52 29 32.402631759643555\n",
      "\u001b[36m(map_fun_BIC pid=56988)\u001b[0m 0 52 26 31.778889894485474\n",
      "\u001b[36m(map_fun_BIC pid=56987)\u001b[0m 1 32 40 47.29171848297119\n",
      "\u001b[36m(map_fun_BIC pid=56990)\u001b[0m 3 50 27 29.528762817382812\n",
      "\u001b[36m(map_fun_BIC pid=56989)\u001b[0m 2 53 31 22.888822555541992\n",
      "\u001b[36m(map_fun_BIC pid=56988)\u001b[0m 0 53 25 25.357338905334473\n",
      "\u001b[36m(map_fun_BIC pid=56990)\u001b[0m 3 51 22 24.626946926116943\n",
      "\u001b[36m(map_fun_BIC pid=56989)\u001b[0m 2 54 24 28.69605278968811\n",
      "\u001b[36m(map_fun_BIC pid=56988)\u001b[0m 0 54 39 26.622957468032837\n",
      "\u001b[36m(map_fun_BIC pid=56986)\u001b[0m 4 20 21 116.65434193611145\n",
      "\u001b[36m(map_fun_BIC pid=56990)\u001b[0m 3 52 25 34.018733739852905\n",
      "\u001b[36m(map_fun_BIC pid=56987)\u001b[0m 1 33 33 68.91371846199036\n",
      "\u001b[36m(map_fun_BIC pid=56989)\u001b[0m 2 55 22 35.59815263748169\n",
      "\u001b[36m(map_fun_BIC pid=56990)\u001b[0m 3 53 38 24.469069004058838\n",
      "\u001b[36m(map_fun_BIC pid=56988)\u001b[0m 0 55 20 35.38379716873169\n",
      "\u001b[36m(map_fun_BIC pid=56989)\u001b[0m 2 56 27 25.094308614730835\n",
      "\u001b[36m(map_fun_BIC pid=56988)\u001b[0m 0 56 38 23.700690269470215\n",
      "\u001b[36m(map_fun_BIC pid=56990)\u001b[0m 3 54 25 30.220151662826538\n",
      "\u001b[36m(map_fun_BIC pid=56987)\u001b[0m 1 34 23 62.64051127433777\n",
      "\u001b[36m(map_fun_BIC pid=56988)\u001b[0m 0 57 28 25.775187015533447\n",
      "\u001b[36m(map_fun_BIC pid=56989)\u001b[0m 2 57 22 30.978874683380127\n",
      "\u001b[36m(map_fun_BIC pid=56986)\u001b[0m 4 21 41 84.10228180885315\n",
      "\u001b[36m(map_fun_BIC pid=56990)\u001b[0m 3 55 23 36.24027228355408\n",
      "\u001b[36m(map_fun_BIC pid=56988)\u001b[0m 0 58 28 28.66156005859375\n",
      "\u001b[36m(map_fun_BIC pid=56989)\u001b[0m 2 58 24 28.195523738861084\n",
      "\u001b[36m(map_fun_BIC pid=56987)\u001b[0m 1 35 21 46.48174500465393\n",
      "\u001b[36m(map_fun_BIC pid=56990)\u001b[0m 3 56 27 29.094035625457764\n",
      "\u001b[36m(map_fun_BIC pid=56988)\u001b[0m 0 59 20 24.423803091049194\n",
      "\u001b[36m(map_fun_BIC pid=56989)\u001b[0m 2 59 22 26.75971508026123\n",
      "\u001b[36m(map_fun_BIC pid=56990)\u001b[0m 3 57 25 26.912980556488037\n",
      "\u001b[36m(map_fun_BIC pid=56986)\u001b[0m 4 22 25 70.09204387664795\n",
      "\u001b[36m(map_fun_BIC pid=56988)\u001b[0m 0 60 23 35.02048373222351\n",
      "\u001b[36m(map_fun_BIC pid=56987)\u001b[0m 1 36 23 48.71852970123291\n",
      "\u001b[36m(map_fun_BIC pid=56989)\u001b[0m 2 60 19 35.56909990310669\n",
      "\u001b[36m(map_fun_BIC pid=56990)\u001b[0m 3 58 30 29.030596017837524\n",
      "\u001b[36m(map_fun_BIC pid=56988)\u001b[0m 0 61 22 27.536370277404785\n",
      "\u001b[36m(map_fun_BIC pid=56989)\u001b[0m 2 61 23 26.450564861297607\n",
      "\u001b[36m(map_fun_BIC pid=56986)\u001b[0m 4 23 22 45.81741499900818\n",
      "\u001b[36m(map_fun_BIC pid=56990)\u001b[0m 3 59 43 27.53036594390869\n",
      "\u001b[36m(map_fun_BIC pid=56988)\u001b[0m 0 62 14 29.47217845916748\n",
      "\u001b[36m(map_fun_BIC pid=56989)\u001b[0m 2 62 26 25.790455102920532\n",
      "\u001b[36m(map_fun_BIC pid=56987)\u001b[0m 1 37 50 60.35478901863098\n",
      "\u001b[36m(map_fun_BIC pid=56990)\u001b[0m 3 60 22 38.59488368034363\n",
      "\u001b[36m(map_fun_BIC pid=56986)\u001b[0m 4 24 27 46.64786148071289\n",
      "\u001b[36m(map_fun_BIC pid=56989)\u001b[0m 2 63 23 25.099483251571655\n",
      "\u001b[36m(map_fun_BIC pid=56988)\u001b[0m 0 63 19 27.364066123962402\n"
     ]
    }
   ],
   "source": [
    "BB = 100\n",
    "tic1 = time()\n",
    "tasks = [map_fun_BIC.remote(bb) for bb in range(BB)]\n",
    "resultsn1200_p1001BIC = ray.get(tasks)  # 等待所有任务完成\n",
    "toc1 = time()\n",
    "print(toc1 - tic1) # 总的计算时间"
   ]
  },
  {
   "cell_type": "code",
   "execution_count": 129,
   "id": "4b7731c0-8e27-452e-a90c-fcd45b4391e0",
   "metadata": {
    "tags": []
   },
   "outputs": [],
   "source": [
    "BIC_set_n1200_p100_B100 = np.zeros((BB,BICn,p))\n",
    "min_index_n1200_p100_B100 = np.zeros((BB,p))\n",
    "beta_est_n1200_p100_B100 = np.zeros((BB,p,q))\n",
    "for bt in range(BB):\n",
    "    BIC_set_n1200_p100_B100[bt,:,:], min_index_n1200_p100_B100[bt,:], beta_est_n1200_p100_B100[bt,:,:] = resultsn1200_p1001BIC[bt][0].T, resultsn1200_p1001BIC[bt][1], resultsn1200_p1001BIC[bt][2]"
   ]
  },
  {
   "cell_type": "code",
   "execution_count": 132,
   "id": "417964ca-b044-46da-9244-47243f9baae6",
   "metadata": {
    "tags": []
   },
   "outputs": [
    {
     "data": {
      "text/plain": [
       "0.99957"
      ]
     },
     "execution_count": 132,
     "metadata": {},
     "output_type": "execute_result"
    }
   ],
   "source": [
    "# averge selection consistency\n",
    "1 - np.mean(abs((beta_est_n1200_p100_B100[:,:,:] > thre).astype(int) - (beta > thre).astype(int)))"
   ]
  },
  {
   "cell_type": "code",
   "execution_count": 131,
   "id": "17483f50-2b71-442e-b021-55f5327ad58e",
   "metadata": {
    "tags": []
   },
   "outputs": [
    {
     "data": {
      "text/plain": [
       "0.65"
      ]
     },
     "execution_count": 131,
     "metadata": {},
     "output_type": "execute_result"
    }
   ],
   "source": [
    "# uniform selection consistency\n",
    "1 - len(set(np.where((beta_est_n1200_p100_B100[:,:,:] > thre).astype(int) - (beta > thre).astype(int) != 0)[0]))/100"
   ]
  },
  {
   "cell_type": "code",
   "execution_count": 134,
   "id": "e29af572-f491-423e-b93e-f89d8e4de783",
   "metadata": {
    "tags": []
   },
   "outputs": [],
   "source": [
    "#Save results\n",
    "pd.DataFrame(min_index_n1200_p100_B100).to_csv(\"Results_LSM_BIC/n1200_p100_B100/min_index_LSM_n1200_p100.csv\",index=False)\n",
    "for b in range(BB):\n",
    "    pd.DataFrame(BIC_set_n1200_p100_B100[b,:,:]).to_csv(\"Results_LSM_BIC/n1200_p100_B100/BIC_set_LSM_n1200_p100_\"+str(b)+'_.csv',index=False)\n",
    "    pd.DataFrame(beta_est_n1200_p100_B100[b,:,:]).to_csv(\"Results_LSM_BIC/n1200_p100_B100/beta_est_LSM_n1200_p100_\"+str(b)+'_.csv',index=False)"
   ]
  },
  {
   "cell_type": "code",
   "execution_count": null,
   "id": "c4ce24e6",
   "metadata": {},
   "outputs": [],
   "source": []
  },
  {
   "cell_type": "code",
   "execution_count": null,
   "id": "0e568b25",
   "metadata": {},
   "outputs": [],
   "source": []
  }
 ],
 "metadata": {
  "kernelspec": {
   "display_name": "myconda",
   "language": "python",
   "name": "myconda"
  },
  "language_info": {
   "codemirror_mode": {
    "name": "ipython",
    "version": 3
   },
   "file_extension": ".py",
   "mimetype": "text/x-python",
   "name": "python",
   "nbconvert_exporter": "python",
   "pygments_lexer": "ipython3",
   "version": "3.10.12"
  }
 },
 "nbformat": 4,
 "nbformat_minor": 5
}
